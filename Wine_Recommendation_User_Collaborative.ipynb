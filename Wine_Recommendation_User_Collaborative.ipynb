{
 "cells": [
  {
   "cell_type": "code",
   "execution_count": 64,
   "metadata": {
    "collapsed": true,
    "pycharm": {
     "is_executing": false
    }
   },
   "outputs": [],
   "source": [
    "import numpy as np \n",
    "import pandas as pd \n",
    "import pymysql\n",
    "import matplotlib.pyplot as plt\n",
    "from sklearn.metrics import pairwise_distances\n",
    "\n"
   ]
  },
  {
   "cell_type": "code",
   "execution_count": null,
   "outputs": [],
   "source": [
    "# This method takes the database connection.\n",
    "conn = pymysql.connect(host='localhost', port=int(3306), user='yabaconsultoria', passwd='yaba2389', db=\"livedwine\",\n",
    "                           charset='utf8')"
   ],
   "metadata": {
    "collapsed": false,
    "pycharm": {
     "name": "#%%\n"
    }
   }
  },
  {
   "cell_type": "code",
   "execution_count": null,
   "outputs": [],
   "source": [
    "# Import wines dataset\n",
    "wines = pd.read_sql_query(\n",
    "        \"SELECT wine_id, alcohol_content, country, harvest, wine_name, producer, region, service, type, volume, (SELECT GROUP_CONCAT(wine_grape.grape separator ', ') from wine_grape where wine_id = wine.wine_id) as grape, (SELECT GROUP_CONCAT(wine_harmonization.harmonization separator ', ') from wine_harmonization where wine_id = wine.wine_id) as harmonization FROM wine\",\n",
    "        conn)\n",
    "wines.head()"
   ],
   "metadata": {
    "collapsed": false,
    "pycharm": {
     "name": "#%%\n"
    }
   }
  },
  {
   "cell_type": "code",
   "execution_count": null,
   "outputs": [],
   "source": [
    "# Import matrix dataset\n",
    "ratings = pd.read_sql_query(\"SELECT * FROM rating\", conn)\n",
    "ratings.head()"
   ],
   "metadata": {
    "collapsed": false,
    "pycharm": {
     "name": "#%%\n"
    }
   }
  },
  {
   "cell_type": "code",
   "execution_count": null,
   "outputs": [],
   "source": [
    "# Merge wine dataset with matrix dataset\n",
    "conn.close()\n",
    "df = pd.merge(wines, ratings)\n",
    "df.head()"
   ],
   "metadata": {
    "collapsed": false,
    "pycharm": {
     "name": "#%%\n"
    }
   }
  },
  {
   "cell_type": "code",
   "execution_count": 71,
   "metadata": {
    "pycharm": {
     "is_executing": false,
     "name": "#%%\n"
    }
   },
   "outputs": [
    {
     "name": "stdout",
     "text": [
      "<class 'pandas.core.frame.DataFrame'>\nInt64Index: 4929 entries, 0 to 4928\nData columns (total 15 columns):\nwine_id            4929 non-null int64\nwine_name          4929 non-null object\ntype               4929 non-null object\ncountry            4929 non-null object\nregion             4929 non-null object\nalcohol_content    4929 non-null object\nproducer           4929 non-null object\nservice            4929 non-null int64\nvolume             4929 non-null int64\ngrape              4876 non-null object\nharvest            4929 non-null object\nharmonization      4929 non-null object\nimage              4929 non-null object\nuser_id            4929 non-null int64\nrating             4929 non-null int64\ndtypes: int64(5), object(10)\nmemory usage: 616.1+ KB\n"
     ],
     "output_type": "stream"
    }
   ],
   "source": [
    "# Dataset info\n",
    "df.info()"
   ]
  },
  {
   "cell_type": "code",
   "execution_count": 72,
   "metadata": {
    "pycharm": {
     "is_executing": false,
     "name": "#%%\n"
    }
   },
   "outputs": [
    {
     "data": {
      "text/plain": "                                                   rating          \n                                                     size      mean\nwine_name                                                          \nAbadia del Roble White La Mancha D.O                   29  2.379310\nAlqueve Branco 2017                                    23  2.608696\nAltivo Vineyard Selection La Rioja Torrontes 2018      25  2.560000\nAnciano 35 Years Old Vines Garnacha Calatayud D...     34  2.352941\nAnciano Crianza 3 years Tempranillo Valdepeñas ...     40  2.575000",
      "text/html": "<div>\n<style scoped>\n    .dataframe tbody tr th:only-of-type {\n        vertical-align: middle;\n    }\n\n    .dataframe tbody tr th {\n        vertical-align: top;\n    }\n\n    .dataframe thead tr th {\n        text-align: left;\n    }\n\n    .dataframe thead tr:last-of-type th {\n        text-align: right;\n    }\n</style>\n<table border=\"1\" class=\"dataframe\">\n  <thead>\n    <tr>\n      <th></th>\n      <th colspan=\"2\" halign=\"left\">rating</th>\n    </tr>\n    <tr>\n      <th></th>\n      <th>size</th>\n      <th>mean</th>\n    </tr>\n    <tr>\n      <th>wine_name</th>\n      <th></th>\n      <th></th>\n    </tr>\n  </thead>\n  <tbody>\n    <tr>\n      <th>Abadia del Roble White La Mancha D.O</th>\n      <td>29</td>\n      <td>2.379310</td>\n    </tr>\n    <tr>\n      <th>Alqueve Branco 2017</th>\n      <td>23</td>\n      <td>2.608696</td>\n    </tr>\n    <tr>\n      <th>Altivo Vineyard Selection La Rioja Torrontes 2018</th>\n      <td>25</td>\n      <td>2.560000</td>\n    </tr>\n    <tr>\n      <th>Anciano 35 Years Old Vines Garnacha Calatayud D.O. 2016</th>\n      <td>34</td>\n      <td>2.352941</td>\n    </tr>\n    <tr>\n      <th>Anciano Crianza 3 years Tempranillo Valdepeñas D.O. 2015</th>\n      <td>40</td>\n      <td>2.575000</td>\n    </tr>\n  </tbody>\n</table>\n</div>"
     },
     "metadata": {},
     "output_type": "execute_result",
     "execution_count": 72
    }
   ],
   "source": [
    "# Average wine ratings\n",
    "wines_stats = df.groupby('wine_name').agg({'rating': [np.size, np.mean]})\n",
    "wines_stats.head()"
   ]
  },
  {
   "cell_type": "code",
   "execution_count": 73,
   "metadata": {
    "pycharm": {
     "is_executing": false,
     "name": "#%%\n"
    }
   },
   "outputs": [
    {
     "data": {
      "text/plain": "                                                   rating          \n                                                     size      mean\nwine_name                                                          \nMiliasso Primitivo di Manduria DOC 2017                34  3.235294\nFantinel Eclisse La Roncaia I.G.T. Venezia Giul...     25  3.120000\nRose Confidentielle 2017                               30  3.100000\nEl Bautismo El Criollo Rosado 2018                     25  3.080000\nPueblo del Sol Reserva Chardonnay 2018                 28  3.071429\nBarranc del Rei D.O.P. Valencia Blanco 2017            29  3.068966\nPinhal da Torre Late Harvest Tardio 2010 500 ml        30  3.066667\nVila Vita Branco 2016                                  23  3.043478\nPegaso Verdejo 2018                                    25  3.040000\nExpedicion Single Vineyard Selection Cabernet S...     33  3.030303",
      "text/html": "<div>\n<style scoped>\n    .dataframe tbody tr th:only-of-type {\n        vertical-align: middle;\n    }\n\n    .dataframe tbody tr th {\n        vertical-align: top;\n    }\n\n    .dataframe thead tr th {\n        text-align: left;\n    }\n\n    .dataframe thead tr:last-of-type th {\n        text-align: right;\n    }\n</style>\n<table border=\"1\" class=\"dataframe\">\n  <thead>\n    <tr>\n      <th></th>\n      <th colspan=\"2\" halign=\"left\">rating</th>\n    </tr>\n    <tr>\n      <th></th>\n      <th>size</th>\n      <th>mean</th>\n    </tr>\n    <tr>\n      <th>wine_name</th>\n      <th></th>\n      <th></th>\n    </tr>\n  </thead>\n  <tbody>\n    <tr>\n      <th>Miliasso Primitivo di Manduria DOC 2017</th>\n      <td>34</td>\n      <td>3.235294</td>\n    </tr>\n    <tr>\n      <th>Fantinel Eclisse La Roncaia I.G.T. Venezia Giulia Branco 2016</th>\n      <td>25</td>\n      <td>3.120000</td>\n    </tr>\n    <tr>\n      <th>Rose Confidentielle 2017</th>\n      <td>30</td>\n      <td>3.100000</td>\n    </tr>\n    <tr>\n      <th>El Bautismo El Criollo Rosado 2018</th>\n      <td>25</td>\n      <td>3.080000</td>\n    </tr>\n    <tr>\n      <th>Pueblo del Sol Reserva Chardonnay 2018</th>\n      <td>28</td>\n      <td>3.071429</td>\n    </tr>\n    <tr>\n      <th>Barranc del Rei D.O.P. Valencia Blanco 2017</th>\n      <td>29</td>\n      <td>3.068966</td>\n    </tr>\n    <tr>\n      <th>Pinhal da Torre Late Harvest Tardio 2010 500 ml</th>\n      <td>30</td>\n      <td>3.066667</td>\n    </tr>\n    <tr>\n      <th>Vila Vita Branco 2016</th>\n      <td>23</td>\n      <td>3.043478</td>\n    </tr>\n    <tr>\n      <th>Pegaso Verdejo 2018</th>\n      <td>25</td>\n      <td>3.040000</td>\n    </tr>\n    <tr>\n      <th>Expedicion Single Vineyard Selection Cabernet Sauvignon 2019</th>\n      <td>33</td>\n      <td>3.030303</td>\n    </tr>\n  </tbody>\n</table>\n</div>"
     },
     "metadata": {},
     "output_type": "execute_result",
     "execution_count": 73
    }
   ],
   "source": [
    "# Filters the statistical dataset with wines that have more than x analyzes.\n",
    "min_10 = wines_stats['rating']['size'] >= 2.5\n",
    "wines_stats[min_10].sort_values([('rating', 'mean')], ascending = False).head(10)"
   ]
  },
  {
   "cell_type": "code",
   "execution_count": 74,
   "metadata": {
    "pycharm": {
     "is_executing": false,
     "name": "#%%\n"
    }
   },
   "outputs": [
    {
     "data": {
      "text/plain": "Text(0.5, 0, 'Rating')"
     },
     "metadata": {},
     "output_type": "execute_result",
     "execution_count": 74
    },
    {
     "data": {
      "text/plain": "<Figure size 432x288 with 1 Axes>",
      "image/png": "[encoded data removed]"
     },
     "metadata": {
      "needs_background": "light"
     },
     "output_type": "display_data"
    }
   ],
   "source": [
    "# Distribution Chart - Rating x User\n",
    "ratings.rating.plot.hist(bins = 25)\n",
    "plt.title('Distribution Chart - Rating x User')\n",
    "plt.ylabel('Quantities of Ratings')\n",
    "plt.xlabel('Rating')"
   ]
  },
  {
   "cell_type": "code",
   "execution_count": 75,
   "metadata": {
    "pycharm": {
     "is_executing": false,
     "name": "#%%\n"
    }
   },
   "outputs": [
    {
     "data": {
      "text/plain": "        rating                                               ...            \\\nuser_id   1    2    3    4    5    6    7    8    9    10    ... 991  992    \n0          0.0  0.0  0.0  0.0  0.0  0.0  0.0  0.0  0.0  0.0  ...  0.0  0.0   \n1          0.0  0.0  0.0  0.0  0.0  0.0  0.0  0.0  0.0  0.0  ...  0.0  0.0   \n2          0.0  0.0  0.0  0.0  0.0  0.0  0.0  0.0  0.0  0.0  ...  0.0  0.0   \n3          0.0  0.0  0.0  0.0  0.0  0.0  0.0  0.0  0.0  0.0  ...  0.0  0.0   \n4          0.0  0.0  0.0  0.0  0.0  0.0  0.0  0.0  0.0  0.0  ...  0.0  0.0   \n\n                                                 \nuser_id 993  994  995  996  997  998  999  1000  \n0        0.0  0.0  0.0  0.0  0.0  4.0  0.0  0.0  \n1        0.0  0.0  0.0  0.0  0.0  0.0  0.0  0.0  \n2        0.0  0.0  0.0  0.0  0.0  0.0  0.0  0.0  \n3        0.0  0.0  0.0  0.0  0.0  0.0  0.0  0.0  \n4        0.0  0.0  0.0  0.0  0.0  0.0  0.0  3.0  \n\n[5 rows x 991 columns]",
      "text/html": "<div>\n<style scoped>\n    .dataframe tbody tr th:only-of-type {\n        vertical-align: middle;\n    }\n\n    .dataframe tbody tr th {\n        vertical-align: top;\n    }\n\n    .dataframe thead tr th {\n        text-align: left;\n    }\n</style>\n<table border=\"1\" class=\"dataframe\">\n  <thead>\n    <tr>\n      <th></th>\n      <th colspan=\"21\" halign=\"left\">rating</th>\n    </tr>\n    <tr>\n      <th>user_id</th>\n      <th>1</th>\n      <th>2</th>\n      <th>3</th>\n      <th>4</th>\n      <th>5</th>\n      <th>6</th>\n      <th>7</th>\n      <th>8</th>\n      <th>9</th>\n      <th>10</th>\n      <th>...</th>\n      <th>991</th>\n      <th>992</th>\n      <th>993</th>\n      <th>994</th>\n      <th>995</th>\n      <th>996</th>\n      <th>997</th>\n      <th>998</th>\n      <th>999</th>\n      <th>1000</th>\n    </tr>\n  </thead>\n  <tbody>\n    <tr>\n      <th>0</th>\n      <td>0.0</td>\n      <td>0.0</td>\n      <td>0.0</td>\n      <td>0.0</td>\n      <td>0.0</td>\n      <td>0.0</td>\n      <td>0.0</td>\n      <td>0.0</td>\n      <td>0.0</td>\n      <td>0.0</td>\n      <td>...</td>\n      <td>0.0</td>\n      <td>0.0</td>\n      <td>0.0</td>\n      <td>0.0</td>\n      <td>0.0</td>\n      <td>0.0</td>\n      <td>0.0</td>\n      <td>4.0</td>\n      <td>0.0</td>\n      <td>0.0</td>\n    </tr>\n    <tr>\n      <th>1</th>\n      <td>0.0</td>\n      <td>0.0</td>\n      <td>0.0</td>\n      <td>0.0</td>\n      <td>0.0</td>\n      <td>0.0</td>\n      <td>0.0</td>\n      <td>0.0</td>\n      <td>0.0</td>\n      <td>0.0</td>\n      <td>...</td>\n      <td>0.0</td>\n      <td>0.0</td>\n      <td>0.0</td>\n      <td>0.0</td>\n      <td>0.0</td>\n      <td>0.0</td>\n      <td>0.0</td>\n      <td>0.0</td>\n      <td>0.0</td>\n      <td>0.0</td>\n    </tr>\n    <tr>\n      <th>2</th>\n      <td>0.0</td>\n      <td>0.0</td>\n      <td>0.0</td>\n      <td>0.0</td>\n      <td>0.0</td>\n      <td>0.0</td>\n      <td>0.0</td>\n      <td>0.0</td>\n      <td>0.0</td>\n      <td>0.0</td>\n      <td>...</td>\n      <td>0.0</td>\n      <td>0.0</td>\n      <td>0.0</td>\n      <td>0.0</td>\n      <td>0.0</td>\n      <td>0.0</td>\n      <td>0.0</td>\n      <td>0.0</td>\n      <td>0.0</td>\n      <td>0.0</td>\n    </tr>\n    <tr>\n      <th>3</th>\n      <td>0.0</td>\n      <td>0.0</td>\n      <td>0.0</td>\n      <td>0.0</td>\n      <td>0.0</td>\n      <td>0.0</td>\n      <td>0.0</td>\n      <td>0.0</td>\n      <td>0.0</td>\n      <td>0.0</td>\n      <td>...</td>\n      <td>0.0</td>\n      <td>0.0</td>\n      <td>0.0</td>\n      <td>0.0</td>\n      <td>0.0</td>\n      <td>0.0</td>\n      <td>0.0</td>\n      <td>0.0</td>\n      <td>0.0</td>\n      <td>0.0</td>\n    </tr>\n    <tr>\n      <th>4</th>\n      <td>0.0</td>\n      <td>0.0</td>\n      <td>0.0</td>\n      <td>0.0</td>\n      <td>0.0</td>\n      <td>0.0</td>\n      <td>0.0</td>\n      <td>0.0</td>\n      <td>0.0</td>\n      <td>0.0</td>\n      <td>...</td>\n      <td>0.0</td>\n      <td>0.0</td>\n      <td>0.0</td>\n      <td>0.0</td>\n      <td>0.0</td>\n      <td>0.0</td>\n      <td>0.0</td>\n      <td>0.0</td>\n      <td>0.0</td>\n      <td>3.0</td>\n    </tr>\n  </tbody>\n</table>\n<p>5 rows × 991 columns</p>\n</div>"
     },
     "metadata": {},
     "output_type": "execute_result",
     "execution_count": 75
    }
   ],
   "source": [
    "# Pivo Table\n",
    "matrix = ratings.pivot_table(index = ['wine_id'], columns = ['user_id'], values =  ['rating']).reset_index(drop = True)\n",
    "matrix.fillna( 0, inplace = True )\n",
    "matrix.head()"
   ]
  },
  {
   "cell_type": "code",
   "execution_count": 76,
   "metadata": {
    "pycharm": {
     "is_executing": false,
     "name": "#%%\n"
    }
   },
   "outputs": [
    {
     "data": {
      "text/plain": "        0         1         2         3         4    5         6         7    \\\n0  0.000000  0.087221  0.000000  0.000000  0.000000  0.0  0.007888  0.000000   \n1  0.087221  0.000000  0.000000  0.039728  0.017270  0.0  0.000000  0.034405   \n2  0.000000  0.000000  0.000000  0.023313  0.000000  0.0  0.040203  0.010095   \n3  0.000000  0.039728  0.023313  0.000000  0.075471  0.0  0.000000  0.012028   \n4  0.000000  0.017270  0.000000  0.075471  0.000000  0.0  0.053102  0.000000   \n\n        8         9    ...       160       161       162       163       164  \\\n0  0.088768  0.000000  ...  0.016878  0.000000  0.000000  0.056491  0.000000   \n1  0.067289  0.000000  ...  0.021990  0.000000  0.105579  0.000000  0.000000   \n2  0.102828  0.035721  ...  0.000000  0.000000  0.013768  0.000000  0.000000   \n3  0.000000  0.053204  ...  0.000000  0.000000  0.012304  0.003431  0.011785   \n4  0.000000  0.000000  ...  0.000000  0.011147  0.000000  0.026845  0.000000   \n\n        165       166       167      168       169  \n0  0.067948  0.006965  0.036606  0.04361  0.000000  \n1  0.070821  0.000000  0.000000  0.00000  0.000000  \n2  0.025974  0.000000  0.053308  0.00000  0.000000  \n3  0.038687  0.063449  0.000000  0.00000  0.014398  \n4  0.000000  0.000000  0.103546  0.00000  0.015647  \n\n[5 rows x 170 columns]",
      "text/html": "<div>\n<style scoped>\n    .dataframe tbody tr th:only-of-type {\n        vertical-align: middle;\n    }\n\n    .dataframe tbody tr th {\n        vertical-align: top;\n    }\n\n    .dataframe thead th {\n        text-align: right;\n    }\n</style>\n<table border=\"1\" class=\"dataframe\">\n  <thead>\n    <tr style=\"text-align: right;\">\n      <th></th>\n      <th>0</th>\n      <th>1</th>\n      <th>2</th>\n      <th>3</th>\n      <th>4</th>\n      <th>5</th>\n      <th>6</th>\n      <th>7</th>\n      <th>8</th>\n      <th>9</th>\n      <th>...</th>\n      <th>160</th>\n      <th>161</th>\n      <th>162</th>\n      <th>163</th>\n      <th>164</th>\n      <th>165</th>\n      <th>166</th>\n      <th>167</th>\n      <th>168</th>\n      <th>169</th>\n    </tr>\n  </thead>\n  <tbody>\n    <tr>\n      <th>0</th>\n      <td>0.000000</td>\n      <td>0.087221</td>\n      <td>0.000000</td>\n      <td>0.000000</td>\n      <td>0.000000</td>\n      <td>0.0</td>\n      <td>0.007888</td>\n      <td>0.000000</td>\n      <td>0.088768</td>\n      <td>0.000000</td>\n      <td>...</td>\n      <td>0.016878</td>\n      <td>0.000000</td>\n      <td>0.000000</td>\n      <td>0.056491</td>\n      <td>0.000000</td>\n      <td>0.067948</td>\n      <td>0.006965</td>\n      <td>0.036606</td>\n      <td>0.04361</td>\n      <td>0.000000</td>\n    </tr>\n    <tr>\n      <th>1</th>\n      <td>0.087221</td>\n      <td>0.000000</td>\n      <td>0.000000</td>\n      <td>0.039728</td>\n      <td>0.017270</td>\n      <td>0.0</td>\n      <td>0.000000</td>\n      <td>0.034405</td>\n      <td>0.067289</td>\n      <td>0.000000</td>\n      <td>...</td>\n      <td>0.021990</td>\n      <td>0.000000</td>\n      <td>0.105579</td>\n      <td>0.000000</td>\n      <td>0.000000</td>\n      <td>0.070821</td>\n      <td>0.000000</td>\n      <td>0.000000</td>\n      <td>0.00000</td>\n      <td>0.000000</td>\n    </tr>\n    <tr>\n      <th>2</th>\n      <td>0.000000</td>\n      <td>0.000000</td>\n      <td>0.000000</td>\n      <td>0.023313</td>\n      <td>0.000000</td>\n      <td>0.0</td>\n      <td>0.040203</td>\n      <td>0.010095</td>\n      <td>0.102828</td>\n      <td>0.035721</td>\n      <td>...</td>\n      <td>0.000000</td>\n      <td>0.000000</td>\n      <td>0.013768</td>\n      <td>0.000000</td>\n      <td>0.000000</td>\n      <td>0.025974</td>\n      <td>0.000000</td>\n      <td>0.053308</td>\n      <td>0.00000</td>\n      <td>0.000000</td>\n    </tr>\n    <tr>\n      <th>3</th>\n      <td>0.000000</td>\n      <td>0.039728</td>\n      <td>0.023313</td>\n      <td>0.000000</td>\n      <td>0.075471</td>\n      <td>0.0</td>\n      <td>0.000000</td>\n      <td>0.012028</td>\n      <td>0.000000</td>\n      <td>0.053204</td>\n      <td>...</td>\n      <td>0.000000</td>\n      <td>0.000000</td>\n      <td>0.012304</td>\n      <td>0.003431</td>\n      <td>0.011785</td>\n      <td>0.038687</td>\n      <td>0.063449</td>\n      <td>0.000000</td>\n      <td>0.00000</td>\n      <td>0.014398</td>\n    </tr>\n    <tr>\n      <th>4</th>\n      <td>0.000000</td>\n      <td>0.017270</td>\n      <td>0.000000</td>\n      <td>0.075471</td>\n      <td>0.000000</td>\n      <td>0.0</td>\n      <td>0.053102</td>\n      <td>0.000000</td>\n      <td>0.000000</td>\n      <td>0.000000</td>\n      <td>...</td>\n      <td>0.000000</td>\n      <td>0.011147</td>\n      <td>0.000000</td>\n      <td>0.026845</td>\n      <td>0.000000</td>\n      <td>0.000000</td>\n      <td>0.000000</td>\n      <td>0.103546</td>\n      <td>0.00000</td>\n      <td>0.015647</td>\n    </tr>\n  </tbody>\n</table>\n<p>5 rows × 170 columns</p>\n</div>"
     },
     "metadata": {},
     "output_type": "execute_result",
     "execution_count": 76
    }
   ],
   "source": [
    "# Calculate Cosine Similarity\n",
    "wine_similarity = 1 - pairwise_distances(matrix.to_numpy(), metric = 'cosine')\n",
    "np.fill_diagonal(wine_similarity, 0)\n",
    "matrix = pd.DataFrame(wine_similarity)\n",
    "matrix.head()\n"
   ]
  },
  {
   "cell_type": "code",
   "execution_count": 83,
   "metadata": {
    "pycharm": {
     "is_executing": false,
     "name": "#%%\n"
    }
   },
   "outputs": [
    {
     "name": "stdout",
     "text": [
      "Vinho não localizado.\n"
     ],
     "output_type": "stream"
    }
   ],
   "source": [
    "# Recommendation System\n",
    "try:\n",
    "    wine_key = input(\"Digite o de um vinho existente na database: \")    \n",
    "    wine = wines[wines['wine_name'] == wine_key].index.tolist()\n",
    "    wine = wine[0]\n",
    "    \n",
    "    wines['similarity'] = matrix.iloc[wine]\n",
    "    wines.drop_duplicates('wine_id')\n",
    "    wines.columns = ['wine_id', 'wine_name', 'type', 'country', 'region', 'alcohol_content', 'producer', 'service', 'volume', 'grape', 'harvest', 'harmonization', 'image', 'similatiry']\n",
    "    wines.head()\n",
    "except:\n",
    "    print(\"Vinho não localizado.\")\n",
    "     \n",
    "    "
   ]
  },
  {
   "cell_type": "code",
   "execution_count": 84,
   "metadata": {
    "pycharm": {
     "is_executing": false,
     "name": "#%%\n"
    }
   },
   "outputs": [
    {
     "name": "stdout",
     "text": [
      "Vinhos recomendados com base na sua escolha de  Anciano Gran Reserva 10 years Valdepeñas D.O. 2007\n"
     ],
     "output_type": "stream"
    },
    {
     "data": {
      "text/plain": "     wine_id                                          wine_name    type  \\\n154      155                            Sovento Chardonnay 2018  Branco   \n167      168                                   Protos Rose 2017    Rose   \n86        87   Madame Veuve Point Pinot Noir Bourgogne AOP 2016   Tinto   \n163      164                 El Bautismo El Criollo Rosado 2018    Rose   \n132      133                   Tierra del Mar Tannat Tinto 2018   Tinto   \n..       ...                                                ...     ...   \n176      177  Palafitos de Mar Semi Sweet Rose Cabernet Sauv...    Rose   \n177      178    Enclos du Wine Hunter A.O.C. Bordeaux Rose 2018    Rose   \n178      179                           Altivo Classic Rose 2018    Rose   \n179      180                                 Urmeneta Rose 2018    Rose   \n180      181                 Partridge Reserva Malbec Rose 2018    Rose   \n\n       country              region alcohol_content                 producer  \\\n154    Espanha  Castilla-La Mancha            11,5  Bodegas Fernando Castro   \n167    Espanha   Ribeira del Duero            13,0                   Protos   \n86      França            Borgonha            12,5       Madame Veuve Point   \n163  Argentina            Mendonza            13,5      La Liga de Enologos   \n132    Uruguai           Canelones            13,0           Aurora Uruguai   \n..         ...                 ...             ...                      ...   \n176      Chile       Valle Central            12,5                     Wine   \n177     França            Bordeaux            12,5  Enclos du Winter Hunter   \n178  Argentina            Mendonza            13,0     Finca Eugenio Bustos   \n179      Chile       Valle Central            12,0                 Urmeneta   \n180  Argentina            Mendonza            12,5        Vina Las Perdices   \n\n     service  volume                       grape harvest  \\\n154        7     750                  Chardonnay    2018   \n167       10     750                 Tempranillo    2017   \n86        12     750                  Pinot Noir    2016   \n163        9     750                     Criolla    2018   \n132       17     750                      Tannat    2018   \n..       ...     ...                         ...     ...   \n176       14     750   Syrah, Cabernet Sauvignon    2019   \n177        7     750                 Varias uvas    2018   \n178        8     750                      Malbec    2018   \n179        8     750  Cabernet Sauvignon, Merlot    2018   \n180        9     750                      Malbec    2018   \n\n                                         harmonization  \\\n154                     Salmao, peixes com molho, aves   \n167  Posta de atum grelhada com crosta de gergelim,...   \n86                                                None   \n163  Camarão empanado, talharim com molho rosé, ris...   \n132                        Churrasco, carnes grelhadas   \n..                                                 ...   \n176  Comida japonesa, salmão grelhado com legumes, ...   \n177  Salada de brotos com cogumelos refogados com t...   \n178  Arroz de camarão, quiche lorraine, nhoque ao s...   \n179  Espetinho de camarão, saladas, espaguete prima...   \n180  Lombo suíno ao forno, linguine ao sugo, risoto...   \n\n                                                 image  similatiry  similarity  \n154                            Sovento Chardonnay 2018    0.000000    0.162467  \n167                                   Protos Rose 2017    0.000000    0.158101  \n86    Madame Veuve Point Pinot Noir Bourgogne AOP 2016    0.000000    0.151602  \n163                 El Bautismo El Criollo Rosado 2018    0.000000    0.117926  \n132                   Tierra del Mar Tannat Tinto 2018    0.053798    0.096793  \n..                                                 ...         ...         ...  \n176  Palafitos de Mar Semi Sweet Rose Cabernet Sauv...         NaN         NaN  \n177    Enclos du Wine Hunter A.O.C. Bordeaux Rose 2018         NaN         NaN  \n178                           Altivo Classic Rose 2018         NaN         NaN  \n179                                 Urmeneta Rose 2018         NaN         NaN  \n180                 Partridge Reserva Malbec Rose 2018         NaN         NaN  \n\n[181 rows x 15 columns]",
      "text/html": "<div>\n<style scoped>\n    .dataframe tbody tr th:only-of-type {\n        vertical-align: middle;\n    }\n\n    .dataframe tbody tr th {\n        vertical-align: top;\n    }\n\n    .dataframe thead th {\n        text-align: right;\n    }\n</style>\n<table border=\"1\" class=\"dataframe\">\n  <thead>\n    <tr style=\"text-align: right;\">\n      <th></th>\n      <th>wine_id</th>\n      <th>wine_name</th>\n      <th>type</th>\n      <th>country</th>\n      <th>region</th>\n      <th>alcohol_content</th>\n      <th>producer</th>\n      <th>service</th>\n      <th>volume</th>\n      <th>grape</th>\n      <th>harvest</th>\n      <th>harmonization</th>\n      <th>image</th>\n      <th>similatiry</th>\n      <th>similarity</th>\n    </tr>\n  </thead>\n  <tbody>\n    <tr>\n      <th>154</th>\n      <td>155</td>\n      <td>Sovento Chardonnay 2018</td>\n      <td>Branco</td>\n      <td>Espanha</td>\n      <td>Castilla-La Mancha</td>\n      <td>11,5</td>\n      <td>Bodegas Fernando Castro</td>\n      <td>7</td>\n      <td>750</td>\n      <td>Chardonnay</td>\n      <td>2018</td>\n      <td>Salmao, peixes com molho, aves</td>\n      <td>Sovento Chardonnay 2018</td>\n      <td>0.000000</td>\n      <td>0.162467</td>\n    </tr>\n    <tr>\n      <th>167</th>\n      <td>168</td>\n      <td>Protos Rose 2017</td>\n      <td>Rose</td>\n      <td>Espanha</td>\n      <td>Ribeira del Duero</td>\n      <td>13,0</td>\n      <td>Protos</td>\n      <td>10</td>\n      <td>750</td>\n      <td>Tempranillo</td>\n      <td>2017</td>\n      <td>Posta de atum grelhada com crosta de gergelim,...</td>\n      <td>Protos Rose 2017</td>\n      <td>0.000000</td>\n      <td>0.158101</td>\n    </tr>\n    <tr>\n      <th>86</th>\n      <td>87</td>\n      <td>Madame Veuve Point Pinot Noir Bourgogne AOP 2016</td>\n      <td>Tinto</td>\n      <td>França</td>\n      <td>Borgonha</td>\n      <td>12,5</td>\n      <td>Madame Veuve Point</td>\n      <td>12</td>\n      <td>750</td>\n      <td>Pinot Noir</td>\n      <td>2016</td>\n      <td>None</td>\n      <td>Madame Veuve Point Pinot Noir Bourgogne AOP 2016</td>\n      <td>0.000000</td>\n      <td>0.151602</td>\n    </tr>\n    <tr>\n      <th>163</th>\n      <td>164</td>\n      <td>El Bautismo El Criollo Rosado 2018</td>\n      <td>Rose</td>\n      <td>Argentina</td>\n      <td>Mendonza</td>\n      <td>13,5</td>\n      <td>La Liga de Enologos</td>\n      <td>9</td>\n      <td>750</td>\n      <td>Criolla</td>\n      <td>2018</td>\n      <td>Camarão empanado, talharim com molho rosé, ris...</td>\n      <td>El Bautismo El Criollo Rosado 2018</td>\n      <td>0.000000</td>\n      <td>0.117926</td>\n    </tr>\n    <tr>\n      <th>132</th>\n      <td>133</td>\n      <td>Tierra del Mar Tannat Tinto 2018</td>\n      <td>Tinto</td>\n      <td>Uruguai</td>\n      <td>Canelones</td>\n      <td>13,0</td>\n      <td>Aurora Uruguai</td>\n      <td>17</td>\n      <td>750</td>\n      <td>Tannat</td>\n      <td>2018</td>\n      <td>Churrasco, carnes grelhadas</td>\n      <td>Tierra del Mar Tannat Tinto 2018</td>\n      <td>0.053798</td>\n      <td>0.096793</td>\n    </tr>\n    <tr>\n      <th>...</th>\n      <td>...</td>\n      <td>...</td>\n      <td>...</td>\n      <td>...</td>\n      <td>...</td>\n      <td>...</td>\n      <td>...</td>\n      <td>...</td>\n      <td>...</td>\n      <td>...</td>\n      <td>...</td>\n      <td>...</td>\n      <td>...</td>\n      <td>...</td>\n      <td>...</td>\n    </tr>\n    <tr>\n      <th>176</th>\n      <td>177</td>\n      <td>Palafitos de Mar Semi Sweet Rose Cabernet Sauv...</td>\n      <td>Rose</td>\n      <td>Chile</td>\n      <td>Valle Central</td>\n      <td>12,5</td>\n      <td>Wine</td>\n      <td>14</td>\n      <td>750</td>\n      <td>Syrah, Cabernet Sauvignon</td>\n      <td>2019</td>\n      <td>Comida japonesa, salmão grelhado com legumes, ...</td>\n      <td>Palafitos de Mar Semi Sweet Rose Cabernet Sauv...</td>\n      <td>NaN</td>\n      <td>NaN</td>\n    </tr>\n    <tr>\n      <th>177</th>\n      <td>178</td>\n      <td>Enclos du Wine Hunter A.O.C. Bordeaux Rose 2018</td>\n      <td>Rose</td>\n      <td>França</td>\n      <td>Bordeaux</td>\n      <td>12,5</td>\n      <td>Enclos du Winter Hunter</td>\n      <td>7</td>\n      <td>750</td>\n      <td>Varias uvas</td>\n      <td>2018</td>\n      <td>Salada de brotos com cogumelos refogados com t...</td>\n      <td>Enclos du Wine Hunter A.O.C. Bordeaux Rose 2018</td>\n      <td>NaN</td>\n      <td>NaN</td>\n    </tr>\n    <tr>\n      <th>178</th>\n      <td>179</td>\n      <td>Altivo Classic Rose 2018</td>\n      <td>Rose</td>\n      <td>Argentina</td>\n      <td>Mendonza</td>\n      <td>13,0</td>\n      <td>Finca Eugenio Bustos</td>\n      <td>8</td>\n      <td>750</td>\n      <td>Malbec</td>\n      <td>2018</td>\n      <td>Arroz de camarão, quiche lorraine, nhoque ao s...</td>\n      <td>Altivo Classic Rose 2018</td>\n      <td>NaN</td>\n      <td>NaN</td>\n    </tr>\n    <tr>\n      <th>179</th>\n      <td>180</td>\n      <td>Urmeneta Rose 2018</td>\n      <td>Rose</td>\n      <td>Chile</td>\n      <td>Valle Central</td>\n      <td>12,0</td>\n      <td>Urmeneta</td>\n      <td>8</td>\n      <td>750</td>\n      <td>Cabernet Sauvignon, Merlot</td>\n      <td>2018</td>\n      <td>Espetinho de camarão, saladas, espaguete prima...</td>\n      <td>Urmeneta Rose 2018</td>\n      <td>NaN</td>\n      <td>NaN</td>\n    </tr>\n    <tr>\n      <th>180</th>\n      <td>181</td>\n      <td>Partridge Reserva Malbec Rose 2018</td>\n      <td>Rose</td>\n      <td>Argentina</td>\n      <td>Mendonza</td>\n      <td>12,5</td>\n      <td>Vina Las Perdices</td>\n      <td>9</td>\n      <td>750</td>\n      <td>Malbec</td>\n      <td>2018</td>\n      <td>Lombo suíno ao forno, linguine ao sugo, risoto...</td>\n      <td>Partridge Reserva Malbec Rose 2018</td>\n      <td>NaN</td>\n      <td>NaN</td>\n    </tr>\n  </tbody>\n</table>\n<p>181 rows × 15 columns</p>\n</div>"
     },
     "metadata": {},
     "output_type": "execute_result",
     "execution_count": 84
    }
   ],
   "source": [
    "print(\"Vinhos recomendados com base na sua escolha de \", wine_key)\n",
    "result = pd.DataFrame(wines.sort_values(['similarity'], ascending = False))\n",
    "result"
   ]
  }
 ],
 "metadata": {
  "kernelspec": {
   "display_name": "Python 3",
   "language": "python",
   "name": "python3"
  },
  "language_info": {
   "codemirror_mode": {
    "name": "ipython",
    "version": 3
   },
   "file_extension": ".py",
   "mimetype": "text/x-python",
   "name": "python",
   "nbconvert_exporter": "python",
   "pygments_lexer": "ipython3",
   "version": "3.7.3"
  },
  "pycharm": {
   "stem_cell": {
    "cell_type": "raw",
    "source": [],
    "metadata": {
     "collapsed": false
    }
   }
  }
 },
 "nbformat": 4,
 "nbformat_minor": 1
}