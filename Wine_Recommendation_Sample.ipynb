{
 "cells": [
  {
   "cell_type": "code",
   "execution_count": 2,
   "metadata": {
    "collapsed": true,
    "pycharm": {
     "is_executing": false
    }
   },
   "outputs": [],
   "source": [
    "import numpy as np \n",
    "import pandas as pd \n",
    "import chardet"
   ]
  },
  {
   "cell_type": "code",
   "execution_count": 3,
   "outputs": [],
   "source": [
    "def find_encoding(fname):\n",
    "    r_file = open(fname, 'rb').read()\n",
    "    result = chardet.detect(r_file)\n",
    "    charenc = result['encoding']\n",
    "    return charenc\n"
   ],
   "metadata": {
    "collapsed": false,
    "pycharm": {
     "name": "#%%\n",
     "is_executing": false
    }
   }
  },
  {
   "cell_type": "code",
   "execution_count": 4,
   "outputs": [
    {
     "data": {
      "text/plain": "'UTF-8-SIG'"
     },
     "metadata": {},
     "output_type": "execute_result",
     "execution_count": 4
    }
   ],
   "source": [
    "# Detect the enconde having in wines csv file.\n",
    "wines_csv_encoding = find_encoding('data/wines.csv')\n",
    "wines_csv_encoding\n"
   ],
   "metadata": {
    "collapsed": false,
    "pycharm": {
     "name": "#%%\n",
     "is_executing": false
    }
   }
  },
  {
   "cell_type": "code",
   "execution_count": 5,
   "outputs": [
    {
     "data": {
      "text/plain": "'UTF-8-SIG'"
     },
     "metadata": {},
     "output_type": "execute_result",
     "execution_count": 5
    }
   ],
   "source": [
    "# Detect the enconde having in ratings csv file.\n",
    "ratings_csv_encoding = find_encoding('data/wines.csv')\n",
    "ratings_csv_encoding"
   ],
   "metadata": {
    "collapsed": false,
    "pycharm": {
     "name": "#%%\n",
     "is_executing": false
    }
   }
  },
  {
   "cell_type": "code",
   "execution_count": 6,
   "outputs": [
    {
     "data": {
      "text/plain": "'UTF-8-SIG'"
     },
     "metadata": {},
     "output_type": "execute_result",
     "execution_count": 6
    }
   ],
   "source": [
    "# Detect the enconde having in users csv file.\n",
    "users_csv_encoding = find_encoding('data/users.csv')\n",
    "users_csv_encoding"
   ],
   "metadata": {
    "collapsed": false,
    "pycharm": {
     "name": "#%%\n",
     "is_executing": false
    }
   }
  },
  {
   "cell_type": "code",
   "execution_count": 7,
   "outputs": [
    {
     "data": {
      "text/plain": "   wine_id                                          wine_name  user_id  rating\n0        1               Abadia del Roble White La Mancha D.O       11       2\n1       55                    Don Simón Selección Tempranillo       11       0\n2       68  Faustino Rivero Ulecia Joven Tempranillo-Garna...       11       0\n3      108    Pinhal da Torre Late Harvest Tardio 2010 500 ml       11       2\n4      131  Gallo Signature Series Russian River Valley Ch...       11       0",
      "text/html": "<div>\n<style scoped>\n    .dataframe tbody tr th:only-of-type {\n        vertical-align: middle;\n    }\n\n    .dataframe tbody tr th {\n        vertical-align: top;\n    }\n\n    .dataframe thead th {\n        text-align: right;\n    }\n</style>\n<table border=\"1\" class=\"dataframe\">\n  <thead>\n    <tr style=\"text-align: right;\">\n      <th></th>\n      <th>wine_id</th>\n      <th>wine_name</th>\n      <th>user_id</th>\n      <th>rating</th>\n    </tr>\n  </thead>\n  <tbody>\n    <tr>\n      <th>0</th>\n      <td>1</td>\n      <td>Abadia del Roble White La Mancha D.O</td>\n      <td>11</td>\n      <td>2</td>\n    </tr>\n    <tr>\n      <th>1</th>\n      <td>55</td>\n      <td>Don Simón Selección Tempranillo</td>\n      <td>11</td>\n      <td>0</td>\n    </tr>\n    <tr>\n      <th>2</th>\n      <td>68</td>\n      <td>Faustino Rivero Ulecia Joven Tempranillo-Garna...</td>\n      <td>11</td>\n      <td>0</td>\n    </tr>\n    <tr>\n      <th>3</th>\n      <td>108</td>\n      <td>Pinhal da Torre Late Harvest Tardio 2010 500 ml</td>\n      <td>11</td>\n      <td>2</td>\n    </tr>\n    <tr>\n      <th>4</th>\n      <td>131</td>\n      <td>Gallo Signature Series Russian River Valley Ch...</td>\n      <td>11</td>\n      <td>0</td>\n    </tr>\n  </tbody>\n</table>\n</div>"
     },
     "metadata": {},
     "output_type": "execute_result",
     "execution_count": 7
    }
   ],
   "source": [
    "# Build dataframe\n",
    "wines_col = ['wine_id', 'wine_name', 'type', 'country', 'region', 'alcohol_content', 'producer', 'service', 'volume', 'grape', 'harvest', 'harmonization', 'image']\n",
    "wines = pd.read_csv('data/wines.csv', sep=';', encoding=wines_csv_encoding, names=wines_col, engine='python')\n",
    "\n",
    "ratings_col = ['user_id', 'wine_id', 'rating']\n",
    "ratings = pd.read_csv('data/ratings.csv', sep=';', encoding=ratings_csv_encoding, names=ratings_col, engine='python')\n",
    "\n",
    "# Build dataframe\n",
    "users_col = [\"user_id\", 'user_name', 'gender', 'profession', 'age']\n",
    "users = pd.read_csv('data/users.csv', sep=';', encoding=users_csv_encoding, names=users_col, engine='python')\n",
    "\n",
    "df = pd.merge(wines, ratings)\n",
    "df = pd.merge(df, users)\n",
    "df.drop(columns=['type', 'country', 'region', 'alcohol_content', 'producer', 'service', 'volume', 'grape', 'harvest', 'harmonization', 'image', 'user_name', 'gender', 'profession', 'age'], axis=1, inplace=True)\n",
    "df.head()\n"
   ],
   "metadata": {
    "collapsed": false,
    "pycharm": {
     "name": "#%%\n",
     "is_executing": false
    }
   }
  },
  {
   "cell_type": "code",
   "execution_count": 8,
   "outputs": [
    {
     "data": {
      "text/plain": "     wine_id                                          wine_name  vote_count  \\\n189       40  Château Graves du Privera Cru Artisan Médoc AO...          34   \n101      164                 El Bautismo El Criollo Rosado 2018          25   \n704       82  Lacryma Christi Feudi di San Gregorio Bianco d...          30   \n718      127  Solar das Bouças D.O.C. Vinho Verde Loureiro 2018          25   \n514      170                 Calyptra Vivendo Reserve Rose 2018          28   \n\n     vote_average  \n189      3.235294  \n101      3.120000  \n704      3.100000  \n718      3.080000  \n514      3.071429  ",
      "text/html": "<div>\n<style scoped>\n    .dataframe tbody tr th:only-of-type {\n        vertical-align: middle;\n    }\n\n    .dataframe tbody tr th {\n        vertical-align: top;\n    }\n\n    .dataframe thead th {\n        text-align: right;\n    }\n</style>\n<table border=\"1\" class=\"dataframe\">\n  <thead>\n    <tr style=\"text-align: right;\">\n      <th></th>\n      <th>wine_id</th>\n      <th>wine_name</th>\n      <th>vote_count</th>\n      <th>vote_average</th>\n    </tr>\n  </thead>\n  <tbody>\n    <tr>\n      <th>189</th>\n      <td>40</td>\n      <td>Château Graves du Privera Cru Artisan Médoc AO...</td>\n      <td>34</td>\n      <td>3.235294</td>\n    </tr>\n    <tr>\n      <th>101</th>\n      <td>164</td>\n      <td>El Bautismo El Criollo Rosado 2018</td>\n      <td>25</td>\n      <td>3.120000</td>\n    </tr>\n    <tr>\n      <th>704</th>\n      <td>82</td>\n      <td>Lacryma Christi Feudi di San Gregorio Bianco d...</td>\n      <td>30</td>\n      <td>3.100000</td>\n    </tr>\n    <tr>\n      <th>718</th>\n      <td>127</td>\n      <td>Solar das Bouças D.O.C. Vinho Verde Loureiro 2018</td>\n      <td>25</td>\n      <td>3.080000</td>\n    </tr>\n    <tr>\n      <th>514</th>\n      <td>170</td>\n      <td>Calyptra Vivendo Reserve Rose 2018</td>\n      <td>28</td>\n      <td>3.071429</td>\n    </tr>\n  </tbody>\n</table>\n</div>"
     },
     "metadata": {},
     "output_type": "execute_result",
     "execution_count": 8
    }
   ],
   "source": [
    "# Set wine's ratings and total ratings.\n",
    "wines_sizes_ratings = df.groupby('wine_id').agg({'rating': [np.size, np.mean]})\n",
    "sizes = wines_sizes_ratings['rating']['size']\n",
    "means = wines_sizes_ratings['rating']['mean']\n",
    "df.drop_duplicates('wine_id', inplace=True)\n",
    "for i in range(len(wines_sizes_ratings)):\n",
    "    df['vote_count'] = sizes.values\n",
    "    df['vote_average'] = means.values\n",
    "    \n",
    "# Displaying the ordered dataframe\n",
    "df.drop(columns=['user_id', 'rating'], axis=1, inplace=True)\n",
    "df.sort_values(['vote_average', 'vote_count'], ascending=False).head()"
   ],
   "metadata": {
    "collapsed": false,
    "pycharm": {
     "name": "#%%\n",
     "is_executing": false
    }
   }
  },
  {
   "cell_type": "code",
   "source": [
    "# Mean of average of the dataframe.\n",
    "c = df['vote_average'].mean()\n",
    "print(c)"
   ],
   "metadata": {
    "collapsed": false,
    "pycharm": {
     "name": "#%%\n",
     "is_executing": false
    }
   },
   "execution_count": 9,
   "outputs": [
    {
     "name": "stdout",
     "text": [
      "2.486453584571613\n"
     ],
     "output_type": "stream"
    }
   ]
  },
  {
   "cell_type": "code",
   "execution_count": 10,
   "outputs": [
    {
     "name": "stdout",
     "text": [
      "32.0\n"
     ],
     "output_type": "stream"
    }
   ],
   "source": [
    "# Now we calculate the 'm' to execute algorithm. -> m: minimum number of votes required to be listed\n",
    "m = df['vote_count'].quantile(0.75)\n",
    "print(m)"
   ],
   "metadata": {
    "collapsed": false,
    "pycharm": {
     "name": "#%%\n",
     "is_executing": false
    }
   }
  },
  {
   "cell_type": "code",
   "execution_count": 11,
   "outputs": [
    {
     "data": {
      "text/plain": "(45, 4)"
     },
     "metadata": {},
     "output_type": "execute_result",
     "execution_count": 11
    }
   ],
   "source": [
    "# Qualified wines, based on vote counts.\n",
    "q_wines = df.copy().loc[df['vote_count'] >= m]\n",
    "q_wines.shape\n"
   ],
   "metadata": {
    "collapsed": false,
    "pycharm": {
     "name": "#%%\n",
     "is_executing": false
    }
   }
  },
  {
   "cell_type": "code",
   "execution_count": 12,
   "outputs": [],
   "source": [
    "def weighted_rating(x, m=m, c=c):\n",
    "    v = x['vote_count']\n",
    "    R = x['vote_average']\n",
    "    # Calculation based on the IMDB formula\n",
    "    return (v/(v+m) * R) + (m/(m+v) * c)"
   ],
   "metadata": {
    "collapsed": false,
    "pycharm": {
     "name": "#%%\n",
     "is_executing": false
    }
   }
  },
  {
   "cell_type": "code",
   "execution_count": 13,
   "outputs": [
    {
     "data": {
      "text/plain": "     wine_id                                          wine_name  vote_count  \\\n189       40  Château Graves du Privera Cru Artisan Médoc AO...          34   \n95        16                  Barahonda D.O. Yecla Verdejo 2018          33   \n39       111                               Portada Reserva 2016          32   \n614       80                        La Mirada Tannat Tinto 2018          38   \n61       169  Tenuta Sant Antonio Scaia I.G.T. Veneto Rosato...          33   \n\n     vote_average     score  \n189      3.235294  2.872220  \n95       3.030303  2.762562  \n39       2.968750  2.727602  \n614      2.894737  2.708093  \n61       2.878788  2.685639  ",
      "text/html": "<div>\n<style scoped>\n    .dataframe tbody tr th:only-of-type {\n        vertical-align: middle;\n    }\n\n    .dataframe tbody tr th {\n        vertical-align: top;\n    }\n\n    .dataframe thead th {\n        text-align: right;\n    }\n</style>\n<table border=\"1\" class=\"dataframe\">\n  <thead>\n    <tr style=\"text-align: right;\">\n      <th></th>\n      <th>wine_id</th>\n      <th>wine_name</th>\n      <th>vote_count</th>\n      <th>vote_average</th>\n      <th>score</th>\n    </tr>\n  </thead>\n  <tbody>\n    <tr>\n      <th>189</th>\n      <td>40</td>\n      <td>Château Graves du Privera Cru Artisan Médoc AO...</td>\n      <td>34</td>\n      <td>3.235294</td>\n      <td>2.872220</td>\n    </tr>\n    <tr>\n      <th>95</th>\n      <td>16</td>\n      <td>Barahonda D.O. Yecla Verdejo 2018</td>\n      <td>33</td>\n      <td>3.030303</td>\n      <td>2.762562</td>\n    </tr>\n    <tr>\n      <th>39</th>\n      <td>111</td>\n      <td>Portada Reserva 2016</td>\n      <td>32</td>\n      <td>2.968750</td>\n      <td>2.727602</td>\n    </tr>\n    <tr>\n      <th>614</th>\n      <td>80</td>\n      <td>La Mirada Tannat Tinto 2018</td>\n      <td>38</td>\n      <td>2.894737</td>\n      <td>2.708093</td>\n    </tr>\n    <tr>\n      <th>61</th>\n      <td>169</td>\n      <td>Tenuta Sant Antonio Scaia I.G.T. Veneto Rosato...</td>\n      <td>33</td>\n      <td>2.878788</td>\n      <td>2.685639</td>\n    </tr>\n  </tbody>\n</table>\n</div>"
     },
     "metadata": {},
     "output_type": "execute_result",
     "execution_count": 13
    }
   ],
   "source": [
    "# Define a new feature 'score' and calculate its value with `weighted_rating()\n",
    "q_wines['score'] = q_wines.apply(weighted_rating, axis=1)\n",
    "q_wines = q_wines.sort_values('score', ascending=False)\n",
    "q_wines.head()"
   ],
   "metadata": {
    "collapsed": false,
    "pycharm": {
     "name": "#%%\n",
     "is_executing": false
    }
   }
  }
 ],
 "metadata": {
  "kernelspec": {
   "display_name": "Python 3",
   "language": "python",
   "name": "python3"
  },
  "language_info": {
   "codemirror_mode": {
    "name": "ipython",
    "version": 2
   },
   "file_extension": ".py",
   "mimetype": "text/x-python",
   "name": "python",
   "nbconvert_exporter": "python",
   "pygments_lexer": "ipython2",
   "version": "2.7.6"
  },
  "pycharm": {
   "stem_cell": {
    "cell_type": "raw",
    "source": [],
    "metadata": {
     "collapsed": false
    }
   }
  }
 },
 "nbformat": 4,
 "nbformat_minor": 0
}