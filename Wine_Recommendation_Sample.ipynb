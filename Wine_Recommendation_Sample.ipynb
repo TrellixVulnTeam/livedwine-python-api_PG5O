{
 "cells": [
  {
   "cell_type": "code",
   "execution_count": 186,
   "metadata": {
    "collapsed": true,
    "pycharm": {
     "is_executing": false
    }
   },
   "outputs": [],
   "source": [
    "import numpy as np \n",
    "import pandas as pd \n",
    "import chardet\n",
    "import matplotlib.pyplot as plt\n",
    "from sklearn.metrics import pairwise_distances"
   ]
  },
  {
   "cell_type": "code",
   "execution_count": 3,
   "outputs": [],
   "source": [
    "def find_encoding(fname):\n",
    "    r_file = open(fname, 'rb').read()\n",
    "    result = chardet.detect(r_file)\n",
    "    charenc = result['encoding']\n",
    "    return charenc\n"
   ],
   "metadata": {
    "collapsed": false,
    "pycharm": {
     "name": "#%%\n",
     "is_executing": false
    }
   }
  },
  {
   "cell_type": "code",
   "execution_count": 4,
   "outputs": [
    {
     "data": {
      "text/plain": "'utf-8'"
     },
     "metadata": {},
     "output_type": "execute_result",
     "execution_count": 4
    }
   ],
   "source": [
    "# Detect the enconde having in wines csv file.\n",
    "wines_csv_encoding = find_encoding('data/wines.csv')\n",
    "wines_csv_encoding\n"
   ],
   "metadata": {
    "collapsed": false,
    "pycharm": {
     "name": "#%%\n",
     "is_executing": false
    }
   }
  },
  {
   "cell_type": "code",
   "execution_count": 5,
   "outputs": [
    {
     "data": {
      "text/plain": "'utf-8'"
     },
     "metadata": {},
     "output_type": "execute_result",
     "execution_count": 5
    }
   ],
   "source": [
    "# Detect the enconde having in rating csv file.\n",
    "rating_csv_encoding = find_encoding('data/wines.csv')\n",
    "rating_csv_encoding"
   ],
   "metadata": {
    "collapsed": false,
    "pycharm": {
     "name": "#%%\n",
     "is_executing": false
    }
   }
  },
  {
   "cell_type": "code",
   "execution_count": 154,
   "outputs": [],
   "source": [
    "# Build dataframe\n",
    "wines_col = ['wine_id', 'name', 'type', 'country', 'region', 'alcohol_content', 'producer', 'service', 'volume', 'vintage', 'views']\n",
    "wines = pd.read_csv('data/wines.csv', sep=';', names=wines_col, encoding=wines_csv_encoding, engine='python')\n",
    "\n",
    "ratings_col = ['user_id', 'wine_id', 'rating']\n",
    "ratings = pd.read_csv('data/ratings.csv', sep=';', names=ratings_col, encoding=rating_csv_encoding, engine='python')\n",
    "\n",
    "df = pd.merge(wines, ratings)"
   ],
   "metadata": {
    "collapsed": false,
    "pycharm": {
     "name": "#%%\n",
     "is_executing": false
    }
   }
  },
  {
   "cell_type": "code",
   "execution_count": 156,
   "outputs": [],
   "source": [
    "# Set wine's ratings and total ratings.\n",
    "wines_sizes_ratings = df.groupby('wine_id').agg({'rating': [np.size, np.mean]})\n",
    "sizes = wines_sizes_ratings['rating']['size']\n",
    "means = wines_sizes_ratings['rating']['mean']\n",
    "df.drop_duplicates('wine_id', inplace=True)\n",
    "for i in range(len(wines_sizes_ratings)):\n",
    "    df['vote_count'] = sizes.values\n",
    "    df['vote_average'] = means.values\n",
    "    \n",
    "# Displaying the ordered dataframe\n",
    "df.sort_values(['vote_average', 'vote_count'], ascending=False).head()"
   ],
   "metadata": {
    "collapsed": false,
    "pycharm": {
     "name": "#%%\n",
     "is_executing": false
    }
   }
  },
  {
   "cell_type": "code",
   "source": [
    "# Mean of average of the dataframe.\n",
    "c = df['vote_average'].mean()\n",
    "print(c)"
   ],
   "metadata": {
    "collapsed": false,
    "pycharm": {
     "name": "#%%\n",
     "is_executing": false
    }
   },
   "execution_count": 179,
   "outputs": [
    {
     "name": "stdout",
     "text": [
      "2.4764056121090685\n"
     ],
     "output_type": "stream"
    }
   ]
  },
  {
   "cell_type": "code",
   "execution_count": 180,
   "outputs": [
    {
     "name": "stdout",
     "text": [
      "13.0\n"
     ],
     "output_type": "stream"
    }
   ],
   "source": [
    "# Now we calculate the 'm' to execute algorithm. -> m: minimum number of votes required to be listed\n",
    "m = df['vote_count'].quantile(0.75)\n",
    "print(m)"
   ],
   "metadata": {
    "collapsed": false,
    "pycharm": {
     "name": "#%%\n",
     "is_executing": false
    }
   }
  },
  {
   "cell_type": "code",
   "execution_count": 181,
   "outputs": [
    {
     "data": {
      "text/plain": "(25, 15)"
     },
     "metadata": {},
     "output_type": "execute_result",
     "execution_count": 181
    }
   ],
   "source": [
    "# Qualified wines, based on vote counts.\n",
    "q_wines = df.copy().loc[df['vote_count'] >= m]\n",
    "q_wines.shape\n"
   ],
   "metadata": {
    "collapsed": false,
    "pycharm": {
     "name": "#%%\n",
     "is_executing": false
    }
   }
  },
  {
   "cell_type": "code",
   "execution_count": 182,
   "outputs": [],
   "source": [
    "def weighted_rating(x, m=m, c=c):\n",
    "    v = x['vote_count']\n",
    "    R = x['vote_average']\n",
    "    # Calculation based on the IMDB formula\n",
    "    return (v/(v+m) * R) + (m/(m+v) * c)"
   ],
   "metadata": {
    "collapsed": false,
    "pycharm": {
     "name": "#%%\n",
     "is_executing": false
    }
   }
  },
  {
   "cell_type": "code",
   "execution_count": 185,
   "outputs": [
    {
     "data": {
      "text/plain": "     wine_id                                               name   type  \\\n522       52                     Anciano Reserva Douro DOC 2016  Tinto   \n834       80  Anciano 35 Years Old Vines Garnacha Calatayud ...  Tinto   \n400       39            Miliasso Primitivo di Manduria DOC 2017  Tinto   \n463       45               El Molino Estate Bottled Merlot 2018  Tinto   \n241       24  Famiglia Castellani From Old Vines Primitivo 2018  Tinto   \n\n       country     region  alcohol_content  \\\n522   Portugal      Douro             13.5   \n834    Espanha  Calatayud             15.0   \n400     Italia     Puglia             14.5   \n463  Argentina    Mendoza             13.0   \n241     Italia     Puglia             13.0   \n\n                                            producer service  volume  vintage  \\\n522              Casa Santos Lima/Guy Anderson Wines      16     750   2016.0   \n834  Bodegas San Gregorio - Norrel Robertson\\r\\n\\r\\n     NaN     750   2016.0   \n400                         Angelo Rocca e Fligi Srl      17     750   2017.0   \n463                                         Penaflor      17     750   2018.0   \n241                                       Castellani      17     750   2018.0   \n\n     views  user_id  rating  vote_count  vote_average     score  \n522     46        7       4          13      3.307692  2.892049  \n834      4        7       2          18      3.166667  2.877202  \n400     13       10       5          16      3.062500  2.799768  \n463      4        6       5          15      3.066667  2.792617  \n241     79        1       5          13      2.923077  2.699741  ",
      "text/html": "<div>\n<style scoped>\n    .dataframe tbody tr th:only-of-type {\n        vertical-align: middle;\n    }\n\n    .dataframe tbody tr th {\n        vertical-align: top;\n    }\n\n    .dataframe thead th {\n        text-align: right;\n    }\n</style>\n<table border=\"1\" class=\"dataframe\">\n  <thead>\n    <tr style=\"text-align: right;\">\n      <th></th>\n      <th>wine_id</th>\n      <th>name</th>\n      <th>type</th>\n      <th>country</th>\n      <th>region</th>\n      <th>alcohol_content</th>\n      <th>producer</th>\n      <th>service</th>\n      <th>volume</th>\n      <th>vintage</th>\n      <th>views</th>\n      <th>user_id</th>\n      <th>rating</th>\n      <th>vote_count</th>\n      <th>vote_average</th>\n      <th>score</th>\n    </tr>\n  </thead>\n  <tbody>\n    <tr>\n      <th>522</th>\n      <td>52</td>\n      <td>Anciano Reserva Douro DOC 2016</td>\n      <td>Tinto</td>\n      <td>Portugal</td>\n      <td>Douro</td>\n      <td>13.5</td>\n      <td>Casa Santos Lima/Guy Anderson Wines</td>\n      <td>16</td>\n      <td>750</td>\n      <td>2016.0</td>\n      <td>46</td>\n      <td>7</td>\n      <td>4</td>\n      <td>13</td>\n      <td>3.307692</td>\n      <td>2.892049</td>\n    </tr>\n    <tr>\n      <th>834</th>\n      <td>80</td>\n      <td>Anciano 35 Years Old Vines Garnacha Calatayud ...</td>\n      <td>Tinto</td>\n      <td>Espanha</td>\n      <td>Calatayud</td>\n      <td>15.0</td>\n      <td>Bodegas San Gregorio - Norrel Robertson\\r\\n\\r\\n</td>\n      <td>NaN</td>\n      <td>750</td>\n      <td>2016.0</td>\n      <td>4</td>\n      <td>7</td>\n      <td>2</td>\n      <td>18</td>\n      <td>3.166667</td>\n      <td>2.877202</td>\n    </tr>\n    <tr>\n      <th>400</th>\n      <td>39</td>\n      <td>Miliasso Primitivo di Manduria DOC 2017</td>\n      <td>Tinto</td>\n      <td>Italia</td>\n      <td>Puglia</td>\n      <td>14.5</td>\n      <td>Angelo Rocca e Fligi Srl</td>\n      <td>17</td>\n      <td>750</td>\n      <td>2017.0</td>\n      <td>13</td>\n      <td>10</td>\n      <td>5</td>\n      <td>16</td>\n      <td>3.062500</td>\n      <td>2.799768</td>\n    </tr>\n    <tr>\n      <th>463</th>\n      <td>45</td>\n      <td>El Molino Estate Bottled Merlot 2018</td>\n      <td>Tinto</td>\n      <td>Argentina</td>\n      <td>Mendoza</td>\n      <td>13.0</td>\n      <td>Penaflor</td>\n      <td>17</td>\n      <td>750</td>\n      <td>2018.0</td>\n      <td>4</td>\n      <td>6</td>\n      <td>5</td>\n      <td>15</td>\n      <td>3.066667</td>\n      <td>2.792617</td>\n    </tr>\n    <tr>\n      <th>241</th>\n      <td>24</td>\n      <td>Famiglia Castellani From Old Vines Primitivo 2018</td>\n      <td>Tinto</td>\n      <td>Italia</td>\n      <td>Puglia</td>\n      <td>13.0</td>\n      <td>Castellani</td>\n      <td>17</td>\n      <td>750</td>\n      <td>2018.0</td>\n      <td>79</td>\n      <td>1</td>\n      <td>5</td>\n      <td>13</td>\n      <td>2.923077</td>\n      <td>2.699741</td>\n    </tr>\n  </tbody>\n</table>\n</div>"
     },
     "metadata": {},
     "output_type": "execute_result",
     "execution_count": 185
    }
   ],
   "source": [
    "# Define a new feature 'score' and calculate its value with `weighted_rating()\n",
    "q_wines['score'] = q_wines.apply(weighted_rating, axis=1)\n",
    "q_wines = q_wines.sort_values('score', ascending=False)\n",
    "q_wines.head()\n",
    "\n",
    "\n",
    "\n"
   ],
   "metadata": {
    "collapsed": false,
    "pycharm": {
     "name": "#%%\n",
     "is_executing": false
    }
   }
  }
 ],
 "metadata": {
  "kernelspec": {
   "display_name": "Python 3",
   "language": "python",
   "name": "python3"
  },
  "language_info": {
   "codemirror_mode": {
    "name": "ipython",
    "version": 2
   },
   "file_extension": ".py",
   "mimetype": "text/x-python",
   "name": "python",
   "nbconvert_exporter": "python",
   "pygments_lexer": "ipython2",
   "version": "2.7.6"
  },
  "pycharm": {
   "stem_cell": {
    "cell_type": "raw",
    "source": [],
    "metadata": {
     "collapsed": false
    }
   }
  }
 },
 "nbformat": 4,
 "nbformat_minor": 0
}