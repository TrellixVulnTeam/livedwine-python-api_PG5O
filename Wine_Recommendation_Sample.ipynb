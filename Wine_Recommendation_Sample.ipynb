{
 "cells": [
  {
   "cell_type": "code",
   "execution_count": 10,
   "metadata": {
    "pycharm": {
     "is_executing": false
    }
   },
   "outputs": [],
   "source": [
    "import numpy as np \n",
    "import pandas as pd \n",
    "import pymysql"
   ]
  },
  {
   "cell_type": "code",
   "execution_count": 11,
   "metadata": {
    "pycharm": {
     "is_executing": false,
     "name": "#%%\n"
    }
   },
   "outputs": [
    {
     "data": {
      "text/html": [
       "<div>\n",
       "<style scoped>\n",
       "    .dataframe tbody tr th:only-of-type {\n",
       "        vertical-align: middle;\n",
       "    }\n",
       "\n",
       "    .dataframe tbody tr th {\n",
       "        vertical-align: top;\n",
       "    }\n",
       "\n",
       "    .dataframe thead th {\n",
       "        text-align: right;\n",
       "    }\n",
       "</style>\n",
       "<table border=\"1\" class=\"dataframe\">\n",
       "  <thead>\n",
       "    <tr style=\"text-align: right;\">\n",
       "      <th></th>\n",
       "      <th>wine_id</th>\n",
       "      <th>wine_name</th>\n",
       "      <th>rating</th>\n",
       "      <th>user_id</th>\n",
       "    </tr>\n",
       "  </thead>\n",
       "  <tbody>\n",
       "    <tr>\n",
       "      <th>0</th>\n",
       "      <td>1</td>\n",
       "      <td>Abadia del Roble White La Mancha D.O</td>\n",
       "      <td>4.0</td>\n",
       "      <td>2</td>\n",
       "    </tr>\n",
       "    <tr>\n",
       "      <th>1</th>\n",
       "      <td>1</td>\n",
       "      <td>Abadia del Roble White La Mancha D.O</td>\n",
       "      <td>4.0</td>\n",
       "      <td>3</td>\n",
       "    </tr>\n",
       "    <tr>\n",
       "      <th>2</th>\n",
       "      <td>1</td>\n",
       "      <td>Abadia del Roble White La Mancha D.O</td>\n",
       "      <td>2.0</td>\n",
       "      <td>4</td>\n",
       "    </tr>\n",
       "    <tr>\n",
       "      <th>3</th>\n",
       "      <td>1</td>\n",
       "      <td>Abadia del Roble White La Mancha D.O</td>\n",
       "      <td>2.0</td>\n",
       "      <td>5</td>\n",
       "    </tr>\n",
       "    <tr>\n",
       "      <th>4</th>\n",
       "      <td>1</td>\n",
       "      <td>Abadia del Roble White La Mancha D.O</td>\n",
       "      <td>3.0</td>\n",
       "      <td>6</td>\n",
       "    </tr>\n",
       "  </tbody>\n",
       "</table>\n",
       "</div>"
      ],
      "text/plain": [
       "   wine_id                             wine_name  rating  user_id\n",
       "0        1  Abadia del Roble White La Mancha D.O     4.0        2\n",
       "1        1  Abadia del Roble White La Mancha D.O     4.0        3\n",
       "2        1  Abadia del Roble White La Mancha D.O     2.0        4\n",
       "3        1  Abadia del Roble White La Mancha D.O     2.0        5\n",
       "4        1  Abadia del Roble White La Mancha D.O     3.0        6"
      ]
     },
     "execution_count": 11,
     "metadata": {},
     "output_type": "execute_result"
    }
   ],
   "source": [
    "# This method takes the database connection.\n",
    "conn = pymysql.connect(host='localhost', port=int(3306), user='yabaconsultoria', passwd='yaba2389', db=\"livedwine\",\n",
    "                           charset='utf8')\n",
    "\n",
    "\n",
    "\n",
    "# Build dataframe\n",
    "df = pd.read_sql_query(\n",
    "        \"SELECT wine.wine_id, alcohol_content, country, harvest, wine_name, producer, region, service, type, volume, (SELECT GROUP_CONCAT(wine_grape.grape separator ', ') from wine_grape where wine_id = wine.wine_id) as grape, (SELECT GROUP_CONCAT(wine_harmonization.harmonization separator ', ') from wine_harmonization where wine_id = wine.wine_id) as harmonization, rating.rating, user.user_id, user_name, age, profession, gender FROM wine INNER JOIN rating on wine.wine_id = rating.wine_id INNER JOIN user on rating.user_id = user.user_id\",\n",
    "        conn)\n",
    "\n",
    "conn.close()\n",
    "\n",
    "df.drop(columns=['type', 'country', 'region', 'alcohol_content', 'producer', 'service', 'volume', 'grape', 'harvest', 'harmonization', 'user_name', 'gender', 'profession', 'age'], axis=1, inplace=True)\n",
    "df.head()\n"
   ]
  },
  {
   "cell_type": "code",
   "execution_count": 12,
   "metadata": {
    "pycharm": {
     "is_executing": false,
     "name": "#%%\n"
    }
   },
   "outputs": [
    {
     "data": {
      "text/html": [
       "<div>\n",
       "<style scoped>\n",
       "    .dataframe tbody tr th:only-of-type {\n",
       "        vertical-align: middle;\n",
       "    }\n",
       "\n",
       "    .dataframe tbody tr th {\n",
       "        vertical-align: top;\n",
       "    }\n",
       "\n",
       "    .dataframe thead th {\n",
       "        text-align: right;\n",
       "    }\n",
       "</style>\n",
       "<table border=\"1\" class=\"dataframe\">\n",
       "  <thead>\n",
       "    <tr style=\"text-align: right;\">\n",
       "      <th></th>\n",
       "      <th>wine_id</th>\n",
       "      <th>wine_name</th>\n",
       "      <th>vote_count</th>\n",
       "      <th>vote_average</th>\n",
       "    </tr>\n",
       "  </thead>\n",
       "  <tbody>\n",
       "    <tr>\n",
       "      <th>62695</th>\n",
       "      <td>117</td>\n",
       "      <td>Frei Brothers Reserve Chardonnay 2017</td>\n",
       "      <td>546.0</td>\n",
       "      <td>3.163004</td>\n",
       "    </tr>\n",
       "    <tr>\n",
       "      <th>17270</th>\n",
       "      <td>33</td>\n",
       "      <td>Canepa Finisimo Gran Reserva Sauvignon Blanc 2014</td>\n",
       "      <td>534.0</td>\n",
       "      <td>3.159176</td>\n",
       "    </tr>\n",
       "    <tr>\n",
       "      <th>28070</th>\n",
       "      <td>53</td>\n",
       "      <td>Domaine Le Mourre Châteauneuf-du-Pape AOC 2016</td>\n",
       "      <td>546.0</td>\n",
       "      <td>3.157509</td>\n",
       "    </tr>\n",
       "    <tr>\n",
       "      <th>59978</th>\n",
       "      <td>112</td>\n",
       "      <td>Portada Winemaker's Selection 2017</td>\n",
       "      <td>556.0</td>\n",
       "      <td>3.140288</td>\n",
       "    </tr>\n",
       "    <tr>\n",
       "      <th>18339</th>\n",
       "      <td>35</td>\n",
       "      <td>Castillo D'Elaro Bobal 2018</td>\n",
       "      <td>560.0</td>\n",
       "      <td>3.119643</td>\n",
       "    </tr>\n",
       "  </tbody>\n",
       "</table>\n",
       "</div>"
      ],
      "text/plain": [
       "       wine_id                                          wine_name  vote_count  \\\n",
       "62695      117              Frei Brothers Reserve Chardonnay 2017       546.0   \n",
       "17270       33  Canepa Finisimo Gran Reserva Sauvignon Blanc 2014       534.0   \n",
       "28070       53     Domaine Le Mourre Châteauneuf-du-Pape AOC 2016       546.0   \n",
       "59978      112                 Portada Winemaker's Selection 2017       556.0   \n",
       "18339       35                        Castillo D'Elaro Bobal 2018       560.0   \n",
       "\n",
       "       vote_average  \n",
       "62695      3.163004  \n",
       "17270      3.159176  \n",
       "28070      3.157509  \n",
       "59978      3.140288  \n",
       "18339      3.119643  "
      ]
     },
     "execution_count": 12,
     "metadata": {},
     "output_type": "execute_result"
    }
   ],
   "source": [
    "# Set wine's ratings and total ratings.\n",
    "wines_sizes_ratings = df.groupby('wine_id').agg({'rating': [np.size, np.mean]})\n",
    "sizes = wines_sizes_ratings['rating']['size']\n",
    "means = wines_sizes_ratings['rating']['mean']\n",
    "df.drop_duplicates('wine_id', inplace=True)\n",
    "for i in range(len(wines_sizes_ratings)):\n",
    "    df['vote_count'] = sizes.values\n",
    "    df['vote_average'] = means.values\n",
    "    \n",
    "# Displaying the ordered dataframe\n",
    "df.drop(columns=['user_id', 'rating'], axis=1, inplace=True)\n",
    "df.sort_values(['vote_average', 'vote_count'], ascending=False).head()"
   ]
  },
  {
   "cell_type": "code",
   "execution_count": 13,
   "metadata": {
    "pycharm": {
     "is_executing": false,
     "name": "#%%\n"
    }
   },
   "outputs": [
    {
     "name": "stdout",
     "output_type": "stream",
     "text": [
      "3.0079311152400967\n"
     ]
    }
   ],
   "source": [
    "# Mean of average of the dataframe.\n",
    "c = df['vote_average'].mean()\n",
    "print(c)"
   ]
  },
  {
   "cell_type": "code",
   "execution_count": 14,
   "metadata": {
    "pycharm": {
     "is_executing": false,
     "name": "#%%\n"
    }
   },
   "outputs": [
    {
     "name": "stdout",
     "output_type": "stream",
     "text": [
      "549.0\n"
     ]
    }
   ],
   "source": [
    "# Now we calculate the 'm' to execute algorithm. -> m: minimum number of votes required to be listed\n",
    "m = df['vote_count'].quantile(0.75)\n",
    "print(m)"
   ]
  },
  {
   "cell_type": "code",
   "execution_count": 15,
   "metadata": {
    "pycharm": {
     "is_executing": false,
     "name": "#%%\n"
    }
   },
   "outputs": [
    {
     "data": {
      "text/plain": [
       "(45, 4)"
      ]
     },
     "execution_count": 15,
     "metadata": {},
     "output_type": "execute_result"
    }
   ],
   "source": [
    "# Qualified wines, based on vote counts.\n",
    "q_wines = df.copy().loc[df['vote_count'] >= m]\n",
    "q_wines.shape\n"
   ]
  },
  {
   "cell_type": "code",
   "execution_count": 16,
   "metadata": {
    "pycharm": {
     "is_executing": false,
     "name": "#%%\n"
    }
   },
   "outputs": [],
   "source": [
    "def weighted_rating(x, m=m, c=c):\n",
    "    v = x['vote_count']\n",
    "    R = x['vote_average']\n",
    "    # Calculation based on the IMDB formula\n",
    "    return (v/(v+m) * R) + (m/(m+v) * c)"
   ]
  },
  {
   "cell_type": "code",
   "execution_count": 17,
   "metadata": {
    "pycharm": {
     "is_executing": false,
     "name": "#%%\n"
    }
   },
   "outputs": [
    {
     "data": {
      "text/html": [
       "<div>\n",
       "<style scoped>\n",
       "    .dataframe tbody tr th:only-of-type {\n",
       "        vertical-align: middle;\n",
       "    }\n",
       "\n",
       "    .dataframe tbody tr th {\n",
       "        vertical-align: top;\n",
       "    }\n",
       "\n",
       "    .dataframe thead th {\n",
       "        text-align: right;\n",
       "    }\n",
       "</style>\n",
       "<table border=\"1\" class=\"dataframe\">\n",
       "  <thead>\n",
       "    <tr style=\"text-align: right;\">\n",
       "      <th></th>\n",
       "      <th>wine_id</th>\n",
       "      <th>wine_name</th>\n",
       "      <th>vote_count</th>\n",
       "      <th>vote_average</th>\n",
       "      <th>score</th>\n",
       "    </tr>\n",
       "  </thead>\n",
       "  <tbody>\n",
       "    <tr>\n",
       "      <th>59978</th>\n",
       "      <td>112</td>\n",
       "      <td>Portada Winemaker's Selection 2017</td>\n",
       "      <td>556.0</td>\n",
       "      <td>3.140288</td>\n",
       "      <td>3.074529</td>\n",
       "    </tr>\n",
       "    <tr>\n",
       "      <th>18339</th>\n",
       "      <td>35</td>\n",
       "      <td>Castillo D'Elaro Bobal 2018</td>\n",
       "      <td>560.0</td>\n",
       "      <td>3.119643</td>\n",
       "      <td>3.064341</td>\n",
       "    </tr>\n",
       "    <tr>\n",
       "      <th>88812</th>\n",
       "      <td>165</td>\n",
       "      <td>La Combe D Or Grenache 2018</td>\n",
       "      <td>556.0</td>\n",
       "      <td>3.113309</td>\n",
       "      <td>3.060954</td>\n",
       "    </tr>\n",
       "    <tr>\n",
       "      <th>3284</th>\n",
       "      <td>7</td>\n",
       "      <td>Anciano Reserva 7 Years Old Magnum 2011</td>\n",
       "      <td>549.0</td>\n",
       "      <td>3.112933</td>\n",
       "      <td>3.060432</td>\n",
       "    </tr>\n",
       "    <tr>\n",
       "      <th>2186</th>\n",
       "      <td>5</td>\n",
       "      <td>Anciano Crianza 3 years Tempranillo Valdepeñas...</td>\n",
       "      <td>549.0</td>\n",
       "      <td>3.091075</td>\n",
       "      <td>3.049503</td>\n",
       "    </tr>\n",
       "  </tbody>\n",
       "</table>\n",
       "</div>"
      ],
      "text/plain": [
       "       wine_id                                          wine_name  vote_count  \\\n",
       "59978      112                 Portada Winemaker's Selection 2017       556.0   \n",
       "18339       35                        Castillo D'Elaro Bobal 2018       560.0   \n",
       "88812      165                        La Combe D Or Grenache 2018       556.0   \n",
       "3284         7            Anciano Reserva 7 Years Old Magnum 2011       549.0   \n",
       "2186         5  Anciano Crianza 3 years Tempranillo Valdepeñas...       549.0   \n",
       "\n",
       "       vote_average     score  \n",
       "59978      3.140288  3.074529  \n",
       "18339      3.119643  3.064341  \n",
       "88812      3.113309  3.060954  \n",
       "3284       3.112933  3.060432  \n",
       "2186       3.091075  3.049503  "
      ]
     },
     "execution_count": 17,
     "metadata": {},
     "output_type": "execute_result"
    }
   ],
   "source": [
    "# Define a new feature 'score' and calculate its value with `weighted_rating()\n",
    "q_wines['score'] = q_wines.apply(weighted_rating, axis=1)\n",
    "q_wines = q_wines.sort_values('score', ascending=False)\n",
    "q_wines.head()"
   ]
  }
 ],
 "metadata": {
  "kernelspec": {
   "display_name": "Python 3",
   "language": "python",
   "name": "python3"
  },
  "language_info": {
   "codemirror_mode": {
    "name": "ipython",
    "version": 3
   },
   "file_extension": ".py",
   "mimetype": "text/x-python",
   "name": "python",
   "nbconvert_exporter": "python",
   "pygments_lexer": "ipython3",
   "version": "3.7.3"
  },
  "pycharm": {
   "stem_cell": {
    "cell_type": "raw",
    "metadata": {
     "collapsed": false
    },
    "source": []
   }
  }
 },
 "nbformat": 4,
 "nbformat_minor": 1
}
