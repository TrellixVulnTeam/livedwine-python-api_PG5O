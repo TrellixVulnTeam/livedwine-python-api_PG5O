{
 "cells": [
  {
   "cell_type": "code",
   "execution_count": 1,
   "metadata": {
    "collapsed": true,
    "pycharm": {
     "is_executing": false
    }
   },
   "outputs": [],
   "source": [
    "import numpy as np \n",
    "import pandas as pd \n",
    "import chardet\n",
    "import matplotlib.pyplot as plt\n",
    "from sklearn.metrics import pairwise_distances"
   ]
  },
  {
   "cell_type": "code",
   "execution_count": 2,
   "outputs": [],
   "source": [
    "def find_encoding(fname):\n",
    "    r_file = open(fname, 'rb').read()\n",
    "    result = chardet.detect(r_file)\n",
    "    charenc = result['encoding']\n",
    "    return charenc\n"
   ],
   "metadata": {
    "collapsed": false,
    "pycharm": {
     "name": "#%%\n",
     "is_executing": false
    }
   }
  },
  {
   "cell_type": "code",
   "execution_count": 21,
   "outputs": [
    {
     "data": {
      "text/plain": "'UTF-8-SIG'"
     },
     "metadata": {},
     "output_type": "execute_result",
     "execution_count": 21
    }
   ],
   "source": [
    "# Detect the enconde having in wines csv file.\n",
    "wines_csv_encoding = find_encoding('data/wines.csv')\n",
    "wines_csv_encoding\n"
   ],
   "metadata": {
    "collapsed": false,
    "pycharm": {
     "name": "#%%\n",
     "is_executing": false
    }
   }
  },
  {
   "cell_type": "code",
   "execution_count": 22,
   "outputs": [
    {
     "data": {
      "text/plain": "'UTF-8-SIG'"
     },
     "metadata": {},
     "output_type": "execute_result",
     "execution_count": 22
    }
   ],
   "source": [
    "# Detect the enconde having in rating csv file.\n",
    "rating_csv_encoding = find_encoding('data/wines.csv')\n",
    "rating_csv_encoding"
   ],
   "metadata": {
    "collapsed": false,
    "pycharm": {
     "name": "#%%\n",
     "is_executing": false
    }
   }
  },
  {
   "cell_type": "code",
   "execution_count": 23,
   "outputs": [
    {
     "data": {
      "text/plain": "   wine_id                                               name   type country  \\\n0      1.0  Expedicion Single Vineyard Selection Cabernet ...  Tinto   Chile   \n1      1.0  Expedicion Single Vineyard Selection Cabernet ...  Tinto   Chile   \n2      1.0  Expedicion Single Vineyard Selection Cabernet ...  Tinto   Chile   \n3      1.0  Expedicion Single Vineyard Selection Cabernet ...  Tinto   Chile   \n4      1.0  Expedicion Single Vineyard Selection Cabernet ...  Tinto   Chile   \n\n         region  alcohol_content         producer  service  volume  \\\n0  Vale Central             13.0  Finca Patagonia     17.0   750.0   \n1  Vale Central             13.0  Finca Patagonia     17.0   750.0   \n2  Vale Central             13.0  Finca Patagonia     17.0   750.0   \n3  Vale Central             13.0  Finca Patagonia     17.0   750.0   \n4  Vale Central             13.0  Finca Patagonia     17.0   750.0   \n\n                grape  harvest harmonization  \\\n0  Cabernet Sauvignon   2019.0  Carne Assada   \n1  Cabernet Sauvignon   2019.0  Carne Assada   \n2  Cabernet Sauvignon   2019.0  Carne Assada   \n3  Cabernet Sauvignon   2019.0  Carne Assada   \n4  Cabernet Sauvignon   2019.0  Carne Assada   \n\n                                               image  user_id  rating  \n0  Expedicion Single Vineyard Selection Cabernet ...        2       3  \n1  Expedicion Single Vineyard Selection Cabernet ...        3       3  \n2  Expedicion Single Vineyard Selection Cabernet ...        5       4  \n3  Expedicion Single Vineyard Selection Cabernet ...        6       3  \n4  Expedicion Single Vineyard Selection Cabernet ...        6       1  ",
      "text/html": "<div>\n<style scoped>\n    .dataframe tbody tr th:only-of-type {\n        vertical-align: middle;\n    }\n\n    .dataframe tbody tr th {\n        vertical-align: top;\n    }\n\n    .dataframe thead th {\n        text-align: right;\n    }\n</style>\n<table border=\"1\" class=\"dataframe\">\n  <thead>\n    <tr style=\"text-align: right;\">\n      <th></th>\n      <th>wine_id</th>\n      <th>name</th>\n      <th>type</th>\n      <th>country</th>\n      <th>region</th>\n      <th>alcohol_content</th>\n      <th>producer</th>\n      <th>service</th>\n      <th>volume</th>\n      <th>grape</th>\n      <th>harvest</th>\n      <th>harmonization</th>\n      <th>image</th>\n      <th>user_id</th>\n      <th>rating</th>\n    </tr>\n  </thead>\n  <tbody>\n    <tr>\n      <th>0</th>\n      <td>1.0</td>\n      <td>Expedicion Single Vineyard Selection Cabernet ...</td>\n      <td>Tinto</td>\n      <td>Chile</td>\n      <td>Vale Central</td>\n      <td>13.0</td>\n      <td>Finca Patagonia</td>\n      <td>17.0</td>\n      <td>750.0</td>\n      <td>Cabernet Sauvignon</td>\n      <td>2019.0</td>\n      <td>Carne Assada</td>\n      <td>Expedicion Single Vineyard Selection Cabernet ...</td>\n      <td>2</td>\n      <td>3</td>\n    </tr>\n    <tr>\n      <th>1</th>\n      <td>1.0</td>\n      <td>Expedicion Single Vineyard Selection Cabernet ...</td>\n      <td>Tinto</td>\n      <td>Chile</td>\n      <td>Vale Central</td>\n      <td>13.0</td>\n      <td>Finca Patagonia</td>\n      <td>17.0</td>\n      <td>750.0</td>\n      <td>Cabernet Sauvignon</td>\n      <td>2019.0</td>\n      <td>Carne Assada</td>\n      <td>Expedicion Single Vineyard Selection Cabernet ...</td>\n      <td>3</td>\n      <td>3</td>\n    </tr>\n    <tr>\n      <th>2</th>\n      <td>1.0</td>\n      <td>Expedicion Single Vineyard Selection Cabernet ...</td>\n      <td>Tinto</td>\n      <td>Chile</td>\n      <td>Vale Central</td>\n      <td>13.0</td>\n      <td>Finca Patagonia</td>\n      <td>17.0</td>\n      <td>750.0</td>\n      <td>Cabernet Sauvignon</td>\n      <td>2019.0</td>\n      <td>Carne Assada</td>\n      <td>Expedicion Single Vineyard Selection Cabernet ...</td>\n      <td>5</td>\n      <td>4</td>\n    </tr>\n    <tr>\n      <th>3</th>\n      <td>1.0</td>\n      <td>Expedicion Single Vineyard Selection Cabernet ...</td>\n      <td>Tinto</td>\n      <td>Chile</td>\n      <td>Vale Central</td>\n      <td>13.0</td>\n      <td>Finca Patagonia</td>\n      <td>17.0</td>\n      <td>750.0</td>\n      <td>Cabernet Sauvignon</td>\n      <td>2019.0</td>\n      <td>Carne Assada</td>\n      <td>Expedicion Single Vineyard Selection Cabernet ...</td>\n      <td>6</td>\n      <td>3</td>\n    </tr>\n    <tr>\n      <th>4</th>\n      <td>1.0</td>\n      <td>Expedicion Single Vineyard Selection Cabernet ...</td>\n      <td>Tinto</td>\n      <td>Chile</td>\n      <td>Vale Central</td>\n      <td>13.0</td>\n      <td>Finca Patagonia</td>\n      <td>17.0</td>\n      <td>750.0</td>\n      <td>Cabernet Sauvignon</td>\n      <td>2019.0</td>\n      <td>Carne Assada</td>\n      <td>Expedicion Single Vineyard Selection Cabernet ...</td>\n      <td>6</td>\n      <td>1</td>\n    </tr>\n  </tbody>\n</table>\n</div>"
     },
     "metadata": {},
     "output_type": "execute_result",
     "execution_count": 23
    }
   ],
   "source": [
    "# Build dataframe\n",
    "wines_col = ['wine_id', 'name', 'type', 'country', 'region', 'alcohol_content', 'producer', 'service', 'volume', 'grape', 'harvest', 'harmonization', 'image']\n",
    "wines = pd.read_csv('data/wines.csv', sep=';', encoding=wines_csv_encoding, names=wines_col, engine='python')\n",
    "\n",
    "ratings_col = ['user_id', 'wine_id', 'rating']\n",
    "ratings = pd.read_csv('data/ratings.csv', sep=';', encoding=rating_csv_encoding, names=ratings_col, engine='python')\n",
    "\n",
    "df = pd.merge(wines, ratings)\n",
    "df.head()"
   ],
   "metadata": {
    "collapsed": false,
    "pycharm": {
     "name": "#%%\n",
     "is_executing": false
    }
   }
  },
  {
   "cell_type": "code",
   "execution_count": 24,
   "outputs": [
    {
     "data": {
      "text/plain": "     wine_id                                               name   type  \\\n501     49.0       Mil Raices Selection Cabernet Sauvignon 2018  Tinto   \n610     60.0  Barolo Selezione Cantine by Massimo Rattalino ...  Tinto   \n322     32.0              Masereto Montepulciano d'Abruzzo 2018  Tinto   \n385     38.0                  Buenos Aires Cabernet-Malbec 2017  Tinto   \n423     41.0               Biscardo Neropasso Rosso Veneto 2017  Tinto   \n\n       country         region  alcohol_content                  producer  \\\n501      Chile  Valle Central             13.0                 7 Colores   \n610     Italia       Piemonte             14.0         Massimo Rattalino   \n322     Italia        Abruzzo              NaN  Angelo Rocca e Fligi Srl   \n385  Argentina        Mendoza             13.0                  Fecovita   \n423     Italia         Veneto             13.5                  Biscardo   \n\n     service  volume               grape  harvest  \\\n501     16.0   750.0  Cabernet Sauvignon   2018.0   \n610     17.0   750.0            Nebbiolo   2014.0   \n322      0.0   750.0       Montepulciano   2018.0   \n385     17.0   750.0         Varias Uvas   2017.0   \n423     17.0   750.0         Varias Uvas   2017.0   \n\n                                         harmonization  \\\n501         Carnes Vermelhas, Queijos Amarelos, Massas   \n610  Carnes de Caça, Massas com Molhos Cremosos, Qu...   \n322                                                NaN   \n385                         Churrasco, Queijos Maduros   \n423                       Pratos Italianos, Aperitivos   \n\n                                                 image  user_id  rating  \\\n501       Mil Raices Selection Cabernet Sauvignon 2018        1       5   \n610  Barolo Selezione Cantine by Massimo Rattalino ...        1       5   \n322              Masereto Montepulciano d'Abruzzo 2018        1       5   \n385                  Buenos Aires Cabernet-Malbec 2017        1       3   \n423               Biscardo Neropasso Rosso Veneto 2017        2       4   \n\n     vote_count  vote_average  \n501           4      4.000000  \n610          12      3.583333  \n322          10      3.500000  \n385          11      3.454545  \n423          10      3.400000  ",
      "text/html": "<div>\n<style scoped>\n    .dataframe tbody tr th:only-of-type {\n        vertical-align: middle;\n    }\n\n    .dataframe tbody tr th {\n        vertical-align: top;\n    }\n\n    .dataframe thead th {\n        text-align: right;\n    }\n</style>\n<table border=\"1\" class=\"dataframe\">\n  <thead>\n    <tr style=\"text-align: right;\">\n      <th></th>\n      <th>wine_id</th>\n      <th>name</th>\n      <th>type</th>\n      <th>country</th>\n      <th>region</th>\n      <th>alcohol_content</th>\n      <th>producer</th>\n      <th>service</th>\n      <th>volume</th>\n      <th>grape</th>\n      <th>harvest</th>\n      <th>harmonization</th>\n      <th>image</th>\n      <th>user_id</th>\n      <th>rating</th>\n      <th>vote_count</th>\n      <th>vote_average</th>\n    </tr>\n  </thead>\n  <tbody>\n    <tr>\n      <th>501</th>\n      <td>49.0</td>\n      <td>Mil Raices Selection Cabernet Sauvignon 2018</td>\n      <td>Tinto</td>\n      <td>Chile</td>\n      <td>Valle Central</td>\n      <td>13.0</td>\n      <td>7 Colores</td>\n      <td>16.0</td>\n      <td>750.0</td>\n      <td>Cabernet Sauvignon</td>\n      <td>2018.0</td>\n      <td>Carnes Vermelhas, Queijos Amarelos, Massas</td>\n      <td>Mil Raices Selection Cabernet Sauvignon 2018</td>\n      <td>1</td>\n      <td>5</td>\n      <td>4</td>\n      <td>4.000000</td>\n    </tr>\n    <tr>\n      <th>610</th>\n      <td>60.0</td>\n      <td>Barolo Selezione Cantine by Massimo Rattalino ...</td>\n      <td>Tinto</td>\n      <td>Italia</td>\n      <td>Piemonte</td>\n      <td>14.0</td>\n      <td>Massimo Rattalino</td>\n      <td>17.0</td>\n      <td>750.0</td>\n      <td>Nebbiolo</td>\n      <td>2014.0</td>\n      <td>Carnes de Caça, Massas com Molhos Cremosos, Qu...</td>\n      <td>Barolo Selezione Cantine by Massimo Rattalino ...</td>\n      <td>1</td>\n      <td>5</td>\n      <td>12</td>\n      <td>3.583333</td>\n    </tr>\n    <tr>\n      <th>322</th>\n      <td>32.0</td>\n      <td>Masereto Montepulciano d'Abruzzo 2018</td>\n      <td>Tinto</td>\n      <td>Italia</td>\n      <td>Abruzzo</td>\n      <td>NaN</td>\n      <td>Angelo Rocca e Fligi Srl</td>\n      <td>0.0</td>\n      <td>750.0</td>\n      <td>Montepulciano</td>\n      <td>2018.0</td>\n      <td>NaN</td>\n      <td>Masereto Montepulciano d'Abruzzo 2018</td>\n      <td>1</td>\n      <td>5</td>\n      <td>10</td>\n      <td>3.500000</td>\n    </tr>\n    <tr>\n      <th>385</th>\n      <td>38.0</td>\n      <td>Buenos Aires Cabernet-Malbec 2017</td>\n      <td>Tinto</td>\n      <td>Argentina</td>\n      <td>Mendoza</td>\n      <td>13.0</td>\n      <td>Fecovita</td>\n      <td>17.0</td>\n      <td>750.0</td>\n      <td>Varias Uvas</td>\n      <td>2017.0</td>\n      <td>Churrasco, Queijos Maduros</td>\n      <td>Buenos Aires Cabernet-Malbec 2017</td>\n      <td>1</td>\n      <td>3</td>\n      <td>11</td>\n      <td>3.454545</td>\n    </tr>\n    <tr>\n      <th>423</th>\n      <td>41.0</td>\n      <td>Biscardo Neropasso Rosso Veneto 2017</td>\n      <td>Tinto</td>\n      <td>Italia</td>\n      <td>Veneto</td>\n      <td>13.5</td>\n      <td>Biscardo</td>\n      <td>17.0</td>\n      <td>750.0</td>\n      <td>Varias Uvas</td>\n      <td>2017.0</td>\n      <td>Pratos Italianos, Aperitivos</td>\n      <td>Biscardo Neropasso Rosso Veneto 2017</td>\n      <td>2</td>\n      <td>4</td>\n      <td>10</td>\n      <td>3.400000</td>\n    </tr>\n  </tbody>\n</table>\n</div>"
     },
     "metadata": {},
     "output_type": "execute_result",
     "execution_count": 24
    }
   ],
   "source": [
    "# Set wine's ratings and total ratings.\n",
    "wines_sizes_ratings = df.groupby('wine_id').agg({'rating': [np.size, np.mean]})\n",
    "sizes = wines_sizes_ratings['rating']['size']\n",
    "means = wines_sizes_ratings['rating']['mean']\n",
    "df.drop_duplicates('wine_id', inplace=True)\n",
    "for i in range(len(wines_sizes_ratings)):\n",
    "    df['vote_count'] = sizes.values\n",
    "    df['vote_average'] = means.values\n",
    "    \n",
    "# Displaying the ordered dataframe\n",
    "df.sort_values(['vote_average', 'vote_count'], ascending=False).head()"
   ],
   "metadata": {
    "collapsed": false,
    "pycharm": {
     "name": "#%%\n",
     "is_executing": false
    }
   }
  },
  {
   "cell_type": "code",
   "source": [
    "# Mean of average of the dataframe.\n",
    "c = df['vote_average'].mean()\n",
    "print(c)"
   ],
   "metadata": {
    "collapsed": false,
    "pycharm": {
     "name": "#%%\n",
     "is_executing": false
    }
   },
   "execution_count": 25,
   "outputs": [
    {
     "name": "stdout",
     "text": [
      "2.460438603194594\n"
     ],
     "output_type": "stream"
    }
   ]
  },
  {
   "cell_type": "code",
   "execution_count": 26,
   "outputs": [
    {
     "name": "stdout",
     "text": [
      "13.0\n"
     ],
     "output_type": "stream"
    }
   ],
   "source": [
    "# Now we calculate the 'm' to execute algorithm. -> m: minimum number of votes required to be listed\n",
    "m = df['vote_count'].quantile(0.75)\n",
    "print(m)"
   ],
   "metadata": {
    "collapsed": false,
    "pycharm": {
     "name": "#%%\n",
     "is_executing": false
    }
   }
  },
  {
   "cell_type": "code",
   "execution_count": 27,
   "outputs": [
    {
     "data": {
      "text/plain": "(24, 17)"
     },
     "metadata": {},
     "output_type": "execute_result",
     "execution_count": 27
    }
   ],
   "source": [
    "# Qualified wines, based on vote counts.\n",
    "q_wines = df.copy().loc[df['vote_count'] >= m]\n",
    "q_wines.shape\n"
   ],
   "metadata": {
    "collapsed": false,
    "pycharm": {
     "name": "#%%\n",
     "is_executing": false
    }
   }
  },
  {
   "cell_type": "code",
   "execution_count": 28,
   "outputs": [],
   "source": [
    "def weighted_rating(x, m=m, c=c):\n",
    "    v = x['vote_count']\n",
    "    R = x['vote_average']\n",
    "    # Calculation based on the IMDB formula\n",
    "    return (v/(v+m) * R) + (m/(m+v) * c)"
   ],
   "metadata": {
    "collapsed": false,
    "pycharm": {
     "name": "#%%\n",
     "is_executing": false
    }
   }
  },
  {
   "cell_type": "code",
   "execution_count": 29,
   "outputs": [
    {
     "data": {
      "text/plain": "     wine_id                                     name   type    country  \\\n518     52.0                   Puente Sur Malbec 2018  Tinto  Argentina   \n830     80.0  Anciano Reserva 7 Years Old Magnum 2011  Tinto    Espanha   \n396     39.0        Palacio del Burgo Rioja DOCa 2017  Tinto    Espanha   \n459     45.0           Anciano Reserva Douro DOC 2016  Tinto   Portugal   \n237     24.0              Castillo D'Elaro Bobal 2018  Tinto    Espanha   \n\n                 region  alcohol_content                             producer  \\\n518             Mendoza             13.0                             Fecovita   \n830          Valdepenãs             13.0                              Anciano   \n396               Rioja             13.0                          Burgo Viejo   \n459               Douro             13.5  Casa Santos Lima/Guy Anderson Wines   \n237  Castilla-La Mancha             13.0                     Bodegas Gallegas   \n\n     service  volume        grape  harvest  \\\n518     17.0   750.0       Malbec   2018.0   \n830      0.0   750.0  Tempranillo   2011.0   \n396     17.0   750.0  Tempranillo   2017.0   \n459     16.0   750.0  Varias Uvas   2016.0   \n237     17.0   750.0        Bobal   2018.0   \n\n                                         harmonization  \\\n518                         Churrasco, Queijos Maduros   \n830                                                NaN   \n396                Carnes Vermelhas Assadas, Embutidos   \n459  Carnes Vermelhas Assadas, Cozido de Grão de Bi...   \n237                                                NaN   \n\n                                       image  user_id  rating  vote_count  \\\n518                   Puente Sur Malbec 2018        1       2          13   \n830  Anciano Reserva 7 Years Old Magnum 2011        1       4          18   \n396        Palacio del Burgo Rioja DOCa 2017        1       2          16   \n459           Anciano Reserva Douro DOC 2016        1       2          15   \n237              Castillo D'Elaro Bobal 2018        1       5          13   \n\n     vote_average     score  \n518      3.307692  2.884065  \n830      3.166667  2.870507  \n396      3.062500  2.792610  \n459      3.066667  2.785204  \n237      2.923077  2.691758  ",
      "text/html": "<div>\n<style scoped>\n    .dataframe tbody tr th:only-of-type {\n        vertical-align: middle;\n    }\n\n    .dataframe tbody tr th {\n        vertical-align: top;\n    }\n\n    .dataframe thead th {\n        text-align: right;\n    }\n</style>\n<table border=\"1\" class=\"dataframe\">\n  <thead>\n    <tr style=\"text-align: right;\">\n      <th></th>\n      <th>wine_id</th>\n      <th>name</th>\n      <th>type</th>\n      <th>country</th>\n      <th>region</th>\n      <th>alcohol_content</th>\n      <th>producer</th>\n      <th>service</th>\n      <th>volume</th>\n      <th>grape</th>\n      <th>harvest</th>\n      <th>harmonization</th>\n      <th>image</th>\n      <th>user_id</th>\n      <th>rating</th>\n      <th>vote_count</th>\n      <th>vote_average</th>\n      <th>score</th>\n    </tr>\n  </thead>\n  <tbody>\n    <tr>\n      <th>518</th>\n      <td>52.0</td>\n      <td>Puente Sur Malbec 2018</td>\n      <td>Tinto</td>\n      <td>Argentina</td>\n      <td>Mendoza</td>\n      <td>13.0</td>\n      <td>Fecovita</td>\n      <td>17.0</td>\n      <td>750.0</td>\n      <td>Malbec</td>\n      <td>2018.0</td>\n      <td>Churrasco, Queijos Maduros</td>\n      <td>Puente Sur Malbec 2018</td>\n      <td>1</td>\n      <td>2</td>\n      <td>13</td>\n      <td>3.307692</td>\n      <td>2.884065</td>\n    </tr>\n    <tr>\n      <th>830</th>\n      <td>80.0</td>\n      <td>Anciano Reserva 7 Years Old Magnum 2011</td>\n      <td>Tinto</td>\n      <td>Espanha</td>\n      <td>Valdepenãs</td>\n      <td>13.0</td>\n      <td>Anciano</td>\n      <td>0.0</td>\n      <td>750.0</td>\n      <td>Tempranillo</td>\n      <td>2011.0</td>\n      <td>NaN</td>\n      <td>Anciano Reserva 7 Years Old Magnum 2011</td>\n      <td>1</td>\n      <td>4</td>\n      <td>18</td>\n      <td>3.166667</td>\n      <td>2.870507</td>\n    </tr>\n    <tr>\n      <th>396</th>\n      <td>39.0</td>\n      <td>Palacio del Burgo Rioja DOCa 2017</td>\n      <td>Tinto</td>\n      <td>Espanha</td>\n      <td>Rioja</td>\n      <td>13.0</td>\n      <td>Burgo Viejo</td>\n      <td>17.0</td>\n      <td>750.0</td>\n      <td>Tempranillo</td>\n      <td>2017.0</td>\n      <td>Carnes Vermelhas Assadas, Embutidos</td>\n      <td>Palacio del Burgo Rioja DOCa 2017</td>\n      <td>1</td>\n      <td>2</td>\n      <td>16</td>\n      <td>3.062500</td>\n      <td>2.792610</td>\n    </tr>\n    <tr>\n      <th>459</th>\n      <td>45.0</td>\n      <td>Anciano Reserva Douro DOC 2016</td>\n      <td>Tinto</td>\n      <td>Portugal</td>\n      <td>Douro</td>\n      <td>13.5</td>\n      <td>Casa Santos Lima/Guy Anderson Wines</td>\n      <td>16.0</td>\n      <td>750.0</td>\n      <td>Varias Uvas</td>\n      <td>2016.0</td>\n      <td>Carnes Vermelhas Assadas, Cozido de Grão de Bi...</td>\n      <td>Anciano Reserva Douro DOC 2016</td>\n      <td>1</td>\n      <td>2</td>\n      <td>15</td>\n      <td>3.066667</td>\n      <td>2.785204</td>\n    </tr>\n    <tr>\n      <th>237</th>\n      <td>24.0</td>\n      <td>Castillo D'Elaro Bobal 2018</td>\n      <td>Tinto</td>\n      <td>Espanha</td>\n      <td>Castilla-La Mancha</td>\n      <td>13.0</td>\n      <td>Bodegas Gallegas</td>\n      <td>17.0</td>\n      <td>750.0</td>\n      <td>Bobal</td>\n      <td>2018.0</td>\n      <td>NaN</td>\n      <td>Castillo D'Elaro Bobal 2018</td>\n      <td>1</td>\n      <td>5</td>\n      <td>13</td>\n      <td>2.923077</td>\n      <td>2.691758</td>\n    </tr>\n  </tbody>\n</table>\n</div>"
     },
     "metadata": {},
     "output_type": "execute_result",
     "execution_count": 29
    }
   ],
   "source": [
    "# Define a new feature 'score' and calculate its value with `weighted_rating()\n",
    "q_wines['score'] = q_wines.apply(weighted_rating, axis=1)\n",
    "q_wines = q_wines.sort_values('score', ascending=False)\n",
    "q_wines.head()\n",
    "\n",
    "\n",
    "\n"
   ],
   "metadata": {
    "collapsed": false,
    "pycharm": {
     "name": "#%%\n",
     "is_executing": false
    }
   }
  }
 ],
 "metadata": {
  "kernelspec": {
   "display_name": "Python 3",
   "language": "python",
   "name": "python3"
  },
  "language_info": {
   "codemirror_mode": {
    "name": "ipython",
    "version": 2
   },
   "file_extension": ".py",
   "mimetype": "text/x-python",
   "name": "python",
   "nbconvert_exporter": "python",
   "pygments_lexer": "ipython2",
   "version": "2.7.6"
  },
  "pycharm": {
   "stem_cell": {
    "cell_type": "raw",
    "source": [],
    "metadata": {
     "collapsed": false
    }
   }
  }
 },
 "nbformat": 4,
 "nbformat_minor": 0
}