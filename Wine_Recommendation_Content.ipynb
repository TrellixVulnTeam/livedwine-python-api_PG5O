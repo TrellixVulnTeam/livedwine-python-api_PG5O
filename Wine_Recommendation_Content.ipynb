{
 "cells": [
  {
   "cell_type": "code",
   "execution_count": 64,
   "metadata": {
    "collapsed": true,
    "pycharm": {
     "is_executing": false
    }
   },
   "outputs": [],
   "source": [
    "import pandas as pd \n",
    "import chardet\n",
    "from sklearn.metrics.pairwise import linear_kernel\n",
    "from sklearn.metrics.pairwise import cosine_similarity\n",
    "from sklearn.feature_extraction.text import TfidfVectorizer\n",
    "from sklearn.feature_extraction.text import CountVectorizer"
   ]
  },
  {
   "cell_type": "code",
   "execution_count": 65,
   "outputs": [],
   "source": [
    "def find_encoding(fname):\n",
    "    r_file = open(fname, 'rb').read()\n",
    "    result = chardet.detect(r_file)\n",
    "    charenc = result['encoding']\n",
    "    return charenc"
   ],
   "metadata": {
    "collapsed": false,
    "pycharm": {
     "name": "#%%\n",
     "is_executing": false
    }
   }
  },
  {
   "cell_type": "code",
   "execution_count": 83,
   "outputs": [],
   "source": [
    "# Function to convert all strings to lower case and strip names of spaces\n",
    "def clean_data(x):\n",
    "    if isinstance(x, list):\n",
    "        return [str.lower(i.replace(\" \", \"\")) for i in x]\n",
    "    else:\n",
    "        #Check if director exists. If not, return empty string\n",
    "        if isinstance(x, str):\n",
    "            return str.lower(x.replace(\" \", \"\"))\n",
    "        else:\n",
    "            return ''\n",
    "        "
   ],
   "metadata": {
    "collapsed": false,
    "pycharm": {
     "name": "#%%\n",
     "is_executing": false
    }
   }
  },
  {
   "cell_type": "code",
   "execution_count": 87,
   "outputs": [
    {
     "data": {
      "text/plain": "'UTF-8-SIG'"
     },
     "metadata": {},
     "output_type": "execute_result",
     "execution_count": 87
    }
   ],
   "source": [
    "# Detect the enconde having in wines csv file.\n",
    "wines_csv_encoding = find_encoding('data/wines.csv')\n",
    "wines_csv_encoding\n"
   ],
   "metadata": {
    "collapsed": false,
    "pycharm": {
     "name": "#%%\n",
     "is_executing": false
    }
   }
  },
  {
   "cell_type": "code",
   "execution_count": 88,
   "outputs": [
    {
     "data": {
      "text/plain": "   wine_id                                          wine_name    type  \\\n0        1               Abadia del Roble White La Mancha D.O  Branco   \n1        2                                Alqueve Branco 2017  Branco   \n2        3  Altivo Vineyard Selection La Rioja Torrontes 2018  Branco   \n3        4  Anciano 35 Years Old Vines Garnacha Calatayud ...   Tinto   \n4        5  Anciano Crianza 3 years Tempranillo Valdepeñas...   Tinto   \n\n     country      region alcohol_content  \\\n0    Espanha   La Mancha            12,0   \n1   Portugal        Tejo            12,0   \n2  Argentina    La Rioja            13,5   \n3    Espanha   Calatayud            15,0   \n4    Espanha  Valdepenãs            12,5   \n\n                                  producer  service  volume        grape  \\\n0                            Bodegas Ayuso       10     750        Airen   \n1                          Pinhal da torre        9     750  Varias uvas   \n2                     Finca Eugenio Bustos        9     750    Torrontes   \n3  Bodegas San Gregorio - Norrel Robertson       12     750     Garnacha   \n4                                  Anciano       12     750  Tempranillo   \n\n  harvest                                      harmonization  \\\n0    None                                     Carnes brancas   \n1    2017  Camarão grelhado, tomates recheados, moqueca, ...   \n2    2018  Salada com frango grelhado, espetinho de camar...   \n3    2016                                               None   \n4    2014                                               None   \n\n                                               image  \n0               Abadia del Roble White La Mancha D.O  \n1                                Alqueve Branco 2017  \n2  Altivo Vineyard Selection La Rioja Torrontes 2018  \n3  Anciano 35 Years Old Vines Garnacha Calatayud ...  \n4  Anciano Crianza 3 years Tempranillo Valdepeñas...  ",
      "text/html": "<div>\n<style scoped>\n    .dataframe tbody tr th:only-of-type {\n        vertical-align: middle;\n    }\n\n    .dataframe tbody tr th {\n        vertical-align: top;\n    }\n\n    .dataframe thead th {\n        text-align: right;\n    }\n</style>\n<table border=\"1\" class=\"dataframe\">\n  <thead>\n    <tr style=\"text-align: right;\">\n      <th></th>\n      <th>wine_id</th>\n      <th>wine_name</th>\n      <th>type</th>\n      <th>country</th>\n      <th>region</th>\n      <th>alcohol_content</th>\n      <th>producer</th>\n      <th>service</th>\n      <th>volume</th>\n      <th>grape</th>\n      <th>harvest</th>\n      <th>harmonization</th>\n      <th>image</th>\n    </tr>\n  </thead>\n  <tbody>\n    <tr>\n      <th>0</th>\n      <td>1</td>\n      <td>Abadia del Roble White La Mancha D.O</td>\n      <td>Branco</td>\n      <td>Espanha</td>\n      <td>La Mancha</td>\n      <td>12,0</td>\n      <td>Bodegas Ayuso</td>\n      <td>10</td>\n      <td>750</td>\n      <td>Airen</td>\n      <td>None</td>\n      <td>Carnes brancas</td>\n      <td>Abadia del Roble White La Mancha D.O</td>\n    </tr>\n    <tr>\n      <th>1</th>\n      <td>2</td>\n      <td>Alqueve Branco 2017</td>\n      <td>Branco</td>\n      <td>Portugal</td>\n      <td>Tejo</td>\n      <td>12,0</td>\n      <td>Pinhal da torre</td>\n      <td>9</td>\n      <td>750</td>\n      <td>Varias uvas</td>\n      <td>2017</td>\n      <td>Camarão grelhado, tomates recheados, moqueca, ...</td>\n      <td>Alqueve Branco 2017</td>\n    </tr>\n    <tr>\n      <th>2</th>\n      <td>3</td>\n      <td>Altivo Vineyard Selection La Rioja Torrontes 2018</td>\n      <td>Branco</td>\n      <td>Argentina</td>\n      <td>La Rioja</td>\n      <td>13,5</td>\n      <td>Finca Eugenio Bustos</td>\n      <td>9</td>\n      <td>750</td>\n      <td>Torrontes</td>\n      <td>2018</td>\n      <td>Salada com frango grelhado, espetinho de camar...</td>\n      <td>Altivo Vineyard Selection La Rioja Torrontes 2018</td>\n    </tr>\n    <tr>\n      <th>3</th>\n      <td>4</td>\n      <td>Anciano 35 Years Old Vines Garnacha Calatayud ...</td>\n      <td>Tinto</td>\n      <td>Espanha</td>\n      <td>Calatayud</td>\n      <td>15,0</td>\n      <td>Bodegas San Gregorio - Norrel Robertson</td>\n      <td>12</td>\n      <td>750</td>\n      <td>Garnacha</td>\n      <td>2016</td>\n      <td>None</td>\n      <td>Anciano 35 Years Old Vines Garnacha Calatayud ...</td>\n    </tr>\n    <tr>\n      <th>4</th>\n      <td>5</td>\n      <td>Anciano Crianza 3 years Tempranillo Valdepeñas...</td>\n      <td>Tinto</td>\n      <td>Espanha</td>\n      <td>Valdepenãs</td>\n      <td>12,5</td>\n      <td>Anciano</td>\n      <td>12</td>\n      <td>750</td>\n      <td>Tempranillo</td>\n      <td>2014</td>\n      <td>None</td>\n      <td>Anciano Crianza 3 years Tempranillo Valdepeñas...</td>\n    </tr>\n  </tbody>\n</table>\n</div>"
     },
     "metadata": {},
     "output_type": "execute_result",
     "execution_count": 88
    }
   ],
   "source": [
    "# Import wines dataset\n",
    "wines_col = ['wine_id', 'wine_name', 'type', 'country', 'region', 'alcohol_content', 'producer', 'service', 'volume', 'grape', 'harvest', 'harmonization', 'image']\n",
    "wines = pd.read_csv('data/wines.csv', sep=';', names=wines_col, encoding=wines_csv_encoding, engine='python')\n",
    "wines.head()\n",
    "\n"
   ],
   "metadata": {
    "collapsed": false,
    "pycharm": {
     "name": "#%%\n",
     "is_executing": false
    }
   }
  },
  {
   "cell_type": "code",
   "execution_count": 89,
   "outputs": [
    {
     "data": {
      "text/plain": "   wine_id                                          wine_name    type  \\\n0        1               Abadia del Roble White La Mancha D.O  Branco   \n1        2                                Alqueve Branco 2017  Branco   \n2        3  Altivo Vineyard Selection La Rioja Torrontes 2018  Branco   \n3        4  Anciano 35 Years Old Vines Garnacha Calatayud ...   Tinto   \n4        5  Anciano Crianza 3 years Tempranillo Valdepeñas...   Tinto   \n\n     country      region alcohol_content  \\\n0    Espanha   La Mancha            12,0   \n1   Portugal        Tejo            12,0   \n2  Argentina    La Rioja            13,5   \n3    Espanha   Calatayud            15,0   \n4    Espanha  Valdepenãs            12,5   \n\n                                  producer  service  volume        grape  \\\n0                            Bodegas Ayuso       10     750        Airen   \n1                          Pinhal da torre        9     750  Varias uvas   \n2                     Finca Eugenio Bustos        9     750    Torrontes   \n3  Bodegas San Gregorio - Norrel Robertson       12     750     Garnacha   \n4                                  Anciano       12     750  Tempranillo   \n\n  harvest                                      harmonization  \\\n0    None                                     Carnes brancas   \n1    2017  Camarão grelhado, tomates recheados, moqueca, ...   \n2    2018  Salada com frango grelhado, espetinho de camar...   \n3    2016                                               None   \n4    2014                                               None   \n\n                                               image  \n0               Abadia del Roble White La Mancha D.O  \n1                                Alqueve Branco 2017  \n2  Altivo Vineyard Selection La Rioja Torrontes 2018  \n3  Anciano 35 Years Old Vines Garnacha Calatayud ...  \n4  Anciano Crianza 3 years Tempranillo Valdepeñas...  ",
      "text/html": "<div>\n<style scoped>\n    .dataframe tbody tr th:only-of-type {\n        vertical-align: middle;\n    }\n\n    .dataframe tbody tr th {\n        vertical-align: top;\n    }\n\n    .dataframe thead th {\n        text-align: right;\n    }\n</style>\n<table border=\"1\" class=\"dataframe\">\n  <thead>\n    <tr style=\"text-align: right;\">\n      <th></th>\n      <th>wine_id</th>\n      <th>wine_name</th>\n      <th>type</th>\n      <th>country</th>\n      <th>region</th>\n      <th>alcohol_content</th>\n      <th>producer</th>\n      <th>service</th>\n      <th>volume</th>\n      <th>grape</th>\n      <th>harvest</th>\n      <th>harmonization</th>\n      <th>image</th>\n    </tr>\n  </thead>\n  <tbody>\n    <tr>\n      <th>0</th>\n      <td>1</td>\n      <td>Abadia del Roble White La Mancha D.O</td>\n      <td>Branco</td>\n      <td>Espanha</td>\n      <td>La Mancha</td>\n      <td>12,0</td>\n      <td>Bodegas Ayuso</td>\n      <td>10</td>\n      <td>750</td>\n      <td>Airen</td>\n      <td>None</td>\n      <td>Carnes brancas</td>\n      <td>Abadia del Roble White La Mancha D.O</td>\n    </tr>\n    <tr>\n      <th>1</th>\n      <td>2</td>\n      <td>Alqueve Branco 2017</td>\n      <td>Branco</td>\n      <td>Portugal</td>\n      <td>Tejo</td>\n      <td>12,0</td>\n      <td>Pinhal da torre</td>\n      <td>9</td>\n      <td>750</td>\n      <td>Varias uvas</td>\n      <td>2017</td>\n      <td>Camarão grelhado, tomates recheados, moqueca, ...</td>\n      <td>Alqueve Branco 2017</td>\n    </tr>\n    <tr>\n      <th>2</th>\n      <td>3</td>\n      <td>Altivo Vineyard Selection La Rioja Torrontes 2018</td>\n      <td>Branco</td>\n      <td>Argentina</td>\n      <td>La Rioja</td>\n      <td>13,5</td>\n      <td>Finca Eugenio Bustos</td>\n      <td>9</td>\n      <td>750</td>\n      <td>Torrontes</td>\n      <td>2018</td>\n      <td>Salada com frango grelhado, espetinho de camar...</td>\n      <td>Altivo Vineyard Selection La Rioja Torrontes 2018</td>\n    </tr>\n    <tr>\n      <th>3</th>\n      <td>4</td>\n      <td>Anciano 35 Years Old Vines Garnacha Calatayud ...</td>\n      <td>Tinto</td>\n      <td>Espanha</td>\n      <td>Calatayud</td>\n      <td>15,0</td>\n      <td>Bodegas San Gregorio - Norrel Robertson</td>\n      <td>12</td>\n      <td>750</td>\n      <td>Garnacha</td>\n      <td>2016</td>\n      <td>None</td>\n      <td>Anciano 35 Years Old Vines Garnacha Calatayud ...</td>\n    </tr>\n    <tr>\n      <th>4</th>\n      <td>5</td>\n      <td>Anciano Crianza 3 years Tempranillo Valdepeñas...</td>\n      <td>Tinto</td>\n      <td>Espanha</td>\n      <td>Valdepenãs</td>\n      <td>12,5</td>\n      <td>Anciano</td>\n      <td>12</td>\n      <td>750</td>\n      <td>Tempranillo</td>\n      <td>2014</td>\n      <td>None</td>\n      <td>Anciano Crianza 3 years Tempranillo Valdepeñas...</td>\n    </tr>\n  </tbody>\n</table>\n</div>"
     },
     "metadata": {},
     "output_type": "execute_result",
     "execution_count": 89
    }
   ],
   "source": [
    "wines['harmonization'] = wines['harmonization'].fillna('')\n",
    "wines.head()"
   ],
   "metadata": {
    "collapsed": false,
    "pycharm": {
     "name": "#%%\n",
     "is_executing": false
    }
   }
  },
  {
   "cell_type": "code",
   "execution_count": 90,
   "outputs": [],
   "source": [
    "#Define a TF-IDF Vectorizer Object.\n",
    "tfidf = TfidfVectorizer(stop_words=['portuguese', 'inglish'])"
   ],
   "metadata": {
    "collapsed": false,
    "pycharm": {
     "name": "#%%\n",
     "is_executing": false
    }
   }
  },
  {
   "cell_type": "code",
   "execution_count": 91,
   "outputs": [
    {
     "data": {
      "text/plain": "(181, 433)"
     },
     "metadata": {},
     "output_type": "execute_result",
     "execution_count": 91
    }
   ],
   "source": [
    "#Construct the required TF-IDF matrix by fitting and transforming the data\n",
    "tfidf_matrix = tfidf.fit_transform(wines['harmonization'])\n",
    "tfidf_matrix.shape"
   ],
   "metadata": {
    "collapsed": false,
    "pycharm": {
     "name": "#%%\n",
     "is_executing": false
    }
   }
  },
  {
   "cell_type": "code",
   "execution_count": 92,
   "outputs": [],
   "source": [
    "# Compute the cosine similarity matrix\n",
    "cosine_sim = linear_kernel(tfidf_matrix, tfidf_matrix)\n",
    "\n"
   ],
   "metadata": {
    "collapsed": false,
    "pycharm": {
     "name": "#%%\n",
     "is_executing": false
    }
   }
  },
  {
   "cell_type": "code",
   "execution_count": 93,
   "outputs": [],
   "source": [
    "#Construct a reverse map of indices and movie titles\n",
    "indices = pd.Series(wines.index, index=wines['wine_name']).drop_duplicates()\n",
    "wines['harmonization'] = wines['harmonization'].apply(clean_data)"
   ],
   "metadata": {
    "collapsed": false,
    "pycharm": {
     "name": "#%%\n",
     "is_executing": false
    }
   }
  },
  {
   "cell_type": "code",
   "execution_count": 94,
   "outputs": [],
   "source": [
    "# Function that takes in movie title as input and outputs most similar movies\n",
    "def get_recommendations(wine_name, cosine_sim):\n",
    "    # Get the index of the movie that matches the title\n",
    "    idx = indices[wine_name]\n",
    "\n",
    "    # Get the pairwsie similarity scores of all movies with that movie\n",
    "    sim_scores = list(enumerate(cosine_sim[idx]))\n",
    "\n",
    "    # Sort the movies based on the similarity scores\n",
    "    sim_scores = sorted(sim_scores, key=lambda x: x[1], reverse=True)\n",
    "\n",
    "    # Get the scores of the 10 most similar movies\n",
    "    sim_scores = sim_scores[1:11]\n",
    "\n",
    "    # Get the movie indices\n",
    "    wines_indices = [i[0] for i in sim_scores]\n",
    "\n",
    "    # Return the top 10 most similar movies\n",
    "    return wines.iloc[wines_indices]"
   ],
   "metadata": {
    "collapsed": false,
    "pycharm": {
     "name": "#%%\n",
     "is_executing": false
    }
   }
  },
  {
   "cell_type": "code",
   "execution_count": 95,
   "outputs": [
    {
     "data": {
      "text/plain": "     wine_id                                         wine_name   type  \\\n112      113                         Premium Chianti DOCG 2017  Tinto   \n135      136                       Trio Vecchio Podere Chianti  Tinto   \n141      142  Vecchio Podere Cantine Cecconi Chianti DOCG 2017  Tinto   \n59        60                             El Molino Malbec 2019  Tinto   \n63        64     Famiglia Castellani Chianti Riserva DOCG 2015  Tinto   \n104      105                 Palacio del Burgo Rioja DOCa 2017  Tinto   \n22        23        Bellamico Montepulciano d'Abruzzo DOC 2018  Tinto   \n11        12             Atardecer de Los Andes Red Blend 2019  Tinto   \n146      147                              Viñapeña Tempranillo  Tinto   \n7          8                    Anciano Reserva Douro DOC 2016  Tinto   \n\n       country         region alcohol_content  \\\n112     Italia        Toscana            12,0   \n135     Italia        Toscana            12,0   \n141     Italia        Toscana            12,0   \n59   Argentina       Mendonza            13,0   \n63      Italia        Toscana            12,5   \n104    Espanha          Rioja            13,0   \n22      Italia        Abruzzo            12,0   \n11   Argentina      Argentina            13,0   \n146    Espanha  Multiregional            12,0   \n7     Portugal          Douro            13,5   \n\n                                producer  service  volume  \\\n112                           Castellani       17     750   \n135                      Cantine Cecconi       17     750   \n141                      Cantine Cecconi       17     750   \n59                        Grupo Penaflor       16     750   \n63                            Castellani       17     750   \n104                          Burgo Viejo       17     750   \n22              Angelo Rocca e Fligi Srl       16     750   \n11                              Fecovita       12     750   \n146                     J.Garcia Carrion       17     750   \n7    Casa Santos Lima/Guy Anderson Wines       16     750   \n\n                                        grape harvest  \\\n112                      Sangiovese, Canaiolo    2017   \n135                               Varias uvas    2017   \n141                               Varias uvas    2017   \n59                                     Malbec    2019   \n63   Sangiovese, Canaiolo, Cabernet Sauvignon    2015   \n104                               Tempranillo    2017   \n22                              Montepulciano    2018   \n11                                Varias uvas    2019   \n146                               Tempranillo    None   \n7                                 Varias uvas    2016   \n\n                                         harmonization  \\\n112             espagueteaomolhosugo,lasanhaabolonhesa   \n135             espagueteaomolhosugo,lasanhaabolonhesa   \n141             espagueteaomolhosugo,lasanhaabolonhesa   \n59                         churrasco,lasanhaabolonhesa   \n63                      lasanhaabolonhesa,carnesdecaça   \n104                   carnesvermelhasassadas,embutidos   \n22             carnesdeporco,molhoencorpadoseembutidos   \n11            pizzas,massascommolhosdetomate,embutidos   \n146                    pizzasvariadas,tábuadeembutidos   \n7    carnesvermelhasassadas,cozidodegrãodebicocomco...   \n\n                                                image  \n112                         Premium Chianti DOCG 2017  \n135                       Trio Vecchio Podere Chianti  \n141  Vecchio Podere Cantine Cecconi Chianti DOCG 2017  \n59                              El Molino Malbec 2019  \n63      Famiglia Castellani Chianti Riserva DOCG 2015  \n104                 Palacio del Burgo Rioja DOCa 2017  \n22         Bellamico Montepulciano d'Abruzzo DOC 2018  \n11              Atardecer de Los Andes Red Blend 2019  \n146                              Viñapeña Tempranillo  \n7                      Anciano Reserva Douro DOC 2016  ",
      "text/html": "<div>\n<style scoped>\n    .dataframe tbody tr th:only-of-type {\n        vertical-align: middle;\n    }\n\n    .dataframe tbody tr th {\n        vertical-align: top;\n    }\n\n    .dataframe thead th {\n        text-align: right;\n    }\n</style>\n<table border=\"1\" class=\"dataframe\">\n  <thead>\n    <tr style=\"text-align: right;\">\n      <th></th>\n      <th>wine_id</th>\n      <th>wine_name</th>\n      <th>type</th>\n      <th>country</th>\n      <th>region</th>\n      <th>alcohol_content</th>\n      <th>producer</th>\n      <th>service</th>\n      <th>volume</th>\n      <th>grape</th>\n      <th>harvest</th>\n      <th>harmonization</th>\n      <th>image</th>\n    </tr>\n  </thead>\n  <tbody>\n    <tr>\n      <th>112</th>\n      <td>113</td>\n      <td>Premium Chianti DOCG 2017</td>\n      <td>Tinto</td>\n      <td>Italia</td>\n      <td>Toscana</td>\n      <td>12,0</td>\n      <td>Castellani</td>\n      <td>17</td>\n      <td>750</td>\n      <td>Sangiovese, Canaiolo</td>\n      <td>2017</td>\n      <td>espagueteaomolhosugo,lasanhaabolonhesa</td>\n      <td>Premium Chianti DOCG 2017</td>\n    </tr>\n    <tr>\n      <th>135</th>\n      <td>136</td>\n      <td>Trio Vecchio Podere Chianti</td>\n      <td>Tinto</td>\n      <td>Italia</td>\n      <td>Toscana</td>\n      <td>12,0</td>\n      <td>Cantine Cecconi</td>\n      <td>17</td>\n      <td>750</td>\n      <td>Varias uvas</td>\n      <td>2017</td>\n      <td>espagueteaomolhosugo,lasanhaabolonhesa</td>\n      <td>Trio Vecchio Podere Chianti</td>\n    </tr>\n    <tr>\n      <th>141</th>\n      <td>142</td>\n      <td>Vecchio Podere Cantine Cecconi Chianti DOCG 2017</td>\n      <td>Tinto</td>\n      <td>Italia</td>\n      <td>Toscana</td>\n      <td>12,0</td>\n      <td>Cantine Cecconi</td>\n      <td>17</td>\n      <td>750</td>\n      <td>Varias uvas</td>\n      <td>2017</td>\n      <td>espagueteaomolhosugo,lasanhaabolonhesa</td>\n      <td>Vecchio Podere Cantine Cecconi Chianti DOCG 2017</td>\n    </tr>\n    <tr>\n      <th>59</th>\n      <td>60</td>\n      <td>El Molino Malbec 2019</td>\n      <td>Tinto</td>\n      <td>Argentina</td>\n      <td>Mendonza</td>\n      <td>13,0</td>\n      <td>Grupo Penaflor</td>\n      <td>16</td>\n      <td>750</td>\n      <td>Malbec</td>\n      <td>2019</td>\n      <td>churrasco,lasanhaabolonhesa</td>\n      <td>El Molino Malbec 2019</td>\n    </tr>\n    <tr>\n      <th>63</th>\n      <td>64</td>\n      <td>Famiglia Castellani Chianti Riserva DOCG 2015</td>\n      <td>Tinto</td>\n      <td>Italia</td>\n      <td>Toscana</td>\n      <td>12,5</td>\n      <td>Castellani</td>\n      <td>17</td>\n      <td>750</td>\n      <td>Sangiovese, Canaiolo, Cabernet Sauvignon</td>\n      <td>2015</td>\n      <td>lasanhaabolonhesa,carnesdecaça</td>\n      <td>Famiglia Castellani Chianti Riserva DOCG 2015</td>\n    </tr>\n    <tr>\n      <th>104</th>\n      <td>105</td>\n      <td>Palacio del Burgo Rioja DOCa 2017</td>\n      <td>Tinto</td>\n      <td>Espanha</td>\n      <td>Rioja</td>\n      <td>13,0</td>\n      <td>Burgo Viejo</td>\n      <td>17</td>\n      <td>750</td>\n      <td>Tempranillo</td>\n      <td>2017</td>\n      <td>carnesvermelhasassadas,embutidos</td>\n      <td>Palacio del Burgo Rioja DOCa 2017</td>\n    </tr>\n    <tr>\n      <th>22</th>\n      <td>23</td>\n      <td>Bellamico Montepulciano d'Abruzzo DOC 2018</td>\n      <td>Tinto</td>\n      <td>Italia</td>\n      <td>Abruzzo</td>\n      <td>12,0</td>\n      <td>Angelo Rocca e Fligi Srl</td>\n      <td>16</td>\n      <td>750</td>\n      <td>Montepulciano</td>\n      <td>2018</td>\n      <td>carnesdeporco,molhoencorpadoseembutidos</td>\n      <td>Bellamico Montepulciano d'Abruzzo DOC 2018</td>\n    </tr>\n    <tr>\n      <th>11</th>\n      <td>12</td>\n      <td>Atardecer de Los Andes Red Blend 2019</td>\n      <td>Tinto</td>\n      <td>Argentina</td>\n      <td>Argentina</td>\n      <td>13,0</td>\n      <td>Fecovita</td>\n      <td>12</td>\n      <td>750</td>\n      <td>Varias uvas</td>\n      <td>2019</td>\n      <td>pizzas,massascommolhosdetomate,embutidos</td>\n      <td>Atardecer de Los Andes Red Blend 2019</td>\n    </tr>\n    <tr>\n      <th>146</th>\n      <td>147</td>\n      <td>Viñapeña Tempranillo</td>\n      <td>Tinto</td>\n      <td>Espanha</td>\n      <td>Multiregional</td>\n      <td>12,0</td>\n      <td>J.Garcia Carrion</td>\n      <td>17</td>\n      <td>750</td>\n      <td>Tempranillo</td>\n      <td>None</td>\n      <td>pizzasvariadas,tábuadeembutidos</td>\n      <td>Viñapeña Tempranillo</td>\n    </tr>\n    <tr>\n      <th>7</th>\n      <td>8</td>\n      <td>Anciano Reserva Douro DOC 2016</td>\n      <td>Tinto</td>\n      <td>Portugal</td>\n      <td>Douro</td>\n      <td>13,5</td>\n      <td>Casa Santos Lima/Guy Anderson Wines</td>\n      <td>16</td>\n      <td>750</td>\n      <td>Varias uvas</td>\n      <td>2016</td>\n      <td>carnesvermelhasassadas,cozidodegrãodebicocomco...</td>\n      <td>Anciano Reserva Douro DOC 2016</td>\n    </tr>\n  </tbody>\n</table>\n</div>"
     },
     "metadata": {},
     "output_type": "execute_result",
     "execution_count": 95
    }
   ],
   "source": [
    "get_recommendations('Don Simón Selección Tempranillo', cosine_sim)\n",
    "\n"
   ],
   "metadata": {
    "collapsed": false,
    "pycharm": {
     "name": "#%%\n",
     "is_executing": false
    }
   }
  },
  {
   "cell_type": "code",
   "execution_count": 76,
   "outputs": [
    {
     "data": {
      "text/plain": "   wine_id                                          wine_name    type  \\\n0        1               Abadia del Roble White La Mancha D.O  branco   \n1        2                                Alqueve Branco 2017  branco   \n2        3  Altivo Vineyard Selection La Rioja Torrontes 2018  branco   \n3        4  Anciano 35 Years Old Vines Garnacha Calatayud ...   tinto   \n4        5  Anciano Crianza 3 years Tempranillo Valdepeñas...   tinto   \n\n     country      region alcohol_content                            producer  \\\n0    espanha    lamancha            12,0                        bodegasayuso   \n1   portugal        tejo            12,0                       pinhaldatorre   \n2  argentina     larioja            13,5                  fincaeugeniobustos   \n3    espanha   calatayud            15,0  bodegassangregorio-norrelrobertson   \n4    espanha  valdepenãs            12,5                             anciano   \n\n   service  volume        grape harvest  \\\n0       10     750        airen    None   \n1        9     750   variasuvas    2017   \n2        9     750    torrontes    2018   \n3       12     750     garnacha    2016   \n4       12     750  tempranillo    2014   \n\n                                       harmonization  \\\n0                                     Carnes brancas   \n1  Camarão grelhado, tomates recheados, moqueca, ...   \n2  Salada com frango grelhado, espetinho de camar...   \n3                                               None   \n4                                               None   \n\n                                               image  \n0               Abadia del Roble White La Mancha D.O  \n1                                Alqueve Branco 2017  \n2  Altivo Vineyard Selection La Rioja Torrontes 2018  \n3  Anciano 35 Years Old Vines Garnacha Calatayud ...  \n4  Anciano Crianza 3 years Tempranillo Valdepeñas...  ",
      "text/html": "<div>\n<style scoped>\n    .dataframe tbody tr th:only-of-type {\n        vertical-align: middle;\n    }\n\n    .dataframe tbody tr th {\n        vertical-align: top;\n    }\n\n    .dataframe thead th {\n        text-align: right;\n    }\n</style>\n<table border=\"1\" class=\"dataframe\">\n  <thead>\n    <tr style=\"text-align: right;\">\n      <th></th>\n      <th>wine_id</th>\n      <th>wine_name</th>\n      <th>type</th>\n      <th>country</th>\n      <th>region</th>\n      <th>alcohol_content</th>\n      <th>producer</th>\n      <th>service</th>\n      <th>volume</th>\n      <th>grape</th>\n      <th>harvest</th>\n      <th>harmonization</th>\n      <th>image</th>\n    </tr>\n  </thead>\n  <tbody>\n    <tr>\n      <th>0</th>\n      <td>1</td>\n      <td>Abadia del Roble White La Mancha D.O</td>\n      <td>branco</td>\n      <td>espanha</td>\n      <td>lamancha</td>\n      <td>12,0</td>\n      <td>bodegasayuso</td>\n      <td>10</td>\n      <td>750</td>\n      <td>airen</td>\n      <td>None</td>\n      <td>Carnes brancas</td>\n      <td>Abadia del Roble White La Mancha D.O</td>\n    </tr>\n    <tr>\n      <th>1</th>\n      <td>2</td>\n      <td>Alqueve Branco 2017</td>\n      <td>branco</td>\n      <td>portugal</td>\n      <td>tejo</td>\n      <td>12,0</td>\n      <td>pinhaldatorre</td>\n      <td>9</td>\n      <td>750</td>\n      <td>variasuvas</td>\n      <td>2017</td>\n      <td>Camarão grelhado, tomates recheados, moqueca, ...</td>\n      <td>Alqueve Branco 2017</td>\n    </tr>\n    <tr>\n      <th>2</th>\n      <td>3</td>\n      <td>Altivo Vineyard Selection La Rioja Torrontes 2018</td>\n      <td>branco</td>\n      <td>argentina</td>\n      <td>larioja</td>\n      <td>13,5</td>\n      <td>fincaeugeniobustos</td>\n      <td>9</td>\n      <td>750</td>\n      <td>torrontes</td>\n      <td>2018</td>\n      <td>Salada com frango grelhado, espetinho de camar...</td>\n      <td>Altivo Vineyard Selection La Rioja Torrontes 2018</td>\n    </tr>\n    <tr>\n      <th>3</th>\n      <td>4</td>\n      <td>Anciano 35 Years Old Vines Garnacha Calatayud ...</td>\n      <td>tinto</td>\n      <td>espanha</td>\n      <td>calatayud</td>\n      <td>15,0</td>\n      <td>bodegassangregorio-norrelrobertson</td>\n      <td>12</td>\n      <td>750</td>\n      <td>garnacha</td>\n      <td>2016</td>\n      <td>None</td>\n      <td>Anciano 35 Years Old Vines Garnacha Calatayud ...</td>\n    </tr>\n    <tr>\n      <th>4</th>\n      <td>5</td>\n      <td>Anciano Crianza 3 years Tempranillo Valdepeñas...</td>\n      <td>tinto</td>\n      <td>espanha</td>\n      <td>valdepenãs</td>\n      <td>12,5</td>\n      <td>anciano</td>\n      <td>12</td>\n      <td>750</td>\n      <td>tempranillo</td>\n      <td>2014</td>\n      <td>None</td>\n      <td>Anciano Crianza 3 years Tempranillo Valdepeñas...</td>\n    </tr>\n  </tbody>\n</table>\n</div>"
     },
     "metadata": {},
     "output_type": "execute_result",
     "execution_count": 76
    }
   ],
   "source": [
    "features = ['type', 'country', 'region', 'producer', 'grape']\n",
    "for feature in features:\n",
    "    wines[feature] = wines[feature].apply(clean_data)\n",
    "wines.head()"
   ],
   "metadata": {
    "collapsed": false,
    "pycharm": {
     "name": "#%%\n",
     "is_executing": false
    }
   }
  },
  {
   "cell_type": "code",
   "execution_count": 77,
   "outputs": [],
   "source": [
    "def create_soup(x):\n",
    "    return ' '.join(x['type']) + ' ' + ' '.join(x['country']) + ' ' + x['region'] + ' ' + ' '.join(x['producer']) + ' ' + ' '.join(x['grape']) + ' ' + ' '.join(x['harmonization'])\n",
    "\n"
   ],
   "metadata": {
    "collapsed": false,
    "pycharm": {
     "name": "#%%\n",
     "is_executing": false
    }
   }
  },
  {
   "cell_type": "code",
   "execution_count": 78,
   "outputs": [
    {
     "data": {
      "text/plain": "   wine_id                                          wine_name    type  \\\n0        1               Abadia del Roble White La Mancha D.O  branco   \n1        2                                Alqueve Branco 2017  branco   \n2        3  Altivo Vineyard Selection La Rioja Torrontes 2018  branco   \n3        4  Anciano 35 Years Old Vines Garnacha Calatayud ...   tinto   \n4        5  Anciano Crianza 3 years Tempranillo Valdepeñas...   tinto   \n\n     country      region alcohol_content                            producer  \\\n0    espanha    lamancha            12,0                        bodegasayuso   \n1   portugal        tejo            12,0                       pinhaldatorre   \n2  argentina     larioja            13,5                  fincaeugeniobustos   \n3    espanha   calatayud            15,0  bodegassangregorio-norrelrobertson   \n4    espanha  valdepenãs            12,5                             anciano   \n\n   service  volume        grape harvest  \\\n0       10     750        airen    None   \n1        9     750   variasuvas    2017   \n2        9     750    torrontes    2018   \n3       12     750     garnacha    2016   \n4       12     750  tempranillo    2014   \n\n                                       harmonization  \\\n0                                     Carnes brancas   \n1  Camarão grelhado, tomates recheados, moqueca, ...   \n2  Salada com frango grelhado, espetinho de camar...   \n3                                               None   \n4                                               None   \n\n                                               image  \\\n0               Abadia del Roble White La Mancha D.O   \n1                                Alqueve Branco 2017   \n2  Altivo Vineyard Selection La Rioja Torrontes 2018   \n3  Anciano 35 Years Old Vines Garnacha Calatayud ...   \n4  Anciano Crianza 3 years Tempranillo Valdepeñas...   \n\n                                                soup  \n0  b r a n c o e s p a n h a lamancha b o d e g a...  \n1  b r a n c o p o r t u g a l tejo p i n h a l d...  \n2  b r a n c o a r g e n t i n a larioja f i n c ...  \n3  t i n t o e s p a n h a calatayud b o d e g a ...  \n4  t i n t o e s p a n h a valdepenãs a n c i a n...  ",
      "text/html": "<div>\n<style scoped>\n    .dataframe tbody tr th:only-of-type {\n        vertical-align: middle;\n    }\n\n    .dataframe tbody tr th {\n        vertical-align: top;\n    }\n\n    .dataframe thead th {\n        text-align: right;\n    }\n</style>\n<table border=\"1\" class=\"dataframe\">\n  <thead>\n    <tr style=\"text-align: right;\">\n      <th></th>\n      <th>wine_id</th>\n      <th>wine_name</th>\n      <th>type</th>\n      <th>country</th>\n      <th>region</th>\n      <th>alcohol_content</th>\n      <th>producer</th>\n      <th>service</th>\n      <th>volume</th>\n      <th>grape</th>\n      <th>harvest</th>\n      <th>harmonization</th>\n      <th>image</th>\n      <th>soup</th>\n    </tr>\n  </thead>\n  <tbody>\n    <tr>\n      <th>0</th>\n      <td>1</td>\n      <td>Abadia del Roble White La Mancha D.O</td>\n      <td>branco</td>\n      <td>espanha</td>\n      <td>lamancha</td>\n      <td>12,0</td>\n      <td>bodegasayuso</td>\n      <td>10</td>\n      <td>750</td>\n      <td>airen</td>\n      <td>None</td>\n      <td>Carnes brancas</td>\n      <td>Abadia del Roble White La Mancha D.O</td>\n      <td>b r a n c o e s p a n h a lamancha b o d e g a...</td>\n    </tr>\n    <tr>\n      <th>1</th>\n      <td>2</td>\n      <td>Alqueve Branco 2017</td>\n      <td>branco</td>\n      <td>portugal</td>\n      <td>tejo</td>\n      <td>12,0</td>\n      <td>pinhaldatorre</td>\n      <td>9</td>\n      <td>750</td>\n      <td>variasuvas</td>\n      <td>2017</td>\n      <td>Camarão grelhado, tomates recheados, moqueca, ...</td>\n      <td>Alqueve Branco 2017</td>\n      <td>b r a n c o p o r t u g a l tejo p i n h a l d...</td>\n    </tr>\n    <tr>\n      <th>2</th>\n      <td>3</td>\n      <td>Altivo Vineyard Selection La Rioja Torrontes 2018</td>\n      <td>branco</td>\n      <td>argentina</td>\n      <td>larioja</td>\n      <td>13,5</td>\n      <td>fincaeugeniobustos</td>\n      <td>9</td>\n      <td>750</td>\n      <td>torrontes</td>\n      <td>2018</td>\n      <td>Salada com frango grelhado, espetinho de camar...</td>\n      <td>Altivo Vineyard Selection La Rioja Torrontes 2018</td>\n      <td>b r a n c o a r g e n t i n a larioja f i n c ...</td>\n    </tr>\n    <tr>\n      <th>3</th>\n      <td>4</td>\n      <td>Anciano 35 Years Old Vines Garnacha Calatayud ...</td>\n      <td>tinto</td>\n      <td>espanha</td>\n      <td>calatayud</td>\n      <td>15,0</td>\n      <td>bodegassangregorio-norrelrobertson</td>\n      <td>12</td>\n      <td>750</td>\n      <td>garnacha</td>\n      <td>2016</td>\n      <td>None</td>\n      <td>Anciano 35 Years Old Vines Garnacha Calatayud ...</td>\n      <td>t i n t o e s p a n h a calatayud b o d e g a ...</td>\n    </tr>\n    <tr>\n      <th>4</th>\n      <td>5</td>\n      <td>Anciano Crianza 3 years Tempranillo Valdepeñas...</td>\n      <td>tinto</td>\n      <td>espanha</td>\n      <td>valdepenãs</td>\n      <td>12,5</td>\n      <td>anciano</td>\n      <td>12</td>\n      <td>750</td>\n      <td>tempranillo</td>\n      <td>2014</td>\n      <td>None</td>\n      <td>Anciano Crianza 3 years Tempranillo Valdepeñas...</td>\n      <td>t i n t o e s p a n h a valdepenãs a n c i a n...</td>\n    </tr>\n  </tbody>\n</table>\n</div>"
     },
     "metadata": {},
     "output_type": "execute_result",
     "execution_count": 78
    }
   ],
   "source": [
    "# Create a new soup feature\n",
    "wines['soup'] = wines.apply(create_soup, axis=1)\n",
    "wines.head()"
   ],
   "metadata": {
    "collapsed": false,
    "pycharm": {
     "name": "#%%\n",
     "is_executing": false
    }
   }
  },
  {
   "cell_type": "code",
   "execution_count": 79,
   "outputs": [],
   "source": [
    "# Import CountVectorizer and create the count matrix\n",
    "count = CountVectorizer(stop_words=['portuguese', 'english'])\n",
    "count_matrix = count.fit_transform(wines['soup'])"
   ],
   "metadata": {
    "collapsed": false,
    "pycharm": {
     "name": "#%%\n",
     "is_executing": false
    }
   }
  },
  {
   "cell_type": "code",
   "execution_count": 80,
   "outputs": [],
   "source": [
    "# Compute the Cosine Similarity matrix based on the count_matrix\n",
    "cosine_sim2 = cosine_similarity(count_matrix, count_matrix)"
   ],
   "metadata": {
    "collapsed": false,
    "pycharm": {
     "name": "#%%\n",
     "is_executing": false
    }
   }
  },
  {
   "cell_type": "code",
   "execution_count": 81,
   "outputs": [],
   "source": [
    "# Reset index of your main DataFrame and construct reverse mapping as before\n",
    "metadata = wines.reset_index()\n",
    "indices = pd.Series(metadata.index, index=metadata['wine_name'])"
   ],
   "metadata": {
    "collapsed": false,
    "pycharm": {
     "name": "#%%\n",
     "is_executing": false
    }
   }
  },
  {
   "cell_type": "code",
   "execution_count": 82,
   "outputs": [
    {
     "data": {
      "text/plain": "     wine_id                                          wine_name    type  \\\n34        35                        Castillo D'Elaro Bobal 2018   tinto   \n54        55                    Don Simón Selección Tempranillo   tinto   \n106      107                                Pegaso Verdejo 2018  branco   \n154      155                            Sovento Chardonnay 2018  branco   \n155      156                       Sovento Sauvignon Blanc 2018  branco   \n0          1               Abadia del Roble White La Mancha D.O  branco   \n35        36  Castillo de Calatrava Tempranillo Crianza La M...   tinto   \n101      102                      Montefrio Airen La Mancha D.O  branco   \n1          2                                Alqueve Branco 2017  branco   \n2          3  Altivo Vineyard Selection La Rioja Torrontes 2018  branco   \n\n       country             region alcohol_content                 producer  \\\n34     espanha  castilla-lamancha            13,0          bodegasgallegas   \n54     espanha  castilla-lamancha            12,0          j.garciacarrion   \n106    espanha  castilla-lamancha            12,5  bodegasluisgurpeguimuga   \n154    espanha  castilla-lamancha            11,5    bodegasfernandocastro   \n155    espanha  castilla-lamancha            11,5    bodegasfernandocastro   \n0      espanha           lamancha            12,0             bodegasayuso   \n35     espanha           lamancha            13,0       vinicoladecastilla   \n101    espanha           lamancha            11,0               felixsolis   \n1     portugal               tejo            12,0            pinhaldatorre   \n2    argentina            larioja            13,5       fincaeugeniobustos   \n\n     service  volume           grape harvest  \\\n34        17     750           bobal    2018   \n54        16     750     tempranillo    None   \n106       16     750         verdejo    2018   \n154        7     750      chardonnay    2018   \n155        7     750  sauvignonblanc    2018   \n0         10     750           airen    None   \n35        17     750     tempranillo    2016   \n101       12     750           airen    None   \n1          9     750      variasuvas    2017   \n2          9     750       torrontes    2018   \n\n                                         harmonization  \\\n34                                                None   \n54                    Embutidos, espaguete a bolonhesa   \n106  Peixe grelhado, frutos do mar, pimentoes reche...   \n154                     Salmao, peixes com molho, aves   \n155                    Entradas leves, saladas, peixes   \n0                                       Carnes brancas   \n35                         Churrasco, queijos amarelos   \n101                    Frutos do mar, tabua de queijos   \n1    Camarão grelhado, tomates recheados, moqueca, ...   \n2    Salada com frango grelhado, espetinho de camar...   \n\n                                                 image  \\\n34                         Castillo D'Elaro Bobal 2018   \n54                     Don Simón Selección Tempranillo   \n106                                Pegaso Verdejo 2018   \n154                            Sovento Chardonnay 2018   \n155                       Sovento Sauvignon Blanc 2018   \n0                 Abadia del Roble White La Mancha D.O   \n35   Castillo de Calatrava Tempranillo Crianza La M...   \n101                      Montefrio Airen La Mancha D.O   \n1                                  Alqueve Branco 2017   \n2    Altivo Vineyard Selection La Rioja Torrontes 2018   \n\n                                                  soup  \n34   t i n t o e s p a n h a castilla-lamancha b o ...  \n54   t i n t o e s p a n h a castilla-lamancha j . ...  \n106  b r a n c o e s p a n h a castilla-lamancha b ...  \n154  b r a n c o e s p a n h a castilla-lamancha b ...  \n155  b r a n c o e s p a n h a castilla-lamancha b ...  \n0    b r a n c o e s p a n h a lamancha b o d e g a...  \n35   t i n t o e s p a n h a lamancha v i n i c o l...  \n101  b r a n c o e s p a n h a lamancha f e l i x s...  \n1    b r a n c o p o r t u g a l tejo p i n h a l d...  \n2    b r a n c o a r g e n t i n a larioja f i n c ...  ",
      "text/html": "<div>\n<style scoped>\n    .dataframe tbody tr th:only-of-type {\n        vertical-align: middle;\n    }\n\n    .dataframe tbody tr th {\n        vertical-align: top;\n    }\n\n    .dataframe thead th {\n        text-align: right;\n    }\n</style>\n<table border=\"1\" class=\"dataframe\">\n  <thead>\n    <tr style=\"text-align: right;\">\n      <th></th>\n      <th>wine_id</th>\n      <th>wine_name</th>\n      <th>type</th>\n      <th>country</th>\n      <th>region</th>\n      <th>alcohol_content</th>\n      <th>producer</th>\n      <th>service</th>\n      <th>volume</th>\n      <th>grape</th>\n      <th>harvest</th>\n      <th>harmonization</th>\n      <th>image</th>\n      <th>soup</th>\n    </tr>\n  </thead>\n  <tbody>\n    <tr>\n      <th>34</th>\n      <td>35</td>\n      <td>Castillo D'Elaro Bobal 2018</td>\n      <td>tinto</td>\n      <td>espanha</td>\n      <td>castilla-lamancha</td>\n      <td>13,0</td>\n      <td>bodegasgallegas</td>\n      <td>17</td>\n      <td>750</td>\n      <td>bobal</td>\n      <td>2018</td>\n      <td>None</td>\n      <td>Castillo D'Elaro Bobal 2018</td>\n      <td>t i n t o e s p a n h a castilla-lamancha b o ...</td>\n    </tr>\n    <tr>\n      <th>54</th>\n      <td>55</td>\n      <td>Don Simón Selección Tempranillo</td>\n      <td>tinto</td>\n      <td>espanha</td>\n      <td>castilla-lamancha</td>\n      <td>12,0</td>\n      <td>j.garciacarrion</td>\n      <td>16</td>\n      <td>750</td>\n      <td>tempranillo</td>\n      <td>None</td>\n      <td>Embutidos, espaguete a bolonhesa</td>\n      <td>Don Simón Selección Tempranillo</td>\n      <td>t i n t o e s p a n h a castilla-lamancha j . ...</td>\n    </tr>\n    <tr>\n      <th>106</th>\n      <td>107</td>\n      <td>Pegaso Verdejo 2018</td>\n      <td>branco</td>\n      <td>espanha</td>\n      <td>castilla-lamancha</td>\n      <td>12,5</td>\n      <td>bodegasluisgurpeguimuga</td>\n      <td>16</td>\n      <td>750</td>\n      <td>verdejo</td>\n      <td>2018</td>\n      <td>Peixe grelhado, frutos do mar, pimentoes reche...</td>\n      <td>Pegaso Verdejo 2018</td>\n      <td>b r a n c o e s p a n h a castilla-lamancha b ...</td>\n    </tr>\n    <tr>\n      <th>154</th>\n      <td>155</td>\n      <td>Sovento Chardonnay 2018</td>\n      <td>branco</td>\n      <td>espanha</td>\n      <td>castilla-lamancha</td>\n      <td>11,5</td>\n      <td>bodegasfernandocastro</td>\n      <td>7</td>\n      <td>750</td>\n      <td>chardonnay</td>\n      <td>2018</td>\n      <td>Salmao, peixes com molho, aves</td>\n      <td>Sovento Chardonnay 2018</td>\n      <td>b r a n c o e s p a n h a castilla-lamancha b ...</td>\n    </tr>\n    <tr>\n      <th>155</th>\n      <td>156</td>\n      <td>Sovento Sauvignon Blanc 2018</td>\n      <td>branco</td>\n      <td>espanha</td>\n      <td>castilla-lamancha</td>\n      <td>11,5</td>\n      <td>bodegasfernandocastro</td>\n      <td>7</td>\n      <td>750</td>\n      <td>sauvignonblanc</td>\n      <td>2018</td>\n      <td>Entradas leves, saladas, peixes</td>\n      <td>Sovento Sauvignon Blanc 2018</td>\n      <td>b r a n c o e s p a n h a castilla-lamancha b ...</td>\n    </tr>\n    <tr>\n      <th>0</th>\n      <td>1</td>\n      <td>Abadia del Roble White La Mancha D.O</td>\n      <td>branco</td>\n      <td>espanha</td>\n      <td>lamancha</td>\n      <td>12,0</td>\n      <td>bodegasayuso</td>\n      <td>10</td>\n      <td>750</td>\n      <td>airen</td>\n      <td>None</td>\n      <td>Carnes brancas</td>\n      <td>Abadia del Roble White La Mancha D.O</td>\n      <td>b r a n c o e s p a n h a lamancha b o d e g a...</td>\n    </tr>\n    <tr>\n      <th>35</th>\n      <td>36</td>\n      <td>Castillo de Calatrava Tempranillo Crianza La M...</td>\n      <td>tinto</td>\n      <td>espanha</td>\n      <td>lamancha</td>\n      <td>13,0</td>\n      <td>vinicoladecastilla</td>\n      <td>17</td>\n      <td>750</td>\n      <td>tempranillo</td>\n      <td>2016</td>\n      <td>Churrasco, queijos amarelos</td>\n      <td>Castillo de Calatrava Tempranillo Crianza La M...</td>\n      <td>t i n t o e s p a n h a lamancha v i n i c o l...</td>\n    </tr>\n    <tr>\n      <th>101</th>\n      <td>102</td>\n      <td>Montefrio Airen La Mancha D.O</td>\n      <td>branco</td>\n      <td>espanha</td>\n      <td>lamancha</td>\n      <td>11,0</td>\n      <td>felixsolis</td>\n      <td>12</td>\n      <td>750</td>\n      <td>airen</td>\n      <td>None</td>\n      <td>Frutos do mar, tabua de queijos</td>\n      <td>Montefrio Airen La Mancha D.O</td>\n      <td>b r a n c o e s p a n h a lamancha f e l i x s...</td>\n    </tr>\n    <tr>\n      <th>1</th>\n      <td>2</td>\n      <td>Alqueve Branco 2017</td>\n      <td>branco</td>\n      <td>portugal</td>\n      <td>tejo</td>\n      <td>12,0</td>\n      <td>pinhaldatorre</td>\n      <td>9</td>\n      <td>750</td>\n      <td>variasuvas</td>\n      <td>2017</td>\n      <td>Camarão grelhado, tomates recheados, moqueca, ...</td>\n      <td>Alqueve Branco 2017</td>\n      <td>b r a n c o p o r t u g a l tejo p i n h a l d...</td>\n    </tr>\n    <tr>\n      <th>2</th>\n      <td>3</td>\n      <td>Altivo Vineyard Selection La Rioja Torrontes 2018</td>\n      <td>branco</td>\n      <td>argentina</td>\n      <td>larioja</td>\n      <td>13,5</td>\n      <td>fincaeugeniobustos</td>\n      <td>9</td>\n      <td>750</td>\n      <td>torrontes</td>\n      <td>2018</td>\n      <td>Salada com frango grelhado, espetinho de camar...</td>\n      <td>Altivo Vineyard Selection La Rioja Torrontes 2018</td>\n      <td>b r a n c o a r g e n t i n a larioja f i n c ...</td>\n    </tr>\n  </tbody>\n</table>\n</div>"
     },
     "metadata": {},
     "output_type": "execute_result",
     "execution_count": 82
    }
   ],
   "source": [
    "get_recommendations('Don Simón Selección Tempranillo', cosine_sim2)\n"
   ],
   "metadata": {
    "collapsed": false,
    "pycharm": {
     "name": "#%%\n",
     "is_executing": false
    }
   }
  }
 ],
 "metadata": {
  "kernelspec": {
   "display_name": "Python 3",
   "language": "python",
   "name": "python3"
  },
  "language_info": {
   "codemirror_mode": {
    "name": "ipython",
    "version": 2
   },
   "file_extension": ".py",
   "mimetype": "text/x-python",
   "name": "python",
   "nbconvert_exporter": "python",
   "pygments_lexer": "ipython2",
   "version": "2.7.6"
  },
  "pycharm": {
   "stem_cell": {
    "cell_type": "raw",
    "source": [],
    "metadata": {
     "collapsed": false
    }
   }
  }
 },
 "nbformat": 4,
 "nbformat_minor": 0
}