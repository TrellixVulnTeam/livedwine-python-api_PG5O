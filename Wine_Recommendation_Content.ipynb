{
 "cells": [
  {
   "cell_type": "code",
   "execution_count": 25,
   "metadata": {
    "collapsed": true,
    "pycharm": {
     "is_executing": false
    }
   },
   "outputs": [],
   "source": [
    "import pandas as pd \n",
    "import chardet\n",
    "from sklearn.metrics.pairwise import linear_kernel\n",
    "from sklearn.metrics.pairwise import cosine_similarity\n",
    "from sklearn.feature_extraction.text import TfidfVectorizer\n",
    "from sklearn.feature_extraction.text import CountVectorizer\n",
    "import pymysql"
   ]
  },
  {
   "cell_type": "code",
   "execution_count": 24,
   "outputs": [],
   "source": [
    "def find_encoding(fname):\n",
    "    r_file = open(fname, 'rb').read()\n",
    "    result = chardet.detect(r_file)\n",
    "    charenc = result['encoding']\n",
    "    return charenc"
   ],
   "metadata": {
    "collapsed": false,
    "pycharm": {
     "name": "#%%\n",
     "is_executing": false
    }
   }
  },
  {
   "cell_type": "code",
   "execution_count": 23,
   "outputs": [],
   "source": [
    "# Function to convert all strings to lower case and strip names of spaces\n",
    "def clean_data(x):\n",
    "    if isinstance(x, list):\n",
    "        return [str.lower(i.replace(\" \", \"\")) for i in x]\n",
    "    else:\n",
    "        #Check if director exists. If not, return empty string\n",
    "        if isinstance(x, str):\n",
    "            return str.lower(x.replace(\" \", \"\"))\n",
    "        else:\n",
    "            return ''\n",
    "        "
   ],
   "metadata": {
    "collapsed": false,
    "pycharm": {
     "name": "#%%\n",
     "is_executing": false
    }
   }
  },
  {
   "cell_type": "code",
   "execution_count": 26,
   "outputs": [
    {
     "data": {
      "text/plain": "   wine_id                                          wine_name    type  \\\n0        1               Abadia del Roble White La Mancha D.O  Branco   \n1        2                                Alqueve Branco 2017  Branco   \n2        3  Altivo Vineyard Selection La Rioja Torrontes 2018  Branco   \n3        4  Anciano 35 Years Old Vines Garnacha Calatayud ...   Tinto   \n4        5  Anciano Crianza 3 years Tempranillo Valdepeñas...   Tinto   \n\n     country      region  alcohol_content  \\\n0    Espanha   La Mancha             12.0   \n1   Portugal        Tejo             12.0   \n2  Argentina    La Rioja             13.5   \n3    Espanha   Calatayud             15.0   \n4    Espanha  Valdepenãs             12.5   \n\n                                  producer  service  volume        grape  \\\n0                            Bodegas Ayuso       10     750        Airen   \n1                          Pinhal da torre        9     750  Varias uvas   \n2                     Finca Eugenio Bustos        9     750    Torrontes   \n3  Bodegas San Gregorio - Norrel Robertson       12     750     Garnacha   \n4                                  Anciano       12     750  Tempranillo   \n\n   harvest                                      harmonization  \\\n0        0                                     Carnes brancas   \n1     2017  Camarão grelhado, tomates recheados, moqueca, ...   \n2     2018  Salada com frango grelhado, espetinho de camar...   \n3     2016                                               None   \n4     2014                                               None   \n\n                                               image  \n0             Abadia del Roble White La Mancha D.O\\r  \n1                              Alqueve Branco 2017\\r  \n2  Altivo Vineyard Selection La Rioja Torrontes 2...  \n3  Anciano 35 Years Old Vines Garnacha Calatayud ...  \n4  Anciano Crianza 3 years Tempranillo Valdepeñas...  ",
      "text/html": "<div>\n<style scoped>\n    .dataframe tbody tr th:only-of-type {\n        vertical-align: middle;\n    }\n\n    .dataframe tbody tr th {\n        vertical-align: top;\n    }\n\n    .dataframe thead th {\n        text-align: right;\n    }\n</style>\n<table border=\"1\" class=\"dataframe\">\n  <thead>\n    <tr style=\"text-align: right;\">\n      <th></th>\n      <th>wine_id</th>\n      <th>wine_name</th>\n      <th>type</th>\n      <th>country</th>\n      <th>region</th>\n      <th>alcohol_content</th>\n      <th>producer</th>\n      <th>service</th>\n      <th>volume</th>\n      <th>grape</th>\n      <th>harvest</th>\n      <th>harmonization</th>\n      <th>image</th>\n    </tr>\n  </thead>\n  <tbody>\n    <tr>\n      <th>0</th>\n      <td>1</td>\n      <td>Abadia del Roble White La Mancha D.O</td>\n      <td>Branco</td>\n      <td>Espanha</td>\n      <td>La Mancha</td>\n      <td>12.0</td>\n      <td>Bodegas Ayuso</td>\n      <td>10</td>\n      <td>750</td>\n      <td>Airen</td>\n      <td>0</td>\n      <td>Carnes brancas</td>\n      <td>Abadia del Roble White La Mancha D.O\\r</td>\n    </tr>\n    <tr>\n      <th>1</th>\n      <td>2</td>\n      <td>Alqueve Branco 2017</td>\n      <td>Branco</td>\n      <td>Portugal</td>\n      <td>Tejo</td>\n      <td>12.0</td>\n      <td>Pinhal da torre</td>\n      <td>9</td>\n      <td>750</td>\n      <td>Varias uvas</td>\n      <td>2017</td>\n      <td>Camarão grelhado, tomates recheados, moqueca, ...</td>\n      <td>Alqueve Branco 2017\\r</td>\n    </tr>\n    <tr>\n      <th>2</th>\n      <td>3</td>\n      <td>Altivo Vineyard Selection La Rioja Torrontes 2018</td>\n      <td>Branco</td>\n      <td>Argentina</td>\n      <td>La Rioja</td>\n      <td>13.5</td>\n      <td>Finca Eugenio Bustos</td>\n      <td>9</td>\n      <td>750</td>\n      <td>Torrontes</td>\n      <td>2018</td>\n      <td>Salada com frango grelhado, espetinho de camar...</td>\n      <td>Altivo Vineyard Selection La Rioja Torrontes 2...</td>\n    </tr>\n    <tr>\n      <th>3</th>\n      <td>4</td>\n      <td>Anciano 35 Years Old Vines Garnacha Calatayud ...</td>\n      <td>Tinto</td>\n      <td>Espanha</td>\n      <td>Calatayud</td>\n      <td>15.0</td>\n      <td>Bodegas San Gregorio - Norrel Robertson</td>\n      <td>12</td>\n      <td>750</td>\n      <td>Garnacha</td>\n      <td>2016</td>\n      <td>None</td>\n      <td>Anciano 35 Years Old Vines Garnacha Calatayud ...</td>\n    </tr>\n    <tr>\n      <th>4</th>\n      <td>5</td>\n      <td>Anciano Crianza 3 years Tempranillo Valdepeñas...</td>\n      <td>Tinto</td>\n      <td>Espanha</td>\n      <td>Valdepenãs</td>\n      <td>12.5</td>\n      <td>Anciano</td>\n      <td>12</td>\n      <td>750</td>\n      <td>Tempranillo</td>\n      <td>2014</td>\n      <td>None</td>\n      <td>Anciano Crianza 3 years Tempranillo Valdepeñas...</td>\n    </tr>\n  </tbody>\n</table>\n</div>"
     },
     "metadata": {},
     "output_type": "execute_result",
     "execution_count": 26
    }
   ],
   "source": [
    "# This method takes the database connection.\n",
    "conn = pymysql.connect(host='localhost', port=int(3306), user='yabaconsultoria', passwd='yaba2389', db=\"livedwine\",\n",
    "                           charset='utf8')\n",
    "wines = pd.read_sql_query(\"SELECT * FROM wine\", conn)\n",
    "conn.close()\n",
    "wines.head()\n"
   ],
   "metadata": {
    "collapsed": false,
    "pycharm": {
     "name": "#%%\n",
     "is_executing": false
    }
   }
  },
  {
   "cell_type": "code",
   "execution_count": 27,
   "outputs": [
    {
     "data": {
      "text/plain": "   wine_id                                          wine_name    type  \\\n0        1               Abadia del Roble White La Mancha D.O  Branco   \n1        2                                Alqueve Branco 2017  Branco   \n2        3  Altivo Vineyard Selection La Rioja Torrontes 2018  Branco   \n3        4  Anciano 35 Years Old Vines Garnacha Calatayud ...   Tinto   \n4        5  Anciano Crianza 3 years Tempranillo Valdepeñas...   Tinto   \n\n     country      region  alcohol_content  \\\n0    Espanha   La Mancha             12.0   \n1   Portugal        Tejo             12.0   \n2  Argentina    La Rioja             13.5   \n3    Espanha   Calatayud             15.0   \n4    Espanha  Valdepenãs             12.5   \n\n                                  producer  service  volume        grape  \\\n0                            Bodegas Ayuso       10     750        Airen   \n1                          Pinhal da torre        9     750  Varias uvas   \n2                     Finca Eugenio Bustos        9     750    Torrontes   \n3  Bodegas San Gregorio - Norrel Robertson       12     750     Garnacha   \n4                                  Anciano       12     750  Tempranillo   \n\n   harvest                                      harmonization  \\\n0        0                                     Carnes brancas   \n1     2017  Camarão grelhado, tomates recheados, moqueca, ...   \n2     2018  Salada com frango grelhado, espetinho de camar...   \n3     2016                                               None   \n4     2014                                               None   \n\n                                               image  \n0             Abadia del Roble White La Mancha D.O\\r  \n1                              Alqueve Branco 2017\\r  \n2  Altivo Vineyard Selection La Rioja Torrontes 2...  \n3  Anciano 35 Years Old Vines Garnacha Calatayud ...  \n4  Anciano Crianza 3 years Tempranillo Valdepeñas...  ",
      "text/html": "<div>\n<style scoped>\n    .dataframe tbody tr th:only-of-type {\n        vertical-align: middle;\n    }\n\n    .dataframe tbody tr th {\n        vertical-align: top;\n    }\n\n    .dataframe thead th {\n        text-align: right;\n    }\n</style>\n<table border=\"1\" class=\"dataframe\">\n  <thead>\n    <tr style=\"text-align: right;\">\n      <th></th>\n      <th>wine_id</th>\n      <th>wine_name</th>\n      <th>type</th>\n      <th>country</th>\n      <th>region</th>\n      <th>alcohol_content</th>\n      <th>producer</th>\n      <th>service</th>\n      <th>volume</th>\n      <th>grape</th>\n      <th>harvest</th>\n      <th>harmonization</th>\n      <th>image</th>\n    </tr>\n  </thead>\n  <tbody>\n    <tr>\n      <th>0</th>\n      <td>1</td>\n      <td>Abadia del Roble White La Mancha D.O</td>\n      <td>Branco</td>\n      <td>Espanha</td>\n      <td>La Mancha</td>\n      <td>12.0</td>\n      <td>Bodegas Ayuso</td>\n      <td>10</td>\n      <td>750</td>\n      <td>Airen</td>\n      <td>0</td>\n      <td>Carnes brancas</td>\n      <td>Abadia del Roble White La Mancha D.O\\r</td>\n    </tr>\n    <tr>\n      <th>1</th>\n      <td>2</td>\n      <td>Alqueve Branco 2017</td>\n      <td>Branco</td>\n      <td>Portugal</td>\n      <td>Tejo</td>\n      <td>12.0</td>\n      <td>Pinhal da torre</td>\n      <td>9</td>\n      <td>750</td>\n      <td>Varias uvas</td>\n      <td>2017</td>\n      <td>Camarão grelhado, tomates recheados, moqueca, ...</td>\n      <td>Alqueve Branco 2017\\r</td>\n    </tr>\n    <tr>\n      <th>2</th>\n      <td>3</td>\n      <td>Altivo Vineyard Selection La Rioja Torrontes 2018</td>\n      <td>Branco</td>\n      <td>Argentina</td>\n      <td>La Rioja</td>\n      <td>13.5</td>\n      <td>Finca Eugenio Bustos</td>\n      <td>9</td>\n      <td>750</td>\n      <td>Torrontes</td>\n      <td>2018</td>\n      <td>Salada com frango grelhado, espetinho de camar...</td>\n      <td>Altivo Vineyard Selection La Rioja Torrontes 2...</td>\n    </tr>\n    <tr>\n      <th>3</th>\n      <td>4</td>\n      <td>Anciano 35 Years Old Vines Garnacha Calatayud ...</td>\n      <td>Tinto</td>\n      <td>Espanha</td>\n      <td>Calatayud</td>\n      <td>15.0</td>\n      <td>Bodegas San Gregorio - Norrel Robertson</td>\n      <td>12</td>\n      <td>750</td>\n      <td>Garnacha</td>\n      <td>2016</td>\n      <td>None</td>\n      <td>Anciano 35 Years Old Vines Garnacha Calatayud ...</td>\n    </tr>\n    <tr>\n      <th>4</th>\n      <td>5</td>\n      <td>Anciano Crianza 3 years Tempranillo Valdepeñas...</td>\n      <td>Tinto</td>\n      <td>Espanha</td>\n      <td>Valdepenãs</td>\n      <td>12.5</td>\n      <td>Anciano</td>\n      <td>12</td>\n      <td>750</td>\n      <td>Tempranillo</td>\n      <td>2014</td>\n      <td>None</td>\n      <td>Anciano Crianza 3 years Tempranillo Valdepeñas...</td>\n    </tr>\n  </tbody>\n</table>\n</div>"
     },
     "metadata": {},
     "output_type": "execute_result",
     "execution_count": 27
    }
   ],
   "source": [
    "wines['harmonization'] = wines['harmonization'].fillna('')\n",
    "wines.head()"
   ],
   "metadata": {
    "collapsed": false,
    "pycharm": {
     "name": "#%%\n",
     "is_executing": false
    }
   }
  },
  {
   "cell_type": "code",
   "execution_count": 28,
   "outputs": [],
   "source": [
    "#Define a TF-IDF Vectorizer Object.\n",
    "tfidf = TfidfVectorizer(stop_words=['portuguese', 'inglish'])"
   ],
   "metadata": {
    "collapsed": false,
    "pycharm": {
     "name": "#%%\n",
     "is_executing": false
    }
   }
  },
  {
   "cell_type": "code",
   "execution_count": 29,
   "outputs": [
    {
     "data": {
      "text/plain": "(181, 433)"
     },
     "metadata": {},
     "output_type": "execute_result",
     "execution_count": 29
    }
   ],
   "source": [
    "#Construct the required TF-IDF matrix by fitting and transforming the data\n",
    "tfidf_matrix = tfidf.fit_transform(wines['harmonization'])\n",
    "tfidf_matrix.shape"
   ],
   "metadata": {
    "collapsed": false,
    "pycharm": {
     "name": "#%%\n",
     "is_executing": false
    }
   }
  },
  {
   "cell_type": "code",
   "execution_count": 30,
   "outputs": [
    {
     "name": "stdout",
     "text": [
      "[[1.         0.         0.         ... 0.         0.         0.        ]\n [0.         1.         0.25928832 ... 0.08518523 0.05132592 0.50185261]\n [0.         0.25928832 1.         ... 0.06224578 0.1353054  0.08961693]\n ...\n [0.         0.08518523 0.06224578 ... 1.         0.04425497 0.17661701]\n [0.         0.05132592 0.1353054  ... 0.04425497 1.         0.05478699]\n [0.         0.50185261 0.08961693 ... 0.17661701 0.05478699 1.        ]]\n"
     ],
     "output_type": "stream"
    }
   ],
   "source": [
    "# Compute the cosine similarity matrix\n",
    "cosine_sim = linear_kernel(tfidf_matrix, tfidf_matrix)\n",
    "print(cosine_sim)"
   ],
   "metadata": {
    "collapsed": false,
    "pycharm": {
     "name": "#%%\n",
     "is_executing": false
    }
   }
  },
  {
   "cell_type": "code",
   "execution_count": 31,
   "outputs": [],
   "source": [
    "#Construct a reverse map of indices and movie titles\n",
    "indices = pd.Series(wines.index, index=wines['wine_name']).drop_duplicates()\n",
    "wines['harmonization'] = wines['harmonization'].apply(clean_data)"
   ],
   "metadata": {
    "collapsed": false,
    "pycharm": {
     "name": "#%%\n",
     "is_executing": false
    }
   }
  },
  {
   "cell_type": "code",
   "execution_count": 41,
   "outputs": [],
   "source": [
    "# Function that takes in movie title as input and outputs most similar movies\n",
    "def get_recommendations(wine_name, cosine_sim):\n",
    "    # Get the index of the movie that matches the title\n",
    "    idx = indices[wine_name]\n",
    "\n",
    "    # Get the pairwsie similarity scores of all movies with that movie\n",
    "    sim_scores = list(enumerate(cosine_sim[idx]))\n",
    "\n",
    "    # Sort the movies based on the similarity scores\n",
    "    sim_scores = sorted(sim_scores, key=lambda x: x[1], reverse=True)\n",
    "\n",
    "    # Get the scores of the 10 most similar movies\n",
    "    sim_scores = sim_scores[1:11]\n",
    "\n",
    "    # Get the movie indices\n",
    "    wines_indices = [i[0] for i in sim_scores]\n",
    "    print(wines_indices)\n",
    "\n",
    "    # Return the top 10 most similar movies\n",
    "    return wines.iloc[wines_indices]"
   ],
   "metadata": {
    "collapsed": false,
    "pycharm": {
     "name": "#%%\n",
     "is_executing": false
    }
   }
  },
  {
   "cell_type": "code",
   "execution_count": 33,
   "outputs": [
    {
     "traceback": [
      "\u001b[1;31m---------------------------------------------------------------------------\u001b[0m",
      "\u001b[1;31mAttributeError\u001b[0m                            Traceback (most recent call last)",
      "\u001b[1;32m<ipython-input-33-12c6dd00a336>\u001b[0m in \u001b[0;36m<module>\u001b[1;34m\u001b[0m\n\u001b[1;32m----> 1\u001b[1;33m \u001b[0mget_recommendations\u001b[0m\u001b[1;33m(\u001b[0m\u001b[1;34m'Don Simón Selección Tempranillo'\u001b[0m\u001b[1;33m,\u001b[0m \u001b[0mcosine_sim\u001b[0m\u001b[1;33m)\u001b[0m\u001b[1;33m\u001b[0m\u001b[1;33m\u001b[0m\u001b[0m\n\u001b[0m\u001b[0;32m      2\u001b[0m \u001b[1;33m\u001b[0m\u001b[0m\n\u001b[0;32m      3\u001b[0m \u001b[1;33m\u001b[0m\u001b[0m\n\u001b[0;32m      4\u001b[0m \u001b[1;33m\u001b[0m\u001b[0m\n",
      "\u001b[1;32m<ipython-input-32-47f31dc14c99>\u001b[0m in \u001b[0;36mget_recommendations\u001b[1;34m(wine_name, cosine_sim)\u001b[0m\n\u001b[0;32m     15\u001b[0m     \u001b[1;31m# Get the movie indices\u001b[0m\u001b[1;33m\u001b[0m\u001b[1;33m\u001b[0m\u001b[1;33m\u001b[0m\u001b[0m\n\u001b[0;32m     16\u001b[0m     \u001b[0mwines_indices\u001b[0m \u001b[1;33m=\u001b[0m \u001b[1;33m[\u001b[0m\u001b[0mi\u001b[0m\u001b[1;33m[\u001b[0m\u001b[1;36m0\u001b[0m\u001b[1;33m]\u001b[0m \u001b[1;32mfor\u001b[0m \u001b[0mi\u001b[0m \u001b[1;32min\u001b[0m \u001b[0msim_scores\u001b[0m\u001b[1;33m]\u001b[0m\u001b[1;33m\u001b[0m\u001b[1;33m\u001b[0m\u001b[0m\n\u001b[1;32m---> 17\u001b[1;33m     \u001b[0mwines_indices\u001b[0m\u001b[1;33m.\u001b[0m\u001b[0mhead\u001b[0m\u001b[1;33m(\u001b[0m\u001b[1;33m)\u001b[0m\u001b[1;33m\u001b[0m\u001b[1;33m\u001b[0m\u001b[0m\n\u001b[0m\u001b[0;32m     18\u001b[0m \u001b[1;33m\u001b[0m\u001b[0m\n\u001b[0;32m     19\u001b[0m     \u001b[1;31m# Return the top 10 most similar movies\u001b[0m\u001b[1;33m\u001b[0m\u001b[1;33m\u001b[0m\u001b[1;33m\u001b[0m\u001b[0m\n",
      "\u001b[1;31mAttributeError\u001b[0m: 'list' object has no attribute 'head'"
     ],
     "ename": "AttributeError",
     "evalue": "'list' object has no attribute 'head'",
     "output_type": "error"
    }
   ],
   "source": [
    "get_recommendations('Don Simón Selección Tempranillo', cosine_sim)\n",
    "\n"
   ],
   "metadata": {
    "collapsed": false,
    "pycharm": {
     "name": "#%%\n",
     "is_executing": false
    }
   }
  },
  {
   "cell_type": "code",
   "execution_count": 34,
   "outputs": [
    {
     "data": {
      "text/plain": "   wine_id                                          wine_name    type  \\\n0        1               Abadia del Roble White La Mancha D.O  branco   \n1        2                                Alqueve Branco 2017  branco   \n2        3  Altivo Vineyard Selection La Rioja Torrontes 2018  branco   \n3        4  Anciano 35 Years Old Vines Garnacha Calatayud ...   tinto   \n4        5  Anciano Crianza 3 years Tempranillo Valdepeñas...   tinto   \n\n     country      region  alcohol_content                            producer  \\\n0    espanha    lamancha             12.0                        bodegasayuso   \n1   portugal        tejo             12.0                       pinhaldatorre   \n2  argentina     larioja             13.5                  fincaeugeniobustos   \n3    espanha   calatayud             15.0  bodegassangregorio-norrelrobertson   \n4    espanha  valdepenãs             12.5                             anciano   \n\n   service  volume        grape  harvest  \\\n0       10     750        airen        0   \n1        9     750   variasuvas     2017   \n2        9     750    torrontes     2018   \n3       12     750     garnacha     2016   \n4       12     750  tempranillo     2014   \n\n                                       harmonization  \\\n0                                      carnesbrancas   \n1  camarãogrelhado,tomatesrecheados,moqueca,talha...   \n2  saladacomfrangogrelhado,espetinhodecamarao,tom...   \n3                                               none   \n4                                               none   \n\n                                               image  \n0             Abadia del Roble White La Mancha D.O\\r  \n1                              Alqueve Branco 2017\\r  \n2  Altivo Vineyard Selection La Rioja Torrontes 2...  \n3  Anciano 35 Years Old Vines Garnacha Calatayud ...  \n4  Anciano Crianza 3 years Tempranillo Valdepeñas...  ",
      "text/html": "<div>\n<style scoped>\n    .dataframe tbody tr th:only-of-type {\n        vertical-align: middle;\n    }\n\n    .dataframe tbody tr th {\n        vertical-align: top;\n    }\n\n    .dataframe thead th {\n        text-align: right;\n    }\n</style>\n<table border=\"1\" class=\"dataframe\">\n  <thead>\n    <tr style=\"text-align: right;\">\n      <th></th>\n      <th>wine_id</th>\n      <th>wine_name</th>\n      <th>type</th>\n      <th>country</th>\n      <th>region</th>\n      <th>alcohol_content</th>\n      <th>producer</th>\n      <th>service</th>\n      <th>volume</th>\n      <th>grape</th>\n      <th>harvest</th>\n      <th>harmonization</th>\n      <th>image</th>\n    </tr>\n  </thead>\n  <tbody>\n    <tr>\n      <th>0</th>\n      <td>1</td>\n      <td>Abadia del Roble White La Mancha D.O</td>\n      <td>branco</td>\n      <td>espanha</td>\n      <td>lamancha</td>\n      <td>12.0</td>\n      <td>bodegasayuso</td>\n      <td>10</td>\n      <td>750</td>\n      <td>airen</td>\n      <td>0</td>\n      <td>carnesbrancas</td>\n      <td>Abadia del Roble White La Mancha D.O\\r</td>\n    </tr>\n    <tr>\n      <th>1</th>\n      <td>2</td>\n      <td>Alqueve Branco 2017</td>\n      <td>branco</td>\n      <td>portugal</td>\n      <td>tejo</td>\n      <td>12.0</td>\n      <td>pinhaldatorre</td>\n      <td>9</td>\n      <td>750</td>\n      <td>variasuvas</td>\n      <td>2017</td>\n      <td>camarãogrelhado,tomatesrecheados,moqueca,talha...</td>\n      <td>Alqueve Branco 2017\\r</td>\n    </tr>\n    <tr>\n      <th>2</th>\n      <td>3</td>\n      <td>Altivo Vineyard Selection La Rioja Torrontes 2018</td>\n      <td>branco</td>\n      <td>argentina</td>\n      <td>larioja</td>\n      <td>13.5</td>\n      <td>fincaeugeniobustos</td>\n      <td>9</td>\n      <td>750</td>\n      <td>torrontes</td>\n      <td>2018</td>\n      <td>saladacomfrangogrelhado,espetinhodecamarao,tom...</td>\n      <td>Altivo Vineyard Selection La Rioja Torrontes 2...</td>\n    </tr>\n    <tr>\n      <th>3</th>\n      <td>4</td>\n      <td>Anciano 35 Years Old Vines Garnacha Calatayud ...</td>\n      <td>tinto</td>\n      <td>espanha</td>\n      <td>calatayud</td>\n      <td>15.0</td>\n      <td>bodegassangregorio-norrelrobertson</td>\n      <td>12</td>\n      <td>750</td>\n      <td>garnacha</td>\n      <td>2016</td>\n      <td>none</td>\n      <td>Anciano 35 Years Old Vines Garnacha Calatayud ...</td>\n    </tr>\n    <tr>\n      <th>4</th>\n      <td>5</td>\n      <td>Anciano Crianza 3 years Tempranillo Valdepeñas...</td>\n      <td>tinto</td>\n      <td>espanha</td>\n      <td>valdepenãs</td>\n      <td>12.5</td>\n      <td>anciano</td>\n      <td>12</td>\n      <td>750</td>\n      <td>tempranillo</td>\n      <td>2014</td>\n      <td>none</td>\n      <td>Anciano Crianza 3 years Tempranillo Valdepeñas...</td>\n    </tr>\n  </tbody>\n</table>\n</div>"
     },
     "metadata": {},
     "output_type": "execute_result",
     "execution_count": 34
    }
   ],
   "source": [
    "features = ['type', 'country', 'region', 'producer', 'grape']\n",
    "for feature in features:\n",
    "    wines[feature] = wines[feature].apply(clean_data)\n",
    "wines.head()"
   ],
   "metadata": {
    "collapsed": false,
    "pycharm": {
     "name": "#%%\n",
     "is_executing": false
    }
   }
  },
  {
   "cell_type": "code",
   "execution_count": 35,
   "outputs": [],
   "source": [
    "def create_soup(x):\n",
    "    return ' '.join(x['type']) + ' ' + ' '.join(x['country']) + ' ' + x['region'] + ' ' + ' '.join(x['producer']) + ' ' + ' '.join(x['grape']) + ' ' + ' '.join(x['harmonization'])\n",
    "\n"
   ],
   "metadata": {
    "collapsed": false,
    "pycharm": {
     "name": "#%%\n",
     "is_executing": false
    }
   }
  },
  {
   "cell_type": "code",
   "execution_count": 36,
   "outputs": [
    {
     "data": {
      "text/plain": "   wine_id                                          wine_name    type  \\\n0        1               Abadia del Roble White La Mancha D.O  branco   \n1        2                                Alqueve Branco 2017  branco   \n2        3  Altivo Vineyard Selection La Rioja Torrontes 2018  branco   \n3        4  Anciano 35 Years Old Vines Garnacha Calatayud ...   tinto   \n4        5  Anciano Crianza 3 years Tempranillo Valdepeñas...   tinto   \n\n     country      region  alcohol_content                            producer  \\\n0    espanha    lamancha             12.0                        bodegasayuso   \n1   portugal        tejo             12.0                       pinhaldatorre   \n2  argentina     larioja             13.5                  fincaeugeniobustos   \n3    espanha   calatayud             15.0  bodegassangregorio-norrelrobertson   \n4    espanha  valdepenãs             12.5                             anciano   \n\n   service  volume        grape  harvest  \\\n0       10     750        airen        0   \n1        9     750   variasuvas     2017   \n2        9     750    torrontes     2018   \n3       12     750     garnacha     2016   \n4       12     750  tempranillo     2014   \n\n                                       harmonization  \\\n0                                      carnesbrancas   \n1  camarãogrelhado,tomatesrecheados,moqueca,talha...   \n2  saladacomfrangogrelhado,espetinhodecamarao,tom...   \n3                                               none   \n4                                               none   \n\n                                               image  \\\n0             Abadia del Roble White La Mancha D.O\\r   \n1                              Alqueve Branco 2017\\r   \n2  Altivo Vineyard Selection La Rioja Torrontes 2...   \n3  Anciano 35 Years Old Vines Garnacha Calatayud ...   \n4  Anciano Crianza 3 years Tempranillo Valdepeñas...   \n\n                                                soup  \n0  b r a n c o e s p a n h a lamancha b o d e g a...  \n1  b r a n c o p o r t u g a l tejo p i n h a l d...  \n2  b r a n c o a r g e n t i n a larioja f i n c ...  \n3  t i n t o e s p a n h a calatayud b o d e g a ...  \n4  t i n t o e s p a n h a valdepenãs a n c i a n...  ",
      "text/html": "<div>\n<style scoped>\n    .dataframe tbody tr th:only-of-type {\n        vertical-align: middle;\n    }\n\n    .dataframe tbody tr th {\n        vertical-align: top;\n    }\n\n    .dataframe thead th {\n        text-align: right;\n    }\n</style>\n<table border=\"1\" class=\"dataframe\">\n  <thead>\n    <tr style=\"text-align: right;\">\n      <th></th>\n      <th>wine_id</th>\n      <th>wine_name</th>\n      <th>type</th>\n      <th>country</th>\n      <th>region</th>\n      <th>alcohol_content</th>\n      <th>producer</th>\n      <th>service</th>\n      <th>volume</th>\n      <th>grape</th>\n      <th>harvest</th>\n      <th>harmonization</th>\n      <th>image</th>\n      <th>soup</th>\n    </tr>\n  </thead>\n  <tbody>\n    <tr>\n      <th>0</th>\n      <td>1</td>\n      <td>Abadia del Roble White La Mancha D.O</td>\n      <td>branco</td>\n      <td>espanha</td>\n      <td>lamancha</td>\n      <td>12.0</td>\n      <td>bodegasayuso</td>\n      <td>10</td>\n      <td>750</td>\n      <td>airen</td>\n      <td>0</td>\n      <td>carnesbrancas</td>\n      <td>Abadia del Roble White La Mancha D.O\\r</td>\n      <td>b r a n c o e s p a n h a lamancha b o d e g a...</td>\n    </tr>\n    <tr>\n      <th>1</th>\n      <td>2</td>\n      <td>Alqueve Branco 2017</td>\n      <td>branco</td>\n      <td>portugal</td>\n      <td>tejo</td>\n      <td>12.0</td>\n      <td>pinhaldatorre</td>\n      <td>9</td>\n      <td>750</td>\n      <td>variasuvas</td>\n      <td>2017</td>\n      <td>camarãogrelhado,tomatesrecheados,moqueca,talha...</td>\n      <td>Alqueve Branco 2017\\r</td>\n      <td>b r a n c o p o r t u g a l tejo p i n h a l d...</td>\n    </tr>\n    <tr>\n      <th>2</th>\n      <td>3</td>\n      <td>Altivo Vineyard Selection La Rioja Torrontes 2018</td>\n      <td>branco</td>\n      <td>argentina</td>\n      <td>larioja</td>\n      <td>13.5</td>\n      <td>fincaeugeniobustos</td>\n      <td>9</td>\n      <td>750</td>\n      <td>torrontes</td>\n      <td>2018</td>\n      <td>saladacomfrangogrelhado,espetinhodecamarao,tom...</td>\n      <td>Altivo Vineyard Selection La Rioja Torrontes 2...</td>\n      <td>b r a n c o a r g e n t i n a larioja f i n c ...</td>\n    </tr>\n    <tr>\n      <th>3</th>\n      <td>4</td>\n      <td>Anciano 35 Years Old Vines Garnacha Calatayud ...</td>\n      <td>tinto</td>\n      <td>espanha</td>\n      <td>calatayud</td>\n      <td>15.0</td>\n      <td>bodegassangregorio-norrelrobertson</td>\n      <td>12</td>\n      <td>750</td>\n      <td>garnacha</td>\n      <td>2016</td>\n      <td>none</td>\n      <td>Anciano 35 Years Old Vines Garnacha Calatayud ...</td>\n      <td>t i n t o e s p a n h a calatayud b o d e g a ...</td>\n    </tr>\n    <tr>\n      <th>4</th>\n      <td>5</td>\n      <td>Anciano Crianza 3 years Tempranillo Valdepeñas...</td>\n      <td>tinto</td>\n      <td>espanha</td>\n      <td>valdepenãs</td>\n      <td>12.5</td>\n      <td>anciano</td>\n      <td>12</td>\n      <td>750</td>\n      <td>tempranillo</td>\n      <td>2014</td>\n      <td>none</td>\n      <td>Anciano Crianza 3 years Tempranillo Valdepeñas...</td>\n      <td>t i n t o e s p a n h a valdepenãs a n c i a n...</td>\n    </tr>\n  </tbody>\n</table>\n</div>"
     },
     "metadata": {},
     "output_type": "execute_result",
     "execution_count": 36
    }
   ],
   "source": [
    "# Create a new soup feature\n",
    "wines['soup'] = wines.apply(create_soup, axis=1)\n",
    "wines.head()"
   ],
   "metadata": {
    "collapsed": false,
    "pycharm": {
     "name": "#%%\n",
     "is_executing": false
    }
   }
  },
  {
   "cell_type": "code",
   "execution_count": 37,
   "outputs": [],
   "source": [
    "# Import CountVectorizer and create the count matrix\n",
    "count = CountVectorizer(stop_words=['portuguese', 'english'])\n",
    "count_matrix = count.fit_transform(wines['soup'])"
   ],
   "metadata": {
    "collapsed": false,
    "pycharm": {
     "name": "#%%\n",
     "is_executing": false
    }
   }
  },
  {
   "cell_type": "code",
   "execution_count": 38,
   "outputs": [],
   "source": [
    "# Compute the Cosine Similarity matrix based on the count_matrix\n",
    "cosine_sim2 = cosine_similarity(count_matrix, count_matrix)"
   ],
   "metadata": {
    "collapsed": false,
    "pycharm": {
     "name": "#%%\n",
     "is_executing": false
    }
   }
  },
  {
   "cell_type": "code",
   "execution_count": 39,
   "outputs": [],
   "source": [
    "# Reset index of your main DataFrame and construct reverse mapping as before\n",
    "metadata = wines.reset_index()\n",
    "indices = pd.Series(metadata.index, index=metadata['wine_name'])"
   ],
   "metadata": {
    "collapsed": false,
    "pycharm": {
     "name": "#%%\n",
     "is_executing": false
    }
   }
  },
  {
   "cell_type": "code",
   "execution_count": 42,
   "outputs": [
    {
     "name": "stdout",
     "text": [
      "[34, 54, 106, 154, 155, 0, 35, 101, 1, 2]\n"
     ],
     "output_type": "stream"
    },
    {
     "data": {
      "text/plain": "     wine_id                                          wine_name    type  \\\n34        35                        Castillo D'Elaro Bobal 2018   tinto   \n54        55                    Don Simón Selección Tempranillo   tinto   \n106      107                                Pegaso Verdejo 2018  branco   \n154      155                            Sovento Chardonnay 2018  branco   \n155      156                       Sovento Sauvignon Blanc 2018  branco   \n0          1               Abadia del Roble White La Mancha D.O  branco   \n35        36  Castillo de Calatrava Tempranillo Crianza La M...   tinto   \n101      102                      Montefrio Airen La Mancha D.O  branco   \n1          2                                Alqueve Branco 2017  branco   \n2          3  Altivo Vineyard Selection La Rioja Torrontes 2018  branco   \n\n       country             region  alcohol_content                 producer  \\\n34     espanha  castilla-lamancha             13.0          bodegasgallegas   \n54     espanha  castilla-lamancha             12.0          j.garciacarrion   \n106    espanha  castilla-lamancha             12.5  bodegasluisgurpeguimuga   \n154    espanha  castilla-lamancha             11.5    bodegasfernandocastro   \n155    espanha  castilla-lamancha             11.5    bodegasfernandocastro   \n0      espanha           lamancha             12.0             bodegasayuso   \n35     espanha           lamancha             13.0       vinicoladecastilla   \n101    espanha           lamancha             11.0               felixsolis   \n1     portugal               tejo             12.0            pinhaldatorre   \n2    argentina            larioja             13.5       fincaeugeniobustos   \n\n     service  volume           grape  harvest  \\\n34        17     750           bobal     2018   \n54        16     750     tempranillo        0   \n106       16     750         verdejo     2018   \n154        7     750      chardonnay     2018   \n155        7     750  sauvignonblanc     2018   \n0         10     750           airen        0   \n35        17     750     tempranillo     2016   \n101       12     750           airen        0   \n1          9     750      variasuvas     2017   \n2          9     750       torrontes     2018   \n\n                                         harmonization  \\\n34                                                none   \n54                       embutidos,espagueteabolonhesa   \n106       peixegrelhado,frutosdomar,pimentoesrecheados   \n154                         salmao,peixescommolho,aves   \n155                       entradasleves,saladas,peixes   \n0                                        carnesbrancas   \n35                           churrasco,queijosamarelos   \n101                         frutosdomar,tabuadequeijos   \n1    camarãogrelhado,tomatesrecheados,moqueca,talha...   \n2    saladacomfrangogrelhado,espetinhodecamarao,tom...   \n\n                                                 image  \\\n34                       Castillo D'Elaro Bobal 2018\\r   \n54                   Don Simón Selección Tempranillo\\r   \n106                              Pegaso Verdejo 2018\\r   \n154                          Sovento Chardonnay 2018\\r   \n155                     Sovento Sauvignon Blanc 2018\\r   \n0               Abadia del Roble White La Mancha D.O\\r   \n35   Castillo de Calatrava Tempranillo Crianza La M...   \n101                    Montefrio Airen La Mancha D.O\\r   \n1                                Alqueve Branco 2017\\r   \n2    Altivo Vineyard Selection La Rioja Torrontes 2...   \n\n                                                  soup  \n34   t i n t o e s p a n h a castilla-lamancha b o ...  \n54   t i n t o e s p a n h a castilla-lamancha j . ...  \n106  b r a n c o e s p a n h a castilla-lamancha b ...  \n154  b r a n c o e s p a n h a castilla-lamancha b ...  \n155  b r a n c o e s p a n h a castilla-lamancha b ...  \n0    b r a n c o e s p a n h a lamancha b o d e g a...  \n35   t i n t o e s p a n h a lamancha v i n i c o l...  \n101  b r a n c o e s p a n h a lamancha f e l i x s...  \n1    b r a n c o p o r t u g a l tejo p i n h a l d...  \n2    b r a n c o a r g e n t i n a larioja f i n c ...  ",
      "text/html": "<div>\n<style scoped>\n    .dataframe tbody tr th:only-of-type {\n        vertical-align: middle;\n    }\n\n    .dataframe tbody tr th {\n        vertical-align: top;\n    }\n\n    .dataframe thead th {\n        text-align: right;\n    }\n</style>\n<table border=\"1\" class=\"dataframe\">\n  <thead>\n    <tr style=\"text-align: right;\">\n      <th></th>\n      <th>wine_id</th>\n      <th>wine_name</th>\n      <th>type</th>\n      <th>country</th>\n      <th>region</th>\n      <th>alcohol_content</th>\n      <th>producer</th>\n      <th>service</th>\n      <th>volume</th>\n      <th>grape</th>\n      <th>harvest</th>\n      <th>harmonization</th>\n      <th>image</th>\n      <th>soup</th>\n    </tr>\n  </thead>\n  <tbody>\n    <tr>\n      <th>34</th>\n      <td>35</td>\n      <td>Castillo D'Elaro Bobal 2018</td>\n      <td>tinto</td>\n      <td>espanha</td>\n      <td>castilla-lamancha</td>\n      <td>13.0</td>\n      <td>bodegasgallegas</td>\n      <td>17</td>\n      <td>750</td>\n      <td>bobal</td>\n      <td>2018</td>\n      <td>none</td>\n      <td>Castillo D'Elaro Bobal 2018\\r</td>\n      <td>t i n t o e s p a n h a castilla-lamancha b o ...</td>\n    </tr>\n    <tr>\n      <th>54</th>\n      <td>55</td>\n      <td>Don Simón Selección Tempranillo</td>\n      <td>tinto</td>\n      <td>espanha</td>\n      <td>castilla-lamancha</td>\n      <td>12.0</td>\n      <td>j.garciacarrion</td>\n      <td>16</td>\n      <td>750</td>\n      <td>tempranillo</td>\n      <td>0</td>\n      <td>embutidos,espagueteabolonhesa</td>\n      <td>Don Simón Selección Tempranillo\\r</td>\n      <td>t i n t o e s p a n h a castilla-lamancha j . ...</td>\n    </tr>\n    <tr>\n      <th>106</th>\n      <td>107</td>\n      <td>Pegaso Verdejo 2018</td>\n      <td>branco</td>\n      <td>espanha</td>\n      <td>castilla-lamancha</td>\n      <td>12.5</td>\n      <td>bodegasluisgurpeguimuga</td>\n      <td>16</td>\n      <td>750</td>\n      <td>verdejo</td>\n      <td>2018</td>\n      <td>peixegrelhado,frutosdomar,pimentoesrecheados</td>\n      <td>Pegaso Verdejo 2018\\r</td>\n      <td>b r a n c o e s p a n h a castilla-lamancha b ...</td>\n    </tr>\n    <tr>\n      <th>154</th>\n      <td>155</td>\n      <td>Sovento Chardonnay 2018</td>\n      <td>branco</td>\n      <td>espanha</td>\n      <td>castilla-lamancha</td>\n      <td>11.5</td>\n      <td>bodegasfernandocastro</td>\n      <td>7</td>\n      <td>750</td>\n      <td>chardonnay</td>\n      <td>2018</td>\n      <td>salmao,peixescommolho,aves</td>\n      <td>Sovento Chardonnay 2018\\r</td>\n      <td>b r a n c o e s p a n h a castilla-lamancha b ...</td>\n    </tr>\n    <tr>\n      <th>155</th>\n      <td>156</td>\n      <td>Sovento Sauvignon Blanc 2018</td>\n      <td>branco</td>\n      <td>espanha</td>\n      <td>castilla-lamancha</td>\n      <td>11.5</td>\n      <td>bodegasfernandocastro</td>\n      <td>7</td>\n      <td>750</td>\n      <td>sauvignonblanc</td>\n      <td>2018</td>\n      <td>entradasleves,saladas,peixes</td>\n      <td>Sovento Sauvignon Blanc 2018\\r</td>\n      <td>b r a n c o e s p a n h a castilla-lamancha b ...</td>\n    </tr>\n    <tr>\n      <th>0</th>\n      <td>1</td>\n      <td>Abadia del Roble White La Mancha D.O</td>\n      <td>branco</td>\n      <td>espanha</td>\n      <td>lamancha</td>\n      <td>12.0</td>\n      <td>bodegasayuso</td>\n      <td>10</td>\n      <td>750</td>\n      <td>airen</td>\n      <td>0</td>\n      <td>carnesbrancas</td>\n      <td>Abadia del Roble White La Mancha D.O\\r</td>\n      <td>b r a n c o e s p a n h a lamancha b o d e g a...</td>\n    </tr>\n    <tr>\n      <th>35</th>\n      <td>36</td>\n      <td>Castillo de Calatrava Tempranillo Crianza La M...</td>\n      <td>tinto</td>\n      <td>espanha</td>\n      <td>lamancha</td>\n      <td>13.0</td>\n      <td>vinicoladecastilla</td>\n      <td>17</td>\n      <td>750</td>\n      <td>tempranillo</td>\n      <td>2016</td>\n      <td>churrasco,queijosamarelos</td>\n      <td>Castillo de Calatrava Tempranillo Crianza La M...</td>\n      <td>t i n t o e s p a n h a lamancha v i n i c o l...</td>\n    </tr>\n    <tr>\n      <th>101</th>\n      <td>102</td>\n      <td>Montefrio Airen La Mancha D.O</td>\n      <td>branco</td>\n      <td>espanha</td>\n      <td>lamancha</td>\n      <td>11.0</td>\n      <td>felixsolis</td>\n      <td>12</td>\n      <td>750</td>\n      <td>airen</td>\n      <td>0</td>\n      <td>frutosdomar,tabuadequeijos</td>\n      <td>Montefrio Airen La Mancha D.O\\r</td>\n      <td>b r a n c o e s p a n h a lamancha f e l i x s...</td>\n    </tr>\n    <tr>\n      <th>1</th>\n      <td>2</td>\n      <td>Alqueve Branco 2017</td>\n      <td>branco</td>\n      <td>portugal</td>\n      <td>tejo</td>\n      <td>12.0</td>\n      <td>pinhaldatorre</td>\n      <td>9</td>\n      <td>750</td>\n      <td>variasuvas</td>\n      <td>2017</td>\n      <td>camarãogrelhado,tomatesrecheados,moqueca,talha...</td>\n      <td>Alqueve Branco 2017\\r</td>\n      <td>b r a n c o p o r t u g a l tejo p i n h a l d...</td>\n    </tr>\n    <tr>\n      <th>2</th>\n      <td>3</td>\n      <td>Altivo Vineyard Selection La Rioja Torrontes 2018</td>\n      <td>branco</td>\n      <td>argentina</td>\n      <td>larioja</td>\n      <td>13.5</td>\n      <td>fincaeugeniobustos</td>\n      <td>9</td>\n      <td>750</td>\n      <td>torrontes</td>\n      <td>2018</td>\n      <td>saladacomfrangogrelhado,espetinhodecamarao,tom...</td>\n      <td>Altivo Vineyard Selection La Rioja Torrontes 2...</td>\n      <td>b r a n c o a r g e n t i n a larioja f i n c ...</td>\n    </tr>\n  </tbody>\n</table>\n</div>"
     },
     "metadata": {},
     "output_type": "execute_result",
     "execution_count": 42
    }
   ],
   "source": [
    "get_recommendations('Don Simón Selección Tempranillo', cosine_sim2)\n"
   ],
   "metadata": {
    "collapsed": false,
    "pycharm": {
     "name": "#%%\n",
     "is_executing": false
    }
   }
  }
 ],
 "metadata": {
  "kernelspec": {
   "display_name": "Python 3",
   "language": "python",
   "name": "python3"
  },
  "language_info": {
   "codemirror_mode": {
    "name": "ipython",
    "version": 2
   },
   "file_extension": ".py",
   "mimetype": "text/x-python",
   "name": "python",
   "nbconvert_exporter": "python",
   "pygments_lexer": "ipython2",
   "version": "2.7.6"
  },
  "pycharm": {
   "stem_cell": {
    "cell_type": "raw",
    "source": [],
    "metadata": {
     "collapsed": false
    }
   }
  }
 },
 "nbformat": 4,
 "nbformat_minor": 0
}