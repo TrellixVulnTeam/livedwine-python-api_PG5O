{
 "cells": [
  {
   "cell_type": "code",
   "execution_count": 96,
   "metadata": {
    "collapsed": true,
    "pycharm": {
     "is_executing": false
    }
   },
   "outputs": [],
   "source": [
    "import numpy as np \n",
    "import pandas as pd \n",
    "import chardet\n",
    "import matplotlib.pyplot as plt\n",
    "from sklearn.metrics import pairwise_distances"
   ]
  },
  {
   "cell_type": "code",
   "execution_count": 98,
   "outputs": [],
   "source": [
    "def find_encoding(fname):\n",
    "    r_file = open(fname, 'rb').read()\n",
    "    result = chardet.detect(r_file)\n",
    "    charenc = result['encoding']\n",
    "    return charenc"
   ],
   "metadata": {
    "collapsed": false,
    "pycharm": {
     "name": "#%%\n",
     "is_executing": false
    }
   }
  },
  {
   "cell_type": "code",
   "execution_count": 99,
   "outputs": [
    {
     "data": {
      "text/plain": "'ISO-8859-1'"
     },
     "metadata": {},
     "output_type": "execute_result",
     "execution_count": 99
    }
   ],
   "source": [
    "# Detect the enconde having in csv file.\n",
    "my_encoding = find_encoding('data/wines.csv')\n",
    "my_encoding"
   ],
   "metadata": {
    "collapsed": false,
    "pycharm": {
     "name": "#%%\n",
     "is_executing": false
    }
   }
  },
  {
   "cell_type": "code",
   "execution_count": 100,
   "outputs": [
    {
     "data": {
      "text/plain": "   wine_id                                               name   type  country  \\\n0        1  Expedicion Single Vineyard Selection Cabernet ...  Tinto    Chile   \n1        2  Duo R One Ronaldinho Brunello di Montalcino DO...  Tinto   Italia   \n2        3                    Jules Desvignes Pinot Noir 2016  Tinto   França   \n3        4  Anciano Gran Reserva 10 years Valdepeñas D.O. ...  Tinto  Espanha   \n4        5  Mil Raices Selección Especial Cabernet Sauvign...  Tinto    Chile   \n\n                 region  alcohol_content                 producer service  \\\n0          Vale Central             13.0          Finca Patagonia      17   \n1               Toscana             15.0            Fabio Cordela      18   \n2  Languedoc-Roussillon             12.5  Domaine Du Pere Guillot      16   \n3            Valdepenas             13.0                  Anciano      17   \n4                   NaN             13.0               Mil Raices      17   \n\n   volume  vintage  \n0     750   2019.0  \n1     750   2014.0  \n2     750   2016.0  \n3     750   2007.0  \n4     750      NaN  ",
      "text/html": "<div>\n<style scoped>\n    .dataframe tbody tr th:only-of-type {\n        vertical-align: middle;\n    }\n\n    .dataframe tbody tr th {\n        vertical-align: top;\n    }\n\n    .dataframe thead th {\n        text-align: right;\n    }\n</style>\n<table border=\"1\" class=\"dataframe\">\n  <thead>\n    <tr style=\"text-align: right;\">\n      <th></th>\n      <th>wine_id</th>\n      <th>name</th>\n      <th>type</th>\n      <th>country</th>\n      <th>region</th>\n      <th>alcohol_content</th>\n      <th>producer</th>\n      <th>service</th>\n      <th>volume</th>\n      <th>vintage</th>\n    </tr>\n  </thead>\n  <tbody>\n    <tr>\n      <th>0</th>\n      <td>1</td>\n      <td>Expedicion Single Vineyard Selection Cabernet ...</td>\n      <td>Tinto</td>\n      <td>Chile</td>\n      <td>Vale Central</td>\n      <td>13.0</td>\n      <td>Finca Patagonia</td>\n      <td>17</td>\n      <td>750</td>\n      <td>2019.0</td>\n    </tr>\n    <tr>\n      <th>1</th>\n      <td>2</td>\n      <td>Duo R One Ronaldinho Brunello di Montalcino DO...</td>\n      <td>Tinto</td>\n      <td>Italia</td>\n      <td>Toscana</td>\n      <td>15.0</td>\n      <td>Fabio Cordela</td>\n      <td>18</td>\n      <td>750</td>\n      <td>2014.0</td>\n    </tr>\n    <tr>\n      <th>2</th>\n      <td>3</td>\n      <td>Jules Desvignes Pinot Noir 2016</td>\n      <td>Tinto</td>\n      <td>França</td>\n      <td>Languedoc-Roussillon</td>\n      <td>12.5</td>\n      <td>Domaine Du Pere Guillot</td>\n      <td>16</td>\n      <td>750</td>\n      <td>2016.0</td>\n    </tr>\n    <tr>\n      <th>3</th>\n      <td>4</td>\n      <td>Anciano Gran Reserva 10 years Valdepeñas D.O. ...</td>\n      <td>Tinto</td>\n      <td>Espanha</td>\n      <td>Valdepenas</td>\n      <td>13.0</td>\n      <td>Anciano</td>\n      <td>17</td>\n      <td>750</td>\n      <td>2007.0</td>\n    </tr>\n    <tr>\n      <th>4</th>\n      <td>5</td>\n      <td>Mil Raices Selección Especial Cabernet Sauvign...</td>\n      <td>Tinto</td>\n      <td>Chile</td>\n      <td>NaN</td>\n      <td>13.0</td>\n      <td>Mil Raices</td>\n      <td>17</td>\n      <td>750</td>\n      <td>NaN</td>\n    </tr>\n  </tbody>\n</table>\n</div>"
     },
     "metadata": {},
     "output_type": "execute_result",
     "execution_count": 100
    }
   ],
   "source": [
    "# Import wines dataset\n",
    "wines_col = ['wine_id', 'name', 'type', 'country', 'region', 'alcohol_content', 'producer', 'service', 'volume', 'vintage']\n",
    "wines = pd.read_csv('data/wines.csv', sep=';', names=wines_col, encoding=my_encoding, engine='python')\n",
    "wines.head()"
   ],
   "metadata": {
    "collapsed": false,
    "pycharm": {
     "name": "#%%\n",
     "is_executing": false
    }
   }
  },
  {
   "cell_type": "code",
   "execution_count": 101,
   "outputs": [
    {
     "data": {
      "text/plain": "   user_id  wine_id  rating\n0       10       81       1\n1        7       52       4\n2        3       34       2\n3        1       12       1\n4        4       61       1",
      "text/html": "<div>\n<style scoped>\n    .dataframe tbody tr th:only-of-type {\n        vertical-align: middle;\n    }\n\n    .dataframe tbody tr th {\n        vertical-align: top;\n    }\n\n    .dataframe thead th {\n        text-align: right;\n    }\n</style>\n<table border=\"1\" class=\"dataframe\">\n  <thead>\n    <tr style=\"text-align: right;\">\n      <th></th>\n      <th>user_id</th>\n      <th>wine_id</th>\n      <th>rating</th>\n    </tr>\n  </thead>\n  <tbody>\n    <tr>\n      <th>0</th>\n      <td>10</td>\n      <td>81</td>\n      <td>1</td>\n    </tr>\n    <tr>\n      <th>1</th>\n      <td>7</td>\n      <td>52</td>\n      <td>4</td>\n    </tr>\n    <tr>\n      <th>2</th>\n      <td>3</td>\n      <td>34</td>\n      <td>2</td>\n    </tr>\n    <tr>\n      <th>3</th>\n      <td>1</td>\n      <td>12</td>\n      <td>1</td>\n    </tr>\n    <tr>\n      <th>4</th>\n      <td>4</td>\n      <td>61</td>\n      <td>1</td>\n    </tr>\n  </tbody>\n</table>\n</div>"
     },
     "metadata": {},
     "output_type": "execute_result",
     "execution_count": 101
    }
   ],
   "source": [
    "# Import matrix dataset\n",
    "ratings_col = ['user_id', 'wine_id', 'rating']\n",
    "ratings = pd.read_csv('data/ratings.csv', sep=';', names=ratings_col, encoding=my_encoding, engine='python')\n",
    "ratings.head()"
   ],
   "metadata": {
    "collapsed": false,
    "pycharm": {
     "name": "#%%\n",
     "is_executing": false
    }
   }
  },
  {
   "cell_type": "code",
   "execution_count": 102,
   "outputs": [
    {
     "data": {
      "text/plain": "   wine_id                                               name   type country  \\\n0        1  Expedicion Single Vineyard Selection Cabernet ...  Tinto   Chile   \n1        1  Expedicion Single Vineyard Selection Cabernet ...  Tinto   Chile   \n2        1  Expedicion Single Vineyard Selection Cabernet ...  Tinto   Chile   \n3        1  Expedicion Single Vineyard Selection Cabernet ...  Tinto   Chile   \n4        1  Expedicion Single Vineyard Selection Cabernet ...  Tinto   Chile   \n\n         region  alcohol_content         producer service  volume  vintage  \\\n0  Vale Central             13.0  Finca Patagonia      17     750   2019.0   \n1  Vale Central             13.0  Finca Patagonia      17     750   2019.0   \n2  Vale Central             13.0  Finca Patagonia      17     750   2019.0   \n3  Vale Central             13.0  Finca Patagonia      17     750   2019.0   \n4  Vale Central             13.0  Finca Patagonia      17     750   2019.0   \n\n   user_id  rating  \n0        3       3  \n1        6       3  \n2        3       0  \n3        8       0  \n4        8       2  ",
      "text/html": "<div>\n<style scoped>\n    .dataframe tbody tr th:only-of-type {\n        vertical-align: middle;\n    }\n\n    .dataframe tbody tr th {\n        vertical-align: top;\n    }\n\n    .dataframe thead th {\n        text-align: right;\n    }\n</style>\n<table border=\"1\" class=\"dataframe\">\n  <thead>\n    <tr style=\"text-align: right;\">\n      <th></th>\n      <th>wine_id</th>\n      <th>name</th>\n      <th>type</th>\n      <th>country</th>\n      <th>region</th>\n      <th>alcohol_content</th>\n      <th>producer</th>\n      <th>service</th>\n      <th>volume</th>\n      <th>vintage</th>\n      <th>user_id</th>\n      <th>rating</th>\n    </tr>\n  </thead>\n  <tbody>\n    <tr>\n      <th>0</th>\n      <td>1</td>\n      <td>Expedicion Single Vineyard Selection Cabernet ...</td>\n      <td>Tinto</td>\n      <td>Chile</td>\n      <td>Vale Central</td>\n      <td>13.0</td>\n      <td>Finca Patagonia</td>\n      <td>17</td>\n      <td>750</td>\n      <td>2019.0</td>\n      <td>3</td>\n      <td>3</td>\n    </tr>\n    <tr>\n      <th>1</th>\n      <td>1</td>\n      <td>Expedicion Single Vineyard Selection Cabernet ...</td>\n      <td>Tinto</td>\n      <td>Chile</td>\n      <td>Vale Central</td>\n      <td>13.0</td>\n      <td>Finca Patagonia</td>\n      <td>17</td>\n      <td>750</td>\n      <td>2019.0</td>\n      <td>6</td>\n      <td>3</td>\n    </tr>\n    <tr>\n      <th>2</th>\n      <td>1</td>\n      <td>Expedicion Single Vineyard Selection Cabernet ...</td>\n      <td>Tinto</td>\n      <td>Chile</td>\n      <td>Vale Central</td>\n      <td>13.0</td>\n      <td>Finca Patagonia</td>\n      <td>17</td>\n      <td>750</td>\n      <td>2019.0</td>\n      <td>3</td>\n      <td>0</td>\n    </tr>\n    <tr>\n      <th>3</th>\n      <td>1</td>\n      <td>Expedicion Single Vineyard Selection Cabernet ...</td>\n      <td>Tinto</td>\n      <td>Chile</td>\n      <td>Vale Central</td>\n      <td>13.0</td>\n      <td>Finca Patagonia</td>\n      <td>17</td>\n      <td>750</td>\n      <td>2019.0</td>\n      <td>8</td>\n      <td>0</td>\n    </tr>\n    <tr>\n      <th>4</th>\n      <td>1</td>\n      <td>Expedicion Single Vineyard Selection Cabernet ...</td>\n      <td>Tinto</td>\n      <td>Chile</td>\n      <td>Vale Central</td>\n      <td>13.0</td>\n      <td>Finca Patagonia</td>\n      <td>17</td>\n      <td>750</td>\n      <td>2019.0</td>\n      <td>8</td>\n      <td>2</td>\n    </tr>\n  </tbody>\n</table>\n</div>"
     },
     "metadata": {},
     "output_type": "execute_result",
     "execution_count": 102
    }
   ],
   "source": [
    "# Merge wine dataset with matrix dataset\n",
    "df = pd.merge(wines, ratings)\n",
    "df.head()"
   ],
   "metadata": {
    "collapsed": false,
    "pycharm": {
     "name": "#%%\n",
     "is_executing": false
    }
   }
  },
  {
   "cell_type": "code",
   "execution_count": 103,
   "outputs": [
    {
     "name": "stdout",
     "text": [
      "<class 'pandas.core.frame.DataFrame'>\nInt64Index: 1000 entries, 0 to 999\nData columns (total 12 columns):\nwine_id            1000 non-null int64\nname               1000 non-null object\ntype               1000 non-null object\ncountry            1000 non-null object\nregion             948 non-null object\nalcohol_content    957 non-null float64\nproducer           982 non-null object\nservice            916 non-null object\nvolume             1000 non-null int64\nvintage            927 non-null float64\nuser_id            1000 non-null int64\nrating             1000 non-null int64\ndtypes: float64(2), int64(4), object(6)\nmemory usage: 101.6+ KB\n"
     ],
     "output_type": "stream"
    }
   ],
   "source": [
    "# Dataset info\n",
    "df.info()"
   ],
   "metadata": {
    "collapsed": false,
    "pycharm": {
     "name": "#%%\n",
     "is_executing": false
    }
   }
  },
  {
   "cell_type": "code",
   "execution_count": 104,
   "outputs": [
    {
     "data": {
      "text/plain": "                                                   rating          \n                                                     size      mean\nname                                                               \nAnciano 35 Years Old Vines Garnacha Calatayud D...     18  3.166667\nAnciano Crianza 3 years Tempranillo Valdepeñas ...     12  3.250000\nAnciano Gran Reserva 10 years Valdepeñas D.O. 2007     22  2.181818\nAnciano Reserva Douro DOC 2016                         13  3.307692\nAnciano Tempranillo Reserva 5 Years Valdepeñas ...     10  2.800000",
      "text/html": "<div>\n<style scoped>\n    .dataframe tbody tr th:only-of-type {\n        vertical-align: middle;\n    }\n\n    .dataframe tbody tr th {\n        vertical-align: top;\n    }\n\n    .dataframe thead tr th {\n        text-align: left;\n    }\n\n    .dataframe thead tr:last-of-type th {\n        text-align: right;\n    }\n</style>\n<table border=\"1\" class=\"dataframe\">\n  <thead>\n    <tr>\n      <th></th>\n      <th colspan=\"2\" halign=\"left\">rating</th>\n    </tr>\n    <tr>\n      <th></th>\n      <th>size</th>\n      <th>mean</th>\n    </tr>\n    <tr>\n      <th>name</th>\n      <th></th>\n      <th></th>\n    </tr>\n  </thead>\n  <tbody>\n    <tr>\n      <th>Anciano 35 Years Old Vines Garnacha Calatayud D.O. 2016</th>\n      <td>18</td>\n      <td>3.166667</td>\n    </tr>\n    <tr>\n      <th>Anciano Crianza 3 years Tempranillo Valdepeñas D.O. 2015</th>\n      <td>12</td>\n      <td>3.250000</td>\n    </tr>\n    <tr>\n      <th>Anciano Gran Reserva 10 years Valdepeñas D.O. 2007</th>\n      <td>22</td>\n      <td>2.181818</td>\n    </tr>\n    <tr>\n      <th>Anciano Reserva Douro DOC 2016</th>\n      <td>13</td>\n      <td>3.307692</td>\n    </tr>\n    <tr>\n      <th>Anciano Tempranillo Reserva 5 Years Valdepeñas D.O. 2013</th>\n      <td>10</td>\n      <td>2.800000</td>\n    </tr>\n  </tbody>\n</table>\n</div>"
     },
     "metadata": {},
     "output_type": "execute_result",
     "execution_count": 104
    }
   ],
   "source": [
    "# Average wine ratings\n",
    "wines_stats = df.groupby('name').agg({'rating': [np.size, np.mean]})\n",
    "wines_stats.head()"
   ],
   "metadata": {
    "collapsed": false,
    "pycharm": {
     "name": "#%%\n",
     "is_executing": false
    }
   }
  },
  {
   "cell_type": "code",
   "execution_count": 105,
   "outputs": [
    {
     "data": {
      "text/plain": "                                                   rating          \n                                                     size      mean\nname                                                               \nMadame Veuve Point Pinot Noir Bourgogne AOP 2016        4  4.000000\nBarolo Miliasso DOCG 2014                              12  3.583333\nMarchesi del Salento Primitivo 2018                    10  3.500000\nFaustino Rivero Ulecia Joven Tempranillo-Garnac...     11  3.454545\nLe Filere Vallebelbo Barbaresco DOCG 2016               9  3.444444\nBellamico Montepulciano d'Abruzzo DOC 2018             10  3.400000\nAnciano Reserva Douro DOC 2016                         13  3.307692\nTierra del Mar Tannat Tinto 2018                        7  3.285714\nAnciano Crianza 3 years Tempranillo Valdepeñas ...     12  3.250000\nEl Molino Estate Bottled Merlot 2018                   23  3.217391",
      "text/html": "<div>\n<style scoped>\n    .dataframe tbody tr th:only-of-type {\n        vertical-align: middle;\n    }\n\n    .dataframe tbody tr th {\n        vertical-align: top;\n    }\n\n    .dataframe thead tr th {\n        text-align: left;\n    }\n\n    .dataframe thead tr:last-of-type th {\n        text-align: right;\n    }\n</style>\n<table border=\"1\" class=\"dataframe\">\n  <thead>\n    <tr>\n      <th></th>\n      <th colspan=\"2\" halign=\"left\">rating</th>\n    </tr>\n    <tr>\n      <th></th>\n      <th>size</th>\n      <th>mean</th>\n    </tr>\n    <tr>\n      <th>name</th>\n      <th></th>\n      <th></th>\n    </tr>\n  </thead>\n  <tbody>\n    <tr>\n      <th>Madame Veuve Point Pinot Noir Bourgogne AOP 2016</th>\n      <td>4</td>\n      <td>4.000000</td>\n    </tr>\n    <tr>\n      <th>Barolo Miliasso DOCG 2014</th>\n      <td>12</td>\n      <td>3.583333</td>\n    </tr>\n    <tr>\n      <th>Marchesi del Salento Primitivo 2018</th>\n      <td>10</td>\n      <td>3.500000</td>\n    </tr>\n    <tr>\n      <th>Faustino Rivero Ulecia Joven Tempranillo-Garnacha Rioja DOCa 2018</th>\n      <td>11</td>\n      <td>3.454545</td>\n    </tr>\n    <tr>\n      <th>Le Filere Vallebelbo Barbaresco DOCG 2016</th>\n      <td>9</td>\n      <td>3.444444</td>\n    </tr>\n    <tr>\n      <th>Bellamico Montepulciano d'Abruzzo DOC 2018</th>\n      <td>10</td>\n      <td>3.400000</td>\n    </tr>\n    <tr>\n      <th>Anciano Reserva Douro DOC 2016</th>\n      <td>13</td>\n      <td>3.307692</td>\n    </tr>\n    <tr>\n      <th>Tierra del Mar Tannat Tinto 2018</th>\n      <td>7</td>\n      <td>3.285714</td>\n    </tr>\n    <tr>\n      <th>Anciano Crianza 3 years Tempranillo Valdepeñas D.O. 2015</th>\n      <td>12</td>\n      <td>3.250000</td>\n    </tr>\n    <tr>\n      <th>El Molino Estate Bottled Merlot 2018</th>\n      <td>23</td>\n      <td>3.217391</td>\n    </tr>\n  </tbody>\n</table>\n</div>"
     },
     "metadata": {},
     "output_type": "execute_result",
     "execution_count": 105
    }
   ],
   "source": [
    "# Filters the statistical dataset with wines that have more than x analyzes.\n",
    "min_10 = wines_stats['rating']['size'] >= 3\n",
    "wines_stats[min_10].sort_values([('rating', 'mean')], ascending = False).head(10)"
   ],
   "metadata": {
    "collapsed": false,
    "pycharm": {
     "name": "#%%\n",
     "is_executing": false
    }
   }
  },
  {
   "cell_type": "code",
   "execution_count": 106,
   "outputs": [
    {
     "data": {
      "text/plain": "Text(0.5, 0, 'Rating')"
     },
     "metadata": {},
     "output_type": "execute_result",
     "execution_count": 106
    },
    {
     "data": {
      "text/plain": "<Figure size 432x288 with 1 Axes>",
      "image/png": "[encoded data removed]"
     },
     "metadata": {
      "needs_background": "light"
     },
     "output_type": "display_data"
    }
   ],
   "source": [
    "# Distribution Chart - Rating x User\n",
    "ratings.rating.plot.hist(bins = 25)\n",
    "plt.title('Distribution Chart - Rating x User')\n",
    "plt.ylabel('Quantities of Ratings')\n",
    "plt.xlabel('Rating')"
   ],
   "metadata": {
    "collapsed": false,
    "pycharm": {
     "name": "#%%\n",
     "is_executing": false
    }
   }
  },
  {
   "cell_type": "code",
   "execution_count": 107,
   "outputs": [
    {
     "data": {
      "text/plain": "        rating                                                             \nuser_id     1    2         3    4    5         6    7         8     9    10\n0          0.0  3.0  2.666667  0.0  4.0  2.000000  0.0  1.000000  0.00  0.0\n1          3.5  0.0  4.500000  0.0  0.0  4.000000  1.0  0.000000  2.00  4.0\n2          2.5  0.0  1.000000  3.0  5.0  5.000000  4.0  3.000000  1.75  0.0\n3          4.0  2.0  0.000000  2.0  0.0  1.333333  5.0  2.333333  0.00  0.0\n4          0.0  0.0  0.000000  0.0  3.0  0.000000  5.0  0.000000  2.00  0.0",
      "text/html": "<div>\n<style scoped>\n    .dataframe tbody tr th:only-of-type {\n        vertical-align: middle;\n    }\n\n    .dataframe tbody tr th {\n        vertical-align: top;\n    }\n\n    .dataframe thead tr th {\n        text-align: left;\n    }\n</style>\n<table border=\"1\" class=\"dataframe\">\n  <thead>\n    <tr>\n      <th></th>\n      <th colspan=\"10\" halign=\"left\">rating</th>\n    </tr>\n    <tr>\n      <th>user_id</th>\n      <th>1</th>\n      <th>2</th>\n      <th>3</th>\n      <th>4</th>\n      <th>5</th>\n      <th>6</th>\n      <th>7</th>\n      <th>8</th>\n      <th>9</th>\n      <th>10</th>\n    </tr>\n  </thead>\n  <tbody>\n    <tr>\n      <th>0</th>\n      <td>0.0</td>\n      <td>3.0</td>\n      <td>2.666667</td>\n      <td>0.0</td>\n      <td>4.0</td>\n      <td>2.000000</td>\n      <td>0.0</td>\n      <td>1.000000</td>\n      <td>0.00</td>\n      <td>0.0</td>\n    </tr>\n    <tr>\n      <th>1</th>\n      <td>3.5</td>\n      <td>0.0</td>\n      <td>4.500000</td>\n      <td>0.0</td>\n      <td>0.0</td>\n      <td>4.000000</td>\n      <td>1.0</td>\n      <td>0.000000</td>\n      <td>2.00</td>\n      <td>4.0</td>\n    </tr>\n    <tr>\n      <th>2</th>\n      <td>2.5</td>\n      <td>0.0</td>\n      <td>1.000000</td>\n      <td>3.0</td>\n      <td>5.0</td>\n      <td>5.000000</td>\n      <td>4.0</td>\n      <td>3.000000</td>\n      <td>1.75</td>\n      <td>0.0</td>\n    </tr>\n    <tr>\n      <th>3</th>\n      <td>4.0</td>\n      <td>2.0</td>\n      <td>0.000000</td>\n      <td>2.0</td>\n      <td>0.0</td>\n      <td>1.333333</td>\n      <td>5.0</td>\n      <td>2.333333</td>\n      <td>0.00</td>\n      <td>0.0</td>\n    </tr>\n    <tr>\n      <th>4</th>\n      <td>0.0</td>\n      <td>0.0</td>\n      <td>0.000000</td>\n      <td>0.0</td>\n      <td>3.0</td>\n      <td>0.000000</td>\n      <td>5.0</td>\n      <td>0.000000</td>\n      <td>2.00</td>\n      <td>0.0</td>\n    </tr>\n  </tbody>\n</table>\n</div>"
     },
     "metadata": {},
     "output_type": "execute_result",
     "execution_count": 107
    }
   ],
   "source": [
    "# Pivo Table\n",
    "matrix = ratings.pivot_table(index = ['wine_id'], columns = ['user_id'], values =  ['rating']).reset_index(drop = True)\n",
    "matrix.fillna( 0, inplace = True )\n",
    "matrix.head()"
   ],
   "metadata": {
    "collapsed": false,
    "pycharm": {
     "name": "#%%\n",
     "is_executing": false
    }
   }
  },
  {
   "cell_type": "code",
   "execution_count": 108,
   "outputs": [
    {
     "name": "stderr",
     "text": [
      "c:\\users\\win\\pycharmprojects\\livedwine\\venv\\lib\\site-packages\\ipykernel_launcher.py:2: FutureWarning: Method .as_matrix will be removed in a future version. Use .values instead.\n  \n"
     ],
     "output_type": "stream"
    },
    {
     "data": {
      "text/plain": "         0         1         2         3         4         5         6   \\\n0  0.000000  0.393809  0.602873  0.240817  0.319549  0.100291  0.417856   \n1  0.393809  0.000000  0.503327  0.389274  0.175129  0.097714  0.624563   \n2  0.602873  0.503327  0.000000  0.682066  0.643109  0.471834  0.577847   \n3  0.240817  0.389274  0.682066  0.000000  0.540872  0.371193  0.632682   \n4  0.319549  0.175129  0.643109  0.540872  0.000000  0.132148  0.000000   \n\n         7         8         9   ...        87        88        89        90  \\\n0  0.388624  0.652733  0.365597  ...  0.307037  0.307636  0.512727  0.652739   \n1  0.593019  0.505031  0.667885  ...  0.652638  0.187334  0.262267  0.523514   \n2  0.643506  0.622206  0.259510  ...  0.572285  0.534706  0.562848  0.861355   \n3  0.665528  0.117848  0.373459  ...  0.519694  0.298539  0.333253  0.426843   \n4  0.293687  0.322527  0.152124  ...  0.584725  0.304017  0.380021  0.330396   \n\n         91        92        93        94        95        96  \n0  0.395695  0.232867  0.475760  0.539539  0.515611  0.322230  \n1  0.629040  0.434863  0.513204  0.329891  0.595397  0.263166  \n2  0.668208  0.413878  0.822483  0.605233  0.702776  0.529109  \n3  0.606773  0.777794  0.478564  0.377220  0.487866  0.759724  \n4  0.559368  0.511394  0.761215  0.261155  0.377441  0.449561  \n\n[5 rows x 97 columns]",
      "text/html": "<div>\n<style scoped>\n    .dataframe tbody tr th:only-of-type {\n        vertical-align: middle;\n    }\n\n    .dataframe tbody tr th {\n        vertical-align: top;\n    }\n\n    .dataframe thead th {\n        text-align: right;\n    }\n</style>\n<table border=\"1\" class=\"dataframe\">\n  <thead>\n    <tr style=\"text-align: right;\">\n      <th></th>\n      <th>0</th>\n      <th>1</th>\n      <th>2</th>\n      <th>3</th>\n      <th>4</th>\n      <th>5</th>\n      <th>6</th>\n      <th>7</th>\n      <th>8</th>\n      <th>9</th>\n      <th>...</th>\n      <th>87</th>\n      <th>88</th>\n      <th>89</th>\n      <th>90</th>\n      <th>91</th>\n      <th>92</th>\n      <th>93</th>\n      <th>94</th>\n      <th>95</th>\n      <th>96</th>\n    </tr>\n  </thead>\n  <tbody>\n    <tr>\n      <th>0</th>\n      <td>0.000000</td>\n      <td>0.393809</td>\n      <td>0.602873</td>\n      <td>0.240817</td>\n      <td>0.319549</td>\n      <td>0.100291</td>\n      <td>0.417856</td>\n      <td>0.388624</td>\n      <td>0.652733</td>\n      <td>0.365597</td>\n      <td>...</td>\n      <td>0.307037</td>\n      <td>0.307636</td>\n      <td>0.512727</td>\n      <td>0.652739</td>\n      <td>0.395695</td>\n      <td>0.232867</td>\n      <td>0.475760</td>\n      <td>0.539539</td>\n      <td>0.515611</td>\n      <td>0.322230</td>\n    </tr>\n    <tr>\n      <th>1</th>\n      <td>0.393809</td>\n      <td>0.000000</td>\n      <td>0.503327</td>\n      <td>0.389274</td>\n      <td>0.175129</td>\n      <td>0.097714</td>\n      <td>0.624563</td>\n      <td>0.593019</td>\n      <td>0.505031</td>\n      <td>0.667885</td>\n      <td>...</td>\n      <td>0.652638</td>\n      <td>0.187334</td>\n      <td>0.262267</td>\n      <td>0.523514</td>\n      <td>0.629040</td>\n      <td>0.434863</td>\n      <td>0.513204</td>\n      <td>0.329891</td>\n      <td>0.595397</td>\n      <td>0.263166</td>\n    </tr>\n    <tr>\n      <th>2</th>\n      <td>0.602873</td>\n      <td>0.503327</td>\n      <td>0.000000</td>\n      <td>0.682066</td>\n      <td>0.643109</td>\n      <td>0.471834</td>\n      <td>0.577847</td>\n      <td>0.643506</td>\n      <td>0.622206</td>\n      <td>0.259510</td>\n      <td>...</td>\n      <td>0.572285</td>\n      <td>0.534706</td>\n      <td>0.562848</td>\n      <td>0.861355</td>\n      <td>0.668208</td>\n      <td>0.413878</td>\n      <td>0.822483</td>\n      <td>0.605233</td>\n      <td>0.702776</td>\n      <td>0.529109</td>\n    </tr>\n    <tr>\n      <th>3</th>\n      <td>0.240817</td>\n      <td>0.389274</td>\n      <td>0.682066</td>\n      <td>0.000000</td>\n      <td>0.540872</td>\n      <td>0.371193</td>\n      <td>0.632682</td>\n      <td>0.665528</td>\n      <td>0.117848</td>\n      <td>0.373459</td>\n      <td>...</td>\n      <td>0.519694</td>\n      <td>0.298539</td>\n      <td>0.333253</td>\n      <td>0.426843</td>\n      <td>0.606773</td>\n      <td>0.777794</td>\n      <td>0.478564</td>\n      <td>0.377220</td>\n      <td>0.487866</td>\n      <td>0.759724</td>\n    </tr>\n    <tr>\n      <th>4</th>\n      <td>0.319549</td>\n      <td>0.175129</td>\n      <td>0.643109</td>\n      <td>0.540872</td>\n      <td>0.000000</td>\n      <td>0.132148</td>\n      <td>0.000000</td>\n      <td>0.293687</td>\n      <td>0.322527</td>\n      <td>0.152124</td>\n      <td>...</td>\n      <td>0.584725</td>\n      <td>0.304017</td>\n      <td>0.380021</td>\n      <td>0.330396</td>\n      <td>0.559368</td>\n      <td>0.511394</td>\n      <td>0.761215</td>\n      <td>0.261155</td>\n      <td>0.377441</td>\n      <td>0.449561</td>\n    </tr>\n  </tbody>\n</table>\n<p>5 rows × 97 columns</p>\n</div>"
     },
     "metadata": {},
     "output_type": "execute_result",
     "execution_count": 108
    }
   ],
   "source": [
    "# Calculate Cosine Similarity\n",
    "wine_similarity = 1 - pairwise_distances(matrix.as_matrix(), metric = 'cosine')\n",
    "np.fill_diagonal(wine_similarity, 0)\n",
    "matrix = pd.DataFrame(wine_similarity)\n",
    "matrix.head()\n"
   ],
   "metadata": {
    "collapsed": false,
    "pycharm": {
     "name": "#%%\n",
     "is_executing": false
    }
   }
  },
  {
   "cell_type": "code",
   "execution_count": 117,
   "outputs": [],
   "source": [
    "# Recommendation System\n",
    "try:\n",
    "    wine_key = input(\"Digite o de um vinho existente na database: \")    \n",
    "    wine = wines[wines['name'] == wine_key].index.tolist()\n",
    "    wine = wine[0]\n",
    "    \n",
    "    wines['similarity'] = matrix.iloc[wine]\n",
    "    wines.columns = ['wine_id', 'name', 'type', 'country', 'region', 'alcohol_content', 'producer', 'service', 'volume', 'vintage', 'similarity']\n",
    "    wines.head()\n",
    "except:\n",
    "    print(\"Vinho não localizado.\")\n",
    "     \n",
    "    "
   ],
   "metadata": {
    "collapsed": false,
    "pycharm": {
     "name": "#%%\n",
     "is_executing": false
    }
   }
  },
  {
   "cell_type": "code",
   "execution_count": 118,
   "outputs": [
    {
     "name": "stdout",
     "text": [
      "Vinhos recomendados com base na sua escolha de  Masereto Montepulciano d'Abruzzo 2018\n"
     ],
     "output_type": "stream"
    },
    {
     "data": {
      "text/plain": "    wine_id                                               name   type  \\\n84       85   Vecchio Podere Cantine Cecconi Chianti DOCG 2017  Tinto   \n78       79                            La Grupa Red Blend 2019  Tinto   \n15       16                                   Le Filere Barolo  Tinto   \n83       84  Domaine Bousquet Winemaker's Selection Black R...  Tinto   \n13       14  Anciano Crianza 3 years Tempranillo Valdepeñas...  Tinto   \n..      ...                                                ...    ...   \n35       36              Masereto Montepulciano d'Abruzzo 2018  Tinto   \n4         5  Mil Raices Selección Especial Cabernet Sauvign...  Tinto   \n69       70  Barolo Selezione Cantine by Massimo Rattalino ...  Tinto   \n97       98            Anciano Reserva 7 Years Old Magnum 2011  Tinto   \n98       99                     Condor Andino Tempranillo 2018  Tinto   \n\n      country        region  alcohol_content                  producer  \\\n84     Italia       Toscana             12.0           Cantine Cecconi   \n78  Argentina       Mendoza             12.5                  Fecovita   \n15     Italia           NaN             14.5                       NaN   \n83  Argentina  Valle de Uco             14.1          Domaine Bousquet   \n13    Espanha    Valdepenas              NaN                   Anciano   \n..        ...           ...              ...                       ...   \n35     Italia       Abruzzo              NaN  Angelo Rocca e Fligi Srl   \n4       Chile           NaN             13.0                Mil Raices   \n69     Italia      Piemonte             14.0         Massimo Rattalino   \n97    Espanha    Valdepenas             13.0                   Anciano   \n98  Argentina       Mendoza             12.5            Grupo Penaflor   \n\n   service  volume  vintage  similarity  \n84      17     750   2017.0    0.949826  \n78      17     750   2019.0    0.760937  \n15      17     750      NaN    0.760541  \n83      16     750   2016.0    0.735930  \n13     NaN     750   2014.0    0.706769  \n..     ...     ...      ...         ...  \n35     NaN     750   2018.0    0.000000  \n4       17     750      NaN    0.000000  \n69      17     750   2014.0    0.000000  \n97     NaN     750   2011.0         NaN  \n98      16     750   2019.0         NaN  \n\n[99 rows x 11 columns]",
      "text/html": "<div>\n<style scoped>\n    .dataframe tbody tr th:only-of-type {\n        vertical-align: middle;\n    }\n\n    .dataframe tbody tr th {\n        vertical-align: top;\n    }\n\n    .dataframe thead th {\n        text-align: right;\n    }\n</style>\n<table border=\"1\" class=\"dataframe\">\n  <thead>\n    <tr style=\"text-align: right;\">\n      <th></th>\n      <th>wine_id</th>\n      <th>name</th>\n      <th>type</th>\n      <th>country</th>\n      <th>region</th>\n      <th>alcohol_content</th>\n      <th>producer</th>\n      <th>service</th>\n      <th>volume</th>\n      <th>vintage</th>\n      <th>similarity</th>\n    </tr>\n  </thead>\n  <tbody>\n    <tr>\n      <th>84</th>\n      <td>85</td>\n      <td>Vecchio Podere Cantine Cecconi Chianti DOCG 2017</td>\n      <td>Tinto</td>\n      <td>Italia</td>\n      <td>Toscana</td>\n      <td>12.0</td>\n      <td>Cantine Cecconi</td>\n      <td>17</td>\n      <td>750</td>\n      <td>2017.0</td>\n      <td>0.949826</td>\n    </tr>\n    <tr>\n      <th>78</th>\n      <td>79</td>\n      <td>La Grupa Red Blend 2019</td>\n      <td>Tinto</td>\n      <td>Argentina</td>\n      <td>Mendoza</td>\n      <td>12.5</td>\n      <td>Fecovita</td>\n      <td>17</td>\n      <td>750</td>\n      <td>2019.0</td>\n      <td>0.760937</td>\n    </tr>\n    <tr>\n      <th>15</th>\n      <td>16</td>\n      <td>Le Filere Barolo</td>\n      <td>Tinto</td>\n      <td>Italia</td>\n      <td>NaN</td>\n      <td>14.5</td>\n      <td>NaN</td>\n      <td>17</td>\n      <td>750</td>\n      <td>NaN</td>\n      <td>0.760541</td>\n    </tr>\n    <tr>\n      <th>83</th>\n      <td>84</td>\n      <td>Domaine Bousquet Winemaker's Selection Black R...</td>\n      <td>Tinto</td>\n      <td>Argentina</td>\n      <td>Valle de Uco</td>\n      <td>14.1</td>\n      <td>Domaine Bousquet</td>\n      <td>16</td>\n      <td>750</td>\n      <td>2016.0</td>\n      <td>0.735930</td>\n    </tr>\n    <tr>\n      <th>13</th>\n      <td>14</td>\n      <td>Anciano Crianza 3 years Tempranillo Valdepeñas...</td>\n      <td>Tinto</td>\n      <td>Espanha</td>\n      <td>Valdepenas</td>\n      <td>NaN</td>\n      <td>Anciano</td>\n      <td>NaN</td>\n      <td>750</td>\n      <td>2014.0</td>\n      <td>0.706769</td>\n    </tr>\n    <tr>\n      <th>...</th>\n      <td>...</td>\n      <td>...</td>\n      <td>...</td>\n      <td>...</td>\n      <td>...</td>\n      <td>...</td>\n      <td>...</td>\n      <td>...</td>\n      <td>...</td>\n      <td>...</td>\n      <td>...</td>\n    </tr>\n    <tr>\n      <th>35</th>\n      <td>36</td>\n      <td>Masereto Montepulciano d'Abruzzo 2018</td>\n      <td>Tinto</td>\n      <td>Italia</td>\n      <td>Abruzzo</td>\n      <td>NaN</td>\n      <td>Angelo Rocca e Fligi Srl</td>\n      <td>NaN</td>\n      <td>750</td>\n      <td>2018.0</td>\n      <td>0.000000</td>\n    </tr>\n    <tr>\n      <th>4</th>\n      <td>5</td>\n      <td>Mil Raices Selección Especial Cabernet Sauvign...</td>\n      <td>Tinto</td>\n      <td>Chile</td>\n      <td>NaN</td>\n      <td>13.0</td>\n      <td>Mil Raices</td>\n      <td>17</td>\n      <td>750</td>\n      <td>NaN</td>\n      <td>0.000000</td>\n    </tr>\n    <tr>\n      <th>69</th>\n      <td>70</td>\n      <td>Barolo Selezione Cantine by Massimo Rattalino ...</td>\n      <td>Tinto</td>\n      <td>Italia</td>\n      <td>Piemonte</td>\n      <td>14.0</td>\n      <td>Massimo Rattalino</td>\n      <td>17</td>\n      <td>750</td>\n      <td>2014.0</td>\n      <td>0.000000</td>\n    </tr>\n    <tr>\n      <th>97</th>\n      <td>98</td>\n      <td>Anciano Reserva 7 Years Old Magnum 2011</td>\n      <td>Tinto</td>\n      <td>Espanha</td>\n      <td>Valdepenas</td>\n      <td>13.0</td>\n      <td>Anciano</td>\n      <td>NaN</td>\n      <td>750</td>\n      <td>2011.0</td>\n      <td>NaN</td>\n    </tr>\n    <tr>\n      <th>98</th>\n      <td>99</td>\n      <td>Condor Andino Tempranillo 2018</td>\n      <td>Tinto</td>\n      <td>Argentina</td>\n      <td>Mendoza</td>\n      <td>12.5</td>\n      <td>Grupo Penaflor</td>\n      <td>16</td>\n      <td>750</td>\n      <td>2019.0</td>\n      <td>NaN</td>\n    </tr>\n  </tbody>\n</table>\n<p>99 rows × 11 columns</p>\n</div>"
     },
     "metadata": {},
     "output_type": "execute_result",
     "execution_count": 118
    }
   ],
   "source": [
    "print(\"Vinhos recomendados com base na sua escolha de \", wine_key)\n",
    "result = pd.DataFrame(wines.sort_values(['similarity'], ascending = False))\n",
    "result"
   ],
   "metadata": {
    "collapsed": false,
    "pycharm": {
     "name": "#%%\n",
     "is_executing": false
    }
   }
  }
 ],
 "metadata": {
  "kernelspec": {
   "display_name": "Python 3",
   "language": "python",
   "name": "python3"
  },
  "language_info": {
   "codemirror_mode": {
    "name": "ipython",
    "version": 2
   },
   "file_extension": ".py",
   "mimetype": "text/x-python",
   "name": "python",
   "nbconvert_exporter": "python",
   "pygments_lexer": "ipython2",
   "version": "2.7.6"
  },
  "pycharm": {
   "stem_cell": {
    "cell_type": "raw",
    "source": [],
    "metadata": {
     "collapsed": false
    }
   }
  }
 },
 "nbformat": 4,
 "nbformat_minor": 0
}