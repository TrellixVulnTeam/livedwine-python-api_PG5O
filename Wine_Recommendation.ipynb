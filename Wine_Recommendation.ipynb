{
 "cells": [
  {
   "cell_type": "code",
   "execution_count": 1,
   "metadata": {
    "collapsed": true,
    "pycharm": {
     "is_executing": false
    }
   },
   "outputs": [],
   "source": [
    "import numpy as np \n",
    "import pandas as pd \n",
    "import chardet\n",
    "import matplotlib.pyplot as plt\n",
    "from sklearn.metrics import pairwise_distances\n",
    "from scipy.spatial.distance import cosine, correlation"
   ]
  },
  {
   "cell_type": "code",
   "execution_count": 5,
   "outputs": [],
   "source": [
    "def find_encoding(fname):\n",
    "    r_file = open(fname, 'rb').read()\n",
    "    result = chardet.detect(r_file)\n",
    "    charenc = result['encoding']\n",
    "    return charenc"
   ],
   "metadata": {
    "collapsed": false,
    "pycharm": {
     "name": "#%%\n",
     "is_executing": false
    }
   }
  },
  {
   "cell_type": "code",
   "execution_count": 6,
   "outputs": [
    {
     "data": {
      "text/plain": "'ISO-8859-1'"
     },
     "metadata": {},
     "output_type": "execute_result",
     "execution_count": 6
    }
   ],
   "source": [
    "my_encoding = find_encoding('data/wines.csv')\n",
    "my_encoding"
   ],
   "metadata": {
    "collapsed": false,
    "pycharm": {
     "name": "#%%\n",
     "is_executing": false
    }
   }
  },
  {
   "cell_type": "code",
   "execution_count": 16,
   "outputs": [
    {
     "data": {
      "text/plain": "   wine_id                                               name   type  country  \\\n0        1  Expedicion Single Vineyard Selection Cabernet ...  Tinto    Chile   \n1        2  Duo R One Ronaldinho Brunello di Montalcino DO...  Tinto   Italia   \n2        3                    Jules Desvignes Pinot Noir 2016  Tinto   França   \n3        4  Anciano Gran Reserva 10 years Valdepeñas D.O. ...  Tinto  Espanha   \n4        5  Mil Raices Selección Especial Cabernet Sauvign...  Tinto    Chile   \n\n                 region  alcohol_content                 producer service  \\\n0          Vale Central             13.0          Finca Patagonia      17   \n1               Toscana             15.0            Fabio Cordela      18   \n2  Languedoc-Roussillon             12.5  Domaine Du Pere Guillot      16   \n3            Valdepenas             13.0                  Anciano      17   \n4                   NaN             13.0               Mil Raices      17   \n\n   volume  vintage  \n0     750   2019.0  \n1     750   2014.0  \n2     750   2016.0  \n3     750   2007.0  \n4     750      NaN  ",
      "text/html": "<div>\n<style scoped>\n    .dataframe tbody tr th:only-of-type {\n        vertical-align: middle;\n    }\n\n    .dataframe tbody tr th {\n        vertical-align: top;\n    }\n\n    .dataframe thead th {\n        text-align: right;\n    }\n</style>\n<table border=\"1\" class=\"dataframe\">\n  <thead>\n    <tr style=\"text-align: right;\">\n      <th></th>\n      <th>wine_id</th>\n      <th>name</th>\n      <th>type</th>\n      <th>country</th>\n      <th>region</th>\n      <th>alcohol_content</th>\n      <th>producer</th>\n      <th>service</th>\n      <th>volume</th>\n      <th>vintage</th>\n    </tr>\n  </thead>\n  <tbody>\n    <tr>\n      <th>0</th>\n      <td>1</td>\n      <td>Expedicion Single Vineyard Selection Cabernet ...</td>\n      <td>Tinto</td>\n      <td>Chile</td>\n      <td>Vale Central</td>\n      <td>13.0</td>\n      <td>Finca Patagonia</td>\n      <td>17</td>\n      <td>750</td>\n      <td>2019.0</td>\n    </tr>\n    <tr>\n      <th>1</th>\n      <td>2</td>\n      <td>Duo R One Ronaldinho Brunello di Montalcino DO...</td>\n      <td>Tinto</td>\n      <td>Italia</td>\n      <td>Toscana</td>\n      <td>15.0</td>\n      <td>Fabio Cordela</td>\n      <td>18</td>\n      <td>750</td>\n      <td>2014.0</td>\n    </tr>\n    <tr>\n      <th>2</th>\n      <td>3</td>\n      <td>Jules Desvignes Pinot Noir 2016</td>\n      <td>Tinto</td>\n      <td>França</td>\n      <td>Languedoc-Roussillon</td>\n      <td>12.5</td>\n      <td>Domaine Du Pere Guillot</td>\n      <td>16</td>\n      <td>750</td>\n      <td>2016.0</td>\n    </tr>\n    <tr>\n      <th>3</th>\n      <td>4</td>\n      <td>Anciano Gran Reserva 10 years Valdepeñas D.O. ...</td>\n      <td>Tinto</td>\n      <td>Espanha</td>\n      <td>Valdepenas</td>\n      <td>13.0</td>\n      <td>Anciano</td>\n      <td>17</td>\n      <td>750</td>\n      <td>2007.0</td>\n    </tr>\n    <tr>\n      <th>4</th>\n      <td>5</td>\n      <td>Mil Raices Selección Especial Cabernet Sauvign...</td>\n      <td>Tinto</td>\n      <td>Chile</td>\n      <td>NaN</td>\n      <td>13.0</td>\n      <td>Mil Raices</td>\n      <td>17</td>\n      <td>750</td>\n      <td>NaN</td>\n    </tr>\n  </tbody>\n</table>\n</div>"
     },
     "metadata": {},
     "output_type": "execute_result",
     "execution_count": 16
    }
   ],
   "source": [
    "wines_col = ['wine_id', 'name', 'type', 'country', 'region', 'alcohol_content', 'producer', 'service', 'volume', 'vintage']\n",
    "wines = pd.read_csv('data/wines.csv', sep=';', names=wines_col, encoding=my_encoding, engine='python')\n",
    "wines.head()"
   ],
   "metadata": {
    "collapsed": false,
    "pycharm": {
     "name": "#%%\n",
     "is_executing": false
    }
   }
  },
  {
   "cell_type": "code",
   "execution_count": 18,
   "outputs": [
    {
     "data": {
      "text/plain": "   user_id  wine_id  rating\n0       10       81       1\n1        7       52       4\n2        3       34       2\n3        1       12       1\n4        4       61       1",
      "text/html": "<div>\n<style scoped>\n    .dataframe tbody tr th:only-of-type {\n        vertical-align: middle;\n    }\n\n    .dataframe tbody tr th {\n        vertical-align: top;\n    }\n\n    .dataframe thead th {\n        text-align: right;\n    }\n</style>\n<table border=\"1\" class=\"dataframe\">\n  <thead>\n    <tr style=\"text-align: right;\">\n      <th></th>\n      <th>user_id</th>\n      <th>wine_id</th>\n      <th>rating</th>\n    </tr>\n  </thead>\n  <tbody>\n    <tr>\n      <th>0</th>\n      <td>10</td>\n      <td>81</td>\n      <td>1</td>\n    </tr>\n    <tr>\n      <th>1</th>\n      <td>7</td>\n      <td>52</td>\n      <td>4</td>\n    </tr>\n    <tr>\n      <th>2</th>\n      <td>3</td>\n      <td>34</td>\n      <td>2</td>\n    </tr>\n    <tr>\n      <th>3</th>\n      <td>1</td>\n      <td>12</td>\n      <td>1</td>\n    </tr>\n    <tr>\n      <th>4</th>\n      <td>4</td>\n      <td>61</td>\n      <td>1</td>\n    </tr>\n  </tbody>\n</table>\n</div>"
     },
     "metadata": {},
     "output_type": "execute_result",
     "execution_count": 18
    }
   ],
   "source": [
    "matrix_col = ['user_id', 'wine_id', 'rating']\n",
    "matrix = pd.read_csv('data/matrix.csv', sep=';', names=matrix_col, encoding=my_encoding, engine='python')\n",
    "matrix.head()"
   ],
   "metadata": {
    "collapsed": false,
    "pycharm": {
     "name": "#%%\n",
     "is_executing": false
    }
   }
  }
 ],
 "metadata": {
  "kernelspec": {
   "display_name": "Python 3",
   "language": "python",
   "name": "python3"
  },
  "language_info": {
   "codemirror_mode": {
    "name": "ipython",
    "version": 2
   },
   "file_extension": ".py",
   "mimetype": "text/x-python",
   "name": "python",
   "nbconvert_exporter": "python",
   "pygments_lexer": "ipython2",
   "version": "2.7.6"
  },
  "pycharm": {
   "stem_cell": {
    "cell_type": "raw",
    "source": [],
    "metadata": {
     "collapsed": false
    }
   }
  }
 },
 "nbformat": 4,
 "nbformat_minor": 0
}